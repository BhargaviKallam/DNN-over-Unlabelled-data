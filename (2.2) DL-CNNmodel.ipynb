{
 "cells": [
  {
   "cell_type": "code",
   "execution_count": 41,
   "metadata": {},
   "outputs": [],
   "source": [
    "import pandas as pd \n",
    "import numpy as np\n",
    "\n",
    "from tensorflow.python.keras import layers\n",
    "from tensorflow.keras.models import Sequential\n",
    "from tensorflow.python.keras.layers import Conv2D, Flatten, Dense\n",
    "from keras.preprocessing.text import Tokenizer\n",
    "from keras.preprocessing.sequence import pad_sequences\n",
    "from keras.wrappers.scikit_learn import KerasClassifier\n",
    "from keras.layers import Input\n",
    "from tensorflow.keras.models import load_model\n",
    "\n",
    "from sklearn.metrics import accuracy_score, f1_score, precision_score, recall_score\n",
    "from sklearn.metrics import confusion_matrix\n",
    "\n",
    "import tensorflow as tf\n",
    "tf.config.run_functions_eagerly(True)"
   ]
  },
  {
   "cell_type": "code",
   "execution_count": 43,
   "metadata": {},
   "outputs": [
    {
     "data": {
      "text/html": [
       "<div>\n",
       "<style scoped>\n",
       "    .dataframe tbody tr th:only-of-type {\n",
       "        vertical-align: middle;\n",
       "    }\n",
       "\n",
       "    .dataframe tbody tr th {\n",
       "        vertical-align: top;\n",
       "    }\n",
       "\n",
       "    .dataframe thead th {\n",
       "        text-align: right;\n",
       "    }\n",
       "</style>\n",
       "<table border=\"1\" class=\"dataframe\">\n",
       "  <thead>\n",
       "    <tr style=\"text-align: right;\">\n",
       "      <th></th>\n",
       "      <th>hmid</th>\n",
       "      <th>moment</th>\n",
       "      <th>social</th>\n",
       "      <th>agency</th>\n",
       "    </tr>\n",
       "  </thead>\n",
       "  <tbody>\n",
       "    <tr>\n",
       "      <th>0</th>\n",
       "      <td>27674</td>\n",
       "      <td>i happy my son got marks his examination</td>\n",
       "      <td>1</td>\n",
       "      <td>0</td>\n",
       "    </tr>\n",
       "    <tr>\n",
       "      <th>1</th>\n",
       "      <td>27685</td>\n",
       "      <td>went movies my friends it fun</td>\n",
       "      <td>1</td>\n",
       "      <td>1</td>\n",
       "    </tr>\n",
       "    <tr>\n",
       "      <th>2</th>\n",
       "      <td>27691</td>\n",
       "      <td>hot kiss my girl friend last night made my day</td>\n",
       "      <td>1</td>\n",
       "      <td>1</td>\n",
       "    </tr>\n",
       "    <tr>\n",
       "      <th>3</th>\n",
       "      <td>27701</td>\n",
       "      <td>my son woke me fantastic breakfast eggs his sp...</td>\n",
       "      <td>1</td>\n",
       "      <td>0</td>\n",
       "    </tr>\n",
       "    <tr>\n",
       "      <th>4</th>\n",
       "      <td>27712</td>\n",
       "      <td>my older daughter keeps patting my younger dau...</td>\n",
       "      <td>1</td>\n",
       "      <td>0</td>\n",
       "    </tr>\n",
       "  </tbody>\n",
       "</table>\n",
       "</div>"
      ],
      "text/plain": [
       "    hmid                                             moment  social  agency\n",
       "0  27674          i happy my son got marks his examination        1       0\n",
       "1  27685                     went movies my friends it fun        1       1\n",
       "2  27691    hot kiss my girl friend last night made my day        1       1\n",
       "3  27701  my son woke me fantastic breakfast eggs his sp...       1       0\n",
       "4  27712  my older daughter keeps patting my younger dau...       1       0"
      ]
     },
     "execution_count": 43,
     "metadata": {},
     "output_type": "execute_result"
    }
   ],
   "source": [
    "train_df = pd.read_pickle('train.pkl')\n",
    "train_df.name = 'Train Dataset'\n",
    "train_df.head()"
   ]
  },
  {
   "cell_type": "code",
   "execution_count": 44,
   "metadata": {},
   "outputs": [
    {
     "data": {
      "text/html": [
       "<div>\n",
       "<style scoped>\n",
       "    .dataframe tbody tr th:only-of-type {\n",
       "        vertical-align: middle;\n",
       "    }\n",
       "\n",
       "    .dataframe tbody tr th {\n",
       "        vertical-align: top;\n",
       "    }\n",
       "\n",
       "    .dataframe thead th {\n",
       "        text-align: right;\n",
       "    }\n",
       "</style>\n",
       "<table border=\"1\" class=\"dataframe\">\n",
       "  <thead>\n",
       "    <tr style=\"text-align: right;\">\n",
       "      <th></th>\n",
       "      <th>hmid</th>\n",
       "      <th>moment</th>\n",
       "      <th>social</th>\n",
       "      <th>agency</th>\n",
       "    </tr>\n",
       "  </thead>\n",
       "  <tbody>\n",
       "    <tr>\n",
       "      <th>0</th>\n",
       "      <td>0</td>\n",
       "      <td>i able spend day my fiance shopping yesterday</td>\n",
       "      <td>0</td>\n",
       "      <td>1</td>\n",
       "    </tr>\n",
       "    <tr>\n",
       "      <th>1</th>\n",
       "      <td>1</td>\n",
       "      <td>i able play my cat</td>\n",
       "      <td>0</td>\n",
       "      <td>1</td>\n",
       "    </tr>\n",
       "    <tr>\n",
       "      <th>2</th>\n",
       "      <td>2</td>\n",
       "      <td>i able clean my room gold my laundry</td>\n",
       "      <td>0</td>\n",
       "      <td>1</td>\n",
       "    </tr>\n",
       "    <tr>\n",
       "      <th>3</th>\n",
       "      <td>3</td>\n",
       "      <td>i spend day party beach i happy see friends i ...</td>\n",
       "      <td>1</td>\n",
       "      <td>1</td>\n",
       "    </tr>\n",
       "    <tr>\n",
       "      <th>4</th>\n",
       "      <td>4</td>\n",
       "      <td>my cat greeting me i got home work she sweet c...</td>\n",
       "      <td>0</td>\n",
       "      <td>0</td>\n",
       "    </tr>\n",
       "  </tbody>\n",
       "</table>\n",
       "</div>"
      ],
      "text/plain": [
       "   hmid                                             moment  social  agency\n",
       "0     0     i able spend day my fiance shopping yesterday        0       1\n",
       "1     1                                i able play my cat        0       1\n",
       "2     2              i able clean my room gold my laundry        0       1\n",
       "3     3  i spend day party beach i happy see friends i ...       1       1\n",
       "4     4  my cat greeting me i got home work she sweet c...       0       0"
      ]
     },
     "execution_count": 44,
     "metadata": {},
     "output_type": "execute_result"
    }
   ],
   "source": [
    "test_df = pd.read_pickle('test.pkl')\n",
    "test_df.name = \"Test Dataset\"\n",
    "test_df.head()"
   ]
  },
  {
   "cell_type": "code",
   "execution_count": 45,
   "metadata": {},
   "outputs": [],
   "source": [
    "X_train = train_df['moment'].values\n",
    "y_train_social = train_df['social'].values\n",
    "y_train_agency = train_df['agency'].values"
   ]
  },
  {
   "cell_type": "code",
   "execution_count": 46,
   "metadata": {},
   "outputs": [],
   "source": [
    "X_test = test_df['moment'].values\n",
    "y_test_social = test_df['social'].values\n",
    "y_test_agency = test_df['agency'].values"
   ]
  },
  {
   "cell_type": "markdown",
   "metadata": {},
   "source": [
    "###### using the CountVectorizer provided by the scikit-learn library to vectorize sentences. "
   ]
  },
  {
   "cell_type": "code",
   "execution_count": 47,
   "metadata": {},
   "outputs": [],
   "source": [
    "from sklearn.feature_extraction.text import CountVectorizer\n",
    "\n",
    "vectorizer = CountVectorizer(min_df=0, lowercase=False)\n",
    "vectorizer.fit(X_train)\n",
    "vectorizer.vocabulary_\n",
    "X_train  = vectorizer.transform(X_train).toarray()"
   ]
  },
  {
   "cell_type": "code",
   "execution_count": 48,
   "metadata": {},
   "outputs": [
    {
     "data": {
      "text/plain": [
       "((17215, 7246), (9921, 7246))"
      ]
     },
     "execution_count": 48,
     "metadata": {},
     "output_type": "execute_result"
    }
   ],
   "source": [
    "X_test  = vectorizer.transform(X_test).toarray()\n",
    "X_test.shape,X_train.shape"
   ]
  },
  {
   "cell_type": "code",
   "execution_count": 49,
   "metadata": {},
   "outputs": [
    {
     "data": {
      "text/plain": [
       "((17215,), (9921,), (17215,), (9921,))"
      ]
     },
     "execution_count": 49,
     "metadata": {},
     "output_type": "execute_result"
    }
   ],
   "source": [
    "# Our vectorized labels\n",
    "y_train_social = np.asarray(y_train_social)\n",
    "y_train_agency = np.asarray(y_train_agency)\n",
    "\n",
    "y_test_social = np.asarray(y_test_social)\n",
    "y_test_agency  = np.asarray(y_test_agency )\n",
    "\n",
    "y_test_social.shape,y_train_agency.shape,y_test_social.shape,y_train_agency.shape"
   ]
  },
  {
   "cell_type": "code",
   "execution_count": 50,
   "metadata": {},
   "outputs": [],
   "source": [
    "def transformResults(predictions):\n",
    "    \n",
    "    predictions = predictions[:, 0]\n",
    "    print(f'First 5 values before conversion : {predictions[:5]}')\n",
    "    \n",
    "    predictions = [1 if val>0.5 else 0 for val in predictions]\n",
    "    print(f'First 5 values after the conversion : {predictions[:5]}')\n",
    "    return predictions"
   ]
  },
  {
   "cell_type": "code",
   "execution_count": 51,
   "metadata": {},
   "outputs": [],
   "source": [
    "# craeting lists to store results\n",
    "models =[]\n",
    "social_accuracy=[]\n",
    "agency_acuracy=[]"
   ]
  },
  {
   "cell_type": "code",
   "execution_count": 52,
   "metadata": {},
   "outputs": [],
   "source": [
    "def getResults(y_test, model_prediction,name,temp):\n",
    "    model_prediction = transformResults(model_prediction)\n",
    "    print(\"\\n========== RESULTS ===========\\n\")\n",
    "    accuracy = accuracy_score(y_test, model_prediction)\n",
    "    precision = precision_score(y_test, model_prediction)\n",
    "    f1 = f1_score(y_test, model_prediction)\n",
    "    recall = recall_score(y_test, model_prediction)\n",
    "    \n",
    "    if(temp==1):\n",
    "        social_accuracy.append(accuracy)\n",
    "        models.append(name)\n",
    "    else:\n",
    "        agency_acuracy.append(accuracy)\n",
    "    \n",
    "    print(f'Accuracy : {accuracy}\\nPrecision : {precision}\\nF1_score : {f1}\\nRecall : {recall}\\n')\n",
    "    \n",
    "    print(\"===== CONFUSION MATRIX =====\")\n",
    "    cf_matrix = confusion_matrix(y_test_social, model_prediction)\n",
    "    print(cf_matrix)\n",
    "    \n",
    "    return accuracy, precision, f1, recall"
   ]
  },
  {
   "cell_type": "markdown",
   "metadata": {},
   "source": [
    "### Sequential model"
   ]
  },
  {
   "cell_type": "markdown",
   "metadata": {},
   "source": [
    "###### Keras Model\n",
    "Keras accepts two types of models. There are two APIs: the Sequential model API and the functional API, which can do everything the Sequential model can do but can also be used for advanced models with complex network architectures. The Sequential model is a linear stack of layers in which you can use any of the Keras layers. The Dense layer is the most common, and it is your standard densely connected neural network layer with all of the weights and biases that you are already familiar with. We need to know the input dimension of our feature vectors before we can build our model. This occurs only in the first layer, as the subsequent layers can perform automatic shape inference. You can build the Sequential model by adding layers one by one.\n",
    "\n",
    "A Sequential model is appropriate for a plain stack of layers where each layer has exactly one input tensor and one output tensor."
   ]
  },
  {
   "cell_type": "code",
   "execution_count": 53,
   "metadata": {},
   "outputs": [],
   "source": [
    "input_dimention = X_train.shape[1]  # Number of features\n",
    "\n",
    "Kerasmodel = Sequential()\n",
    "Kerasmodel.add(layers.Dense(10, input_dim=input_dimention, activation='relu'))\n",
    "Kerasmodel.add(layers.Dense(1, activation='sigmoid'))"
   ]
  },
  {
   "cell_type": "code",
   "execution_count": 54,
   "metadata": {},
   "outputs": [
    {
     "name": "stdout",
     "output_type": "stream",
     "text": [
      "Model: \"sequential_4\"\n",
      "_________________________________________________________________\n",
      "Layer (type)                 Output Shape              Param #   \n",
      "=================================================================\n",
      "dense_8 (Dense)              (None, 10)                72470     \n",
      "_________________________________________________________________\n",
      "dense_9 (Dense)              (None, 1)                 11        \n",
      "=================================================================\n",
      "Total params: 72,481\n",
      "Trainable params: 72,481\n",
      "Non-trainable params: 0\n",
      "_________________________________________________________________\n"
     ]
    }
   ],
   "source": [
    "Kerasmodel.compile(loss='binary_crossentropy', \n",
    "              optimizer='adam', \n",
    "              metrics=['accuracy'])\n",
    "Kerasmodel.summary()"
   ]
  },
  {
   "cell_type": "markdown",
   "metadata": {},
   "source": [
    "###### Model fit for  target Label \"social\" "
   ]
  },
  {
   "cell_type": "code",
   "execution_count": 55,
   "metadata": {},
   "outputs": [
    {
     "name": "stdout",
     "output_type": "stream",
     "text": [
      "Epoch 1/10\n",
      "794/794 [==============================] - 8s 10ms/step - loss: 0.5636 - accuracy: 0.7518 - val_loss: 0.3104 - val_accuracy: 0.8972\n",
      "Epoch 2/10\n",
      "794/794 [==============================] - 9s 11ms/step - loss: 0.2398 - accuracy: 0.9212 - val_loss: 0.2739 - val_accuracy: 0.9013\n",
      "Epoch 3/10\n",
      "794/794 [==============================] - 8s 10ms/step - loss: 0.1591 - accuracy: 0.9517 - val_loss: 0.2754 - val_accuracy: 0.9018\n",
      "Epoch 4/10\n",
      "794/794 [==============================] - 8s 10ms/step - loss: 0.1267 - accuracy: 0.9616 - val_loss: 0.2916 - val_accuracy: 0.9003\n",
      "Epoch 5/10\n",
      "794/794 [==============================] - 8s 10ms/step - loss: 0.1016 - accuracy: 0.9691 - val_loss: 0.3141 - val_accuracy: 0.8962\n",
      "Epoch 6/10\n",
      "794/794 [==============================] - 11s 14ms/step - loss: 0.0906 - accuracy: 0.9736 - val_loss: 0.3378 - val_accuracy: 0.8962\n",
      "Epoch 7/10\n",
      "794/794 [==============================] - 13s 16ms/step - loss: 0.0767 - accuracy: 0.9782 - val_loss: 0.3622 - val_accuracy: 0.8932\n",
      "Epoch 8/10\n",
      "794/794 [==============================] - 8s 11ms/step - loss: 0.0598 - accuracy: 0.9835 - val_loss: 0.3943 - val_accuracy: 0.8902\n",
      "Epoch 9/10\n",
      "794/794 [==============================] - 8s 11ms/step - loss: 0.0517 - accuracy: 0.9856 - val_loss: 0.4225 - val_accuracy: 0.8831\n",
      "Epoch 10/10\n",
      "794/794 [==============================] - 8s 11ms/step - loss: 0.0439 - accuracy: 0.9873 - val_loss: 0.4471 - val_accuracy: 0.8821\n"
     ]
    }
   ],
   "source": [
    "history = Kerasmodel.fit(X_train, y_train_social,\n",
    "                    epochs=10,\n",
    "                    verbose=True,\n",
    "                    validation_split=0.2,\n",
    "                    batch_size=10)"
   ]
  },
  {
   "cell_type": "code",
   "execution_count": 56,
   "metadata": {},
   "outputs": [
    {
     "name": "stdout",
     "output_type": "stream",
     "text": [
      "538/538 [==============================] - 4s 7ms/step - loss: 0.4321 - accuracy: 0.8778\n",
      "Test Score: 0.4320727288722992\n",
      "Test Accuracy: 0.8777810335159302\n"
     ]
    }
   ],
   "source": [
    "score = Kerasmodel.evaluate(X_test, y_test_social, verbose=1)\n",
    "print(\"Test Score:\", score[0])\n",
    "print(\"Test Accuracy:\", score[1])"
   ]
  },
  {
   "cell_type": "code",
   "execution_count": 57,
   "metadata": {},
   "outputs": [
    {
     "name": "stdout",
     "output_type": "stream",
     "text": [
      "[0.99709654 0.30441827 0.9371798  ... 0.99876904 0.01901272 0.11965746]\n",
      "First 5 values before conversion : [0.99709654 0.30441827 0.9371798  0.9658755  0.62366444]\n",
      "First 5 values after the conversion : [1, 0, 1, 1, 1]\n",
      "\n",
      "========== RESULTS ===========\n",
      "\n",
      "Accuracy : 0.8777810049375545\n",
      "Precision : 0.8963527714815578\n",
      "F1_score : 0.8921246923707958\n",
      "Recall : 0.8879363135333742\n",
      "\n",
      "===== CONFUSION MATRIX =====\n",
      "[[6411 1006]\n",
      " [1098 8700]]\n"
     ]
    }
   ],
   "source": [
    "predictions = Kerasmodel.predict(X_test)\n",
    "print(predictions[:,0])\n",
    "name =\"Sequential model\"\n",
    "social_results = getResults(y_test_social, predictions,name,1)"
   ]
  },
  {
   "cell_type": "markdown",
   "metadata": {},
   "source": [
    "###### Model fit for target Label \"agency\""
   ]
  },
  {
   "cell_type": "code",
   "execution_count": 58,
   "metadata": {},
   "outputs": [
    {
     "name": "stdout",
     "output_type": "stream",
     "text": [
      "Epoch 1/10\n",
      "794/794 [==============================] - 9s 12ms/step - loss: 0.8469 - accuracy: 0.6820 - val_loss: 0.5351 - val_accuracy: 0.7285\n",
      "Epoch 2/10\n",
      "794/794 [==============================] - 11s 14ms/step - loss: 0.5008 - accuracy: 0.7314 - val_loss: 0.5021 - val_accuracy: 0.7300\n",
      "Epoch 3/10\n",
      "794/794 [==============================] - 11s 14ms/step - loss: 0.4518 - accuracy: 0.7353 - val_loss: 0.4841 - val_accuracy: 0.7703\n",
      "Epoch 4/10\n",
      "794/794 [==============================] - 11s 14ms/step - loss: 0.4122 - accuracy: 0.8096 - val_loss: 0.4734 - val_accuracy: 0.7778\n",
      "Epoch 5/10\n",
      "794/794 [==============================] - 11s 13ms/step - loss: 0.3786 - accuracy: 0.8332 - val_loss: 0.4681 - val_accuracy: 0.7834\n",
      "Epoch 6/10\n",
      "794/794 [==============================] - 11s 13ms/step - loss: 0.3483 - accuracy: 0.8516 - val_loss: 0.4722 - val_accuracy: 0.7884\n",
      "Epoch 7/10\n",
      "794/794 [==============================] - 11s 14ms/step - loss: 0.3226 - accuracy: 0.8645 - val_loss: 0.4741 - val_accuracy: 0.7844\n",
      "Epoch 8/10\n",
      "794/794 [==============================] - 11s 14ms/step - loss: 0.2989 - accuracy: 0.8759 - val_loss: 0.4821 - val_accuracy: 0.7824\n",
      "Epoch 9/10\n",
      "794/794 [==============================] - 11s 14ms/step - loss: 0.2784 - accuracy: 0.8881 - val_loss: 0.4938 - val_accuracy: 0.7849\n",
      "Epoch 10/10\n",
      "794/794 [==============================] - 11s 14ms/step - loss: 0.2601 - accuracy: 0.8968 - val_loss: 0.5103 - val_accuracy: 0.7839\n"
     ]
    }
   ],
   "source": [
    "history = Kerasmodel.fit(X_train, y_train_agency,\n",
    "                    epochs=10,\n",
    "                    verbose=True,\n",
    "                    validation_split=0.2,\n",
    "                    batch_size=10)"
   ]
  },
  {
   "cell_type": "code",
   "execution_count": 59,
   "metadata": {},
   "outputs": [
    {
     "name": "stdout",
     "output_type": "stream",
     "text": [
      "538/538 [==============================] - 5s 8ms/step - loss: 0.5739 - accuracy: 0.7565\n",
      "Test Score: 0.5739454627037048\n",
      "Test Accuracy: 0.7564914226531982\n"
     ]
    }
   ],
   "source": [
    "score = Kerasmodel.evaluate(X_test, y_test_agency, verbose=1)\n",
    "print(\"Test Score:\", score[0])\n",
    "print(\"Test Accuracy:\", score[1])"
   ]
  },
  {
   "cell_type": "code",
   "execution_count": 60,
   "metadata": {},
   "outputs": [
    {
     "name": "stdout",
     "output_type": "stream",
     "text": [
      "[0.9953363  0.9348954  0.9443674  ... 0.5293682  0.59180975 0.99659425]\n",
      "First 5 values before conversion : [0.9953363 0.9348954 0.9443674 0.99998   0.2606855]\n",
      "First 5 values after the conversion : [1, 1, 1, 1, 0]\n",
      "\n",
      "========== RESULTS ===========\n",
      "\n",
      "Accuracy : 0.7564914318907929\n",
      "Precision : 0.8194288464623777\n",
      "F1_score : 0.8297457558281212\n",
      "Recall : 0.8403257650542941\n",
      "\n",
      "===== CONFUSION MATRIX =====\n",
      "[[1118 6299]\n",
      " [3631 6167]]\n"
     ]
    }
   ],
   "source": [
    "predictions = Kerasmodel.predict(X_test)\n",
    "print(predictions[:,0])\n",
    "name =\"Sequential model\"\n",
    "agency_results = getResults(y_test_agency, predictions,name,0)"
   ]
  },
  {
   "cell_type": "markdown",
   "metadata": {},
   "source": [
    "###### Word Embedding\n",
    "Unlike one-hot encoding, which is hardcoded, this method represents words as dense word vectors (also known as word embeddings) that are trained. This means that word embeddings store more information in fewer dimensions."
   ]
  },
  {
   "cell_type": "code",
   "execution_count": 61,
   "metadata": {},
   "outputs": [],
   "source": [
    "MAX_SEQUENCE_LENGTH=500\n",
    "EMBEDDING_DIM=300 \n",
    "dropout=0.5\n",
    "\n",
    "def loadData_Tokenizer(X_train, X_test):\n",
    "    \n",
    "    tokenizer = Tokenizer(num_words=5000, lower = False)\n",
    "\n",
    "    X_train = train_df['moment'].values\n",
    "    X_test = test_df['moment'].values\n",
    "\n",
    "    tokenizer.fit_on_texts(X_train)\n",
    "\n",
    "    X_train = tokenizer.texts_to_sequences(X_train)\n",
    "    X_test = tokenizer.texts_to_sequences(X_test)\n",
    "    \n",
    "    vocab_size = len(tokenizer.word_index) + 1  # Adding 1 because of reserved 0 index\n",
    "    \n",
    "    word_inndex =tokenizer.word_index\n",
    "\n",
    "    \n",
    "    return (X_train, X_test,vocab_size,word_inndex )\n",
    "\n",
    "X_train,X_test, vocab_size,word_inndex= loadData_Tokenizer(X_train,X_test)"
   ]
  },
  {
   "cell_type": "code",
   "execution_count": 62,
   "metadata": {},
   "outputs": [
    {
     "data": {
      "text/plain": [
       "((9921, 25), (17215, 25))"
      ]
     },
     "execution_count": 62,
     "metadata": {},
     "output_type": "execute_result"
    }
   ],
   "source": [
    "maxlen = 25\n",
    "\n",
    "\n",
    "X_train = pad_sequences(X_train, padding='post', maxlen=maxlen)\n",
    "X_test = pad_sequences(X_test, padding='post', maxlen=maxlen)\n",
    "\n",
    "X_train.shape, X_test.shape"
   ]
  },
  {
   "cell_type": "markdown",
   "metadata": {},
   "source": [
    "### Sequential model + Keras Embedding Layer"
   ]
  },
  {
   "cell_type": "markdown",
   "metadata": {},
   "source": [
    "###### Keras Embedding Layer\n",
    "Now you can use Keras Embedding Layer to map the previously calculated integers to a dense vector of the embedding. The following parameters are required: input_dim: the size of the vocabulary output_dim: the size of the dense vector input_length: the length of the sequence We now have a couple of options with the Embedding layer. One approach would be to plug the embedding layers output into a Dense layer. To accomplish this, insert a Flatten layer between them that prepares the sequential input for the Dense layer."
   ]
  },
  {
   "cell_type": "code",
   "execution_count": 63,
   "metadata": {},
   "outputs": [
    {
     "name": "stdout",
     "output_type": "stream",
     "text": [
      "Model: \"sequential_5\"\n",
      "_________________________________________________________________\n",
      "Layer (type)                 Output Shape              Param #   \n",
      "=================================================================\n",
      "embedding_3 (Embedding)      (None, 25, 50)            363150    \n",
      "_________________________________________________________________\n",
      "flatten_1 (Flatten)          (None, 1250)              0         \n",
      "_________________________________________________________________\n",
      "dense_10 (Dense)             (None, 10)                12510     \n",
      "_________________________________________________________________\n",
      "dense_11 (Dense)             (None, 1)                 11        \n",
      "=================================================================\n",
      "Total params: 375,671\n",
      "Trainable params: 375,671\n",
      "Non-trainable params: 0\n",
      "_________________________________________________________________\n"
     ]
    }
   ],
   "source": [
    "embedding_dim = 50\n",
    "\n",
    "model = Sequential()\n",
    "model.add(layers.Embedding(input_dim=vocab_size, \n",
    "                           output_dim=embedding_dim, \n",
    "                           input_length=maxlen))\n",
    "model.add(layers.Flatten())\n",
    "model.add(layers.Dense(10, activation='relu'))\n",
    "model.add(layers.Dense(1, activation='sigmoid'))\n",
    "model.compile(optimizer='adam',\n",
    "              loss='binary_crossentropy',\n",
    "              metrics=['accuracy'])\n",
    "model.summary()"
   ]
  },
  {
   "cell_type": "markdown",
   "metadata": {},
   "source": [
    "###### Model fit for target label \"social\""
   ]
  },
  {
   "cell_type": "code",
   "execution_count": 64,
   "metadata": {},
   "outputs": [
    {
     "name": "stdout",
     "output_type": "stream",
     "text": [
      "Epoch 1/10\n",
      "794/794 [==============================] - 25s 31ms/step - loss: 0.5088 - accuracy: 0.7517 - val_loss: 0.2787 - val_accuracy: 0.8927\n",
      "Epoch 2/10\n",
      "794/794 [==============================] - 22s 27ms/step - loss: 0.2018 - accuracy: 0.9309 - val_loss: 0.2769 - val_accuracy: 0.8942\n",
      "Epoch 3/10\n",
      "794/794 [==============================] - 21s 27ms/step - loss: 0.1125 - accuracy: 0.9671 - val_loss: 0.3229 - val_accuracy: 0.8811\n",
      "Epoch 4/10\n",
      "794/794 [==============================] - 22s 28ms/step - loss: 0.0527 - accuracy: 0.9852 - val_loss: 0.3730 - val_accuracy: 0.8776\n",
      "Epoch 5/10\n",
      "794/794 [==============================] - 22s 28ms/step - loss: 0.0303 - accuracy: 0.9937 - val_loss: 0.4532 - val_accuracy: 0.8610\n",
      "Epoch 6/10\n",
      "794/794 [==============================] - 21s 27ms/step - loss: 0.0182 - accuracy: 0.9949 - val_loss: 0.4830 - val_accuracy: 0.8811\n",
      "Epoch 7/10\n",
      "794/794 [==============================] - 21s 26ms/step - loss: 0.0095 - accuracy: 0.9979 - val_loss: 0.5355 - val_accuracy: 0.8771\n",
      "Epoch 8/10\n",
      "794/794 [==============================] - 21s 27ms/step - loss: 0.0067 - accuracy: 0.9986 - val_loss: 0.5676 - val_accuracy: 0.8751\n",
      "Epoch 9/10\n",
      "794/794 [==============================] - 22s 28ms/step - loss: 0.0044 - accuracy: 0.9986 - val_loss: 0.6299 - val_accuracy: 0.8725\n",
      "Epoch 10/10\n",
      "794/794 [==============================] - 23s 29ms/step - loss: 0.0050 - accuracy: 0.9985 - val_loss: 0.6468 - val_accuracy: 0.8685\n"
     ]
    }
   ],
   "source": [
    "history = model.fit(X_train, y_train_social,\n",
    "                    epochs=10,\n",
    "                    verbose=True,\n",
    "                    validation_split=0.2,\n",
    "                    batch_size=10)"
   ]
  },
  {
   "cell_type": "code",
   "execution_count": 65,
   "metadata": {},
   "outputs": [
    {
     "name": "stdout",
     "output_type": "stream",
     "text": [
      "538/538 [==============================] - 6s 10ms/step - loss: 0.6496 - accuracy: 0.8616\n",
      "Test Score: 0.6495831608772278\n",
      "Test Accuracy: 0.8615742325782776\n",
      "[9.9997830e-01 4.2547777e-01 8.0466348e-01 ... 1.0000000e+00 1.7039120e-02\n",
      " 9.0593100e-04]\n",
      "First 5 values before conversion : [0.9999783  0.42547777 0.8046635  0.9960786  0.99927855]\n",
      "First 5 values after the conversion : [1, 0, 1, 1, 1]\n",
      "\n",
      "========== RESULTS ===========\n",
      "\n",
      "Accuracy : 0.8615742085390647\n",
      "Precision : 0.8804515135967163\n",
      "F1_score : 0.8780637568438827\n",
      "Recall : 0.8756889161053276\n",
      "\n",
      "===== CONFUSION MATRIX =====\n",
      "[[6252 1165]\n",
      " [1218 8580]]\n"
     ]
    }
   ],
   "source": [
    "score = model.evaluate(X_test, y_test_social, verbose=1)\n",
    "print(\"Test Score:\", score[0])\n",
    "print(\"Test Accuracy:\", score[1])\n",
    "\n",
    "predictions = model.predict(X_test)\n",
    "print(predictions[:,0])\n",
    "name=\"Sequentialmodel + KerasEmbeddingLayer\"\n",
    "social_results = getResults(y_test_social, predictions,name,1)"
   ]
  },
  {
   "cell_type": "markdown",
   "metadata": {},
   "source": [
    "###### Model fit for target label \"agency\""
   ]
  },
  {
   "cell_type": "code",
   "execution_count": 66,
   "metadata": {},
   "outputs": [
    {
     "name": "stdout",
     "output_type": "stream",
     "text": [
      "Epoch 1/10\n",
      "794/794 [==============================] - 25s 32ms/step - loss: 0.6642 - accuracy: 0.7201 - val_loss: 0.5834 - val_accuracy: 0.7335\n",
      "Epoch 2/10\n",
      "794/794 [==============================] - 24s 31ms/step - loss: 0.5854 - accuracy: 0.7269 - val_loss: 0.5801 - val_accuracy: 0.7335\n",
      "Epoch 3/10\n",
      "794/794 [==============================] - 24s 31ms/step - loss: 0.5836 - accuracy: 0.7279 - val_loss: 0.5794 - val_accuracy: 0.7335\n",
      "Epoch 4/10\n",
      "794/794 [==============================] - 25s 31ms/step - loss: 0.5549 - accuracy: 0.7518 - val_loss: 0.4884 - val_accuracy: 0.8091\n",
      "Epoch 5/10\n",
      "794/794 [==============================] - 24s 30ms/step - loss: 0.4378 - accuracy: 0.8320 - val_loss: 0.4367 - val_accuracy: 0.8272\n",
      "Epoch 6/10\n",
      "794/794 [==============================] - 22s 28ms/step - loss: 0.3191 - accuracy: 0.8813 - val_loss: 0.4070 - val_accuracy: 0.8277\n",
      "Epoch 7/10\n",
      "794/794 [==============================] - 22s 28ms/step - loss: 0.2113 - accuracy: 0.9230 - val_loss: 0.4353 - val_accuracy: 0.8232\n",
      "Epoch 8/10\n",
      "794/794 [==============================] - 24s 30ms/step - loss: 0.1332 - accuracy: 0.9524 - val_loss: 0.4876 - val_accuracy: 0.8212\n",
      "Epoch 9/10\n",
      "794/794 [==============================] - 23s 29ms/step - loss: 0.0784 - accuracy: 0.9732 - val_loss: 0.5950 - val_accuracy: 0.8237\n",
      "Epoch 10/10\n",
      "794/794 [==============================] - 25s 32ms/step - loss: 0.0499 - accuracy: 0.9826 - val_loss: 0.6782 - val_accuracy: 0.8086\n"
     ]
    }
   ],
   "source": [
    "history = model.fit(X_train, y_train_agency,\n",
    "                    epochs=10,\n",
    "                    verbose=True,\n",
    "                    validation_split=0.2,\n",
    "                    batch_size=10)"
   ]
  },
  {
   "cell_type": "code",
   "execution_count": 67,
   "metadata": {},
   "outputs": [
    {
     "name": "stdout",
     "output_type": "stream",
     "text": [
      "538/538 [==============================] - 3s 6ms/step - loss: 0.7710 - accuracy: 0.7688\n",
      "Test Score: 0.7709935307502747\n",
      "Test Accuracy: 0.7688062787055969\n",
      "[0.99999017 0.9999995  0.99992967 ... 0.0659101  0.9793694  0.9999591 ]\n",
      "First 5 values before conversion : [0.99999017 0.9999995  0.99992967 0.99971825 0.53618723]\n",
      "First 5 values after the conversion : [1, 1, 1, 1, 1]\n",
      "\n",
      "========== RESULTS ===========\n",
      "\n",
      "Accuracy : 0.7688062735986059\n",
      "Precision : 0.8446880269814503\n",
      "F1_score : 0.8342771485676215\n",
      "Recall : 0.8241197762421849\n",
      "\n",
      "===== CONFUSION MATRIX =====\n",
      "[[1382 6035]\n",
      " [3973 5825]]\n"
     ]
    }
   ],
   "source": [
    "score = model.evaluate(X_test, y_test_agency, verbose=1)\n",
    "print(\"Test Score:\", score[0])\n",
    "print(\"Test Accuracy:\", score[1])\n",
    "\n",
    "predictions = model.predict(X_test)\n",
    "print(predictions[:,0])\n",
    "agency_results = getResults(y_test_agency, predictions,name,0)"
   ]
  },
  {
   "cell_type": "markdown",
   "metadata": {},
   "source": [
    "### Sequential model + Keras Embedding Layer + GlobalMaxPooling1D layer + CNN"
   ]
  },
  {
   "cell_type": "markdown",
   "metadata": {},
   "source": [
    "###### Convolutional Neural Networks (CNN)\n",
    "Convolutional layers are the hidden layers in a CNN. These convolutional layers can detect edges, corners, and other types of textures, making them a unique tool. The convolutional layer is made up of multiple filters that are slid across the image to detect specific features."
   ]
  },
  {
   "cell_type": "code",
   "execution_count": 68,
   "metadata": {},
   "outputs": [
    {
     "name": "stdout",
     "output_type": "stream",
     "text": [
      "Model: \"sequential_6\"\n",
      "_________________________________________________________________\n",
      "Layer (type)                 Output Shape              Param #   \n",
      "=================================================================\n",
      "embedding_4 (Embedding)      (None, 25, 100)           726300    \n",
      "_________________________________________________________________\n",
      "conv1d_2 (Conv1D)            (None, 21, 128)           64128     \n",
      "_________________________________________________________________\n",
      "global_max_pooling1d_2 (Glob (None, 128)               0         \n",
      "_________________________________________________________________\n",
      "dense_12 (Dense)             (None, 10)                1290      \n",
      "_________________________________________________________________\n",
      "dense_13 (Dense)             (None, 1)                 11        \n",
      "=================================================================\n",
      "Total params: 791,729\n",
      "Trainable params: 791,729\n",
      "Non-trainable params: 0\n",
      "_________________________________________________________________\n"
     ]
    }
   ],
   "source": [
    "embedding_dim = 100\n",
    "\n",
    "cnn_model = Sequential()\n",
    "cnn_model.add(layers.Embedding(vocab_size, embedding_dim, input_length=maxlen))\n",
    "cnn_model.add(layers.Conv1D(128, 5, activation='relu'))\n",
    "cnn_model.add(layers.GlobalMaxPooling1D())\n",
    "cnn_model.add(layers.Dense(10, activation='relu'))\n",
    "cnn_model.add(layers.Dense(1, activation='sigmoid'))\n",
    "cnn_model.compile(optimizer='adam',\n",
    "              loss='binary_crossentropy',\n",
    "              metrics=['accuracy'])\n",
    "cnn_model.summary()"
   ]
  },
  {
   "cell_type": "markdown",
   "metadata": {},
   "source": [
    "###### Model fit for label \"social\""
   ]
  },
  {
   "cell_type": "code",
   "execution_count": 69,
   "metadata": {},
   "outputs": [
    {
     "name": "stdout",
     "output_type": "stream",
     "text": [
      "Epoch 1/10\n",
      "794/794 [==============================] - 38s 46ms/step - loss: 0.4312 - accuracy: 0.7921 - val_loss: 0.2588 - val_accuracy: 0.9073\n",
      "Epoch 2/10\n",
      "794/794 [==============================] - 42s 53ms/step - loss: 0.1578 - accuracy: 0.9433 - val_loss: 0.2843 - val_accuracy: 0.8942\n",
      "Epoch 3/10\n",
      "794/794 [==============================] - 50s 63ms/step - loss: 0.0755 - accuracy: 0.9765 - val_loss: 0.3576 - val_accuracy: 0.8872\n",
      "Epoch 4/10\n",
      "794/794 [==============================] - 44s 56ms/step - loss: 0.0320 - accuracy: 0.9896 - val_loss: 0.4839 - val_accuracy: 0.8892\n",
      "Epoch 5/10\n",
      "794/794 [==============================] - 41s 52ms/step - loss: 0.0124 - accuracy: 0.9964 - val_loss: 0.5840 - val_accuracy: 0.8630\n",
      "Epoch 6/10\n",
      "794/794 [==============================] - 40s 51ms/step - loss: 0.0062 - accuracy: 0.9989 - val_loss: 0.5536 - val_accuracy: 0.8816\n",
      "Epoch 7/10\n",
      "794/794 [==============================] - 39s 49ms/step - loss: 0.0040 - accuracy: 0.9988 - val_loss: 0.6766 - val_accuracy: 0.8579\n",
      "Epoch 8/10\n",
      "794/794 [==============================] - 42s 52ms/step - loss: 0.0123 - accuracy: 0.9958 - val_loss: 0.6989 - val_accuracy: 0.8861\n",
      "Epoch 9/10\n",
      "794/794 [==============================] - 40s 51ms/step - loss: 0.0040 - accuracy: 0.9991 - val_loss: 0.7214 - val_accuracy: 0.8831\n",
      "Epoch 10/10\n",
      "794/794 [==============================] - 28s 35ms/step - loss: 0.0024 - accuracy: 0.9995 - val_loss: 0.8158 - val_accuracy: 0.8786\n"
     ]
    }
   ],
   "source": [
    "history = cnn_model.fit(X_train, y_train_social,\n",
    "                    epochs=10,\n",
    "                    verbose=True,\n",
    "                    validation_split=0.2,\n",
    "                    batch_size=10)"
   ]
  },
  {
   "cell_type": "code",
   "execution_count": 70,
   "metadata": {},
   "outputs": [
    {
     "name": "stdout",
     "output_type": "stream",
     "text": [
      "538/538 [==============================] - 4s 7ms/step - loss: 0.7287 - accuracy: 0.8812\n",
      "Test Score: 0.7287238240242004\n",
      "Test Accuracy: 0.8812082409858704\n",
      "[1.0000000e+00 6.5449476e-03 7.0615321e-02 ... 9.9999976e-01 3.3387840e-03\n",
      " 1.6718799e-07]\n",
      "First 5 values before conversion : [1.         0.00654495 0.07061532 0.99993676 0.22685966]\n",
      "First 5 values after the conversion : [1, 0, 0, 1, 0]\n",
      "\n",
      "========== RESULTS ===========\n",
      "\n",
      "Accuracy : 0.8812082486203892\n",
      "Precision : 0.8833943230145386\n",
      "F1_score : 0.8972826359937716\n",
      "Recall : 0.9116146152275975\n",
      "\n",
      "===== CONFUSION MATRIX =====\n",
      "[[6238 1179]\n",
      " [ 866 8932]]\n"
     ]
    }
   ],
   "source": [
    "score = cnn_model.evaluate(X_test, y_test_social, verbose=1)\n",
    "print(\"Test Score:\", score[0])\n",
    "print(\"Test Accuracy:\", score[1])\n",
    "\n",
    "predictions = cnn_model.predict(X_test)\n",
    "print(predictions[:,0])\n",
    "name='Sequential model + Keras Embedding Layer + CNN'\n",
    "social_results = getResults(y_test_social, predictions,name,1)"
   ]
  },
  {
   "cell_type": "markdown",
   "metadata": {},
   "source": [
    "###### Model fit for label \"agency\""
   ]
  },
  {
   "cell_type": "code",
   "execution_count": 71,
   "metadata": {},
   "outputs": [
    {
     "name": "stdout",
     "output_type": "stream",
     "text": [
      "Epoch 1/10\n",
      "794/794 [==============================] - 27s 34ms/step - loss: 0.4746 - accuracy: 0.8017 - val_loss: 0.3785 - val_accuracy: 0.8332\n",
      "Epoch 2/10\n",
      "794/794 [==============================] - 27s 34ms/step - loss: 0.2320 - accuracy: 0.8987 - val_loss: 0.4041 - val_accuracy: 0.8262\n",
      "Epoch 3/10\n",
      "794/794 [==============================] - 26s 33ms/step - loss: 0.1088 - accuracy: 0.9575 - val_loss: 0.4983 - val_accuracy: 0.8136\n",
      "Epoch 4/10\n",
      "794/794 [==============================] - 26s 33ms/step - loss: 0.0445 - accuracy: 0.9855 - val_loss: 0.6377 - val_accuracy: 0.8060\n",
      "Epoch 5/10\n",
      "794/794 [==============================] - 26s 33ms/step - loss: 0.0227 - accuracy: 0.9929 - val_loss: 0.6719 - val_accuracy: 0.8086\n",
      "Epoch 6/10\n",
      "794/794 [==============================] - 26s 33ms/step - loss: 0.0139 - accuracy: 0.9965 - val_loss: 0.8531 - val_accuracy: 0.8040\n",
      "Epoch 7/10\n",
      "794/794 [==============================] - 26s 33ms/step - loss: 0.0090 - accuracy: 0.9968 - val_loss: 0.9223 - val_accuracy: 0.8060\n",
      "Epoch 8/10\n",
      "794/794 [==============================] - 27s 34ms/step - loss: 0.0074 - accuracy: 0.9982 - val_loss: 0.9663 - val_accuracy: 0.8060\n",
      "Epoch 9/10\n",
      "794/794 [==============================] - 26s 33ms/step - loss: 0.0066 - accuracy: 0.9980 - val_loss: 1.0906 - val_accuracy: 0.8050\n",
      "Epoch 10/10\n",
      "794/794 [==============================] - 26s 33ms/step - loss: 0.0091 - accuracy: 0.9968 - val_loss: 1.2013 - val_accuracy: 0.7990\n"
     ]
    }
   ],
   "source": [
    "history = cnn_model.fit(X_train, y_train_agency,\n",
    "                    epochs=10,\n",
    "                    verbose=True,\n",
    "                    validation_split=0.2,\n",
    "                    batch_size=10)"
   ]
  },
  {
   "cell_type": "code",
   "execution_count": 72,
   "metadata": {},
   "outputs": [
    {
     "name": "stdout",
     "output_type": "stream",
     "text": [
      "538/538 [==============================] - 4s 7ms/step - loss: 1.3628 - accuracy: 0.7853\n",
      "Test Score: 1.3628473281860352\n",
      "Test Accuracy: 0.78530353307724\n",
      "[1.         1.         1.         ... 0.9999978  0.99999917 1.        ]\n",
      "First 5 values before conversion : [1.         1.         1.         1.         0.06686971]\n",
      "First 5 values after the conversion : [1, 1, 1, 1, 0]\n",
      "\n",
      "========== RESULTS ===========\n",
      "\n",
      "Accuracy : 0.7853035143769969\n",
      "Precision : 0.8221139201949437\n",
      "F1_score : 0.853843720341664\n",
      "Recall : 0.8881210924646266\n",
      "\n",
      "===== CONFUSION MATRIX =====\n",
      "[[ 902 6515]\n",
      " [3181 6617]]\n"
     ]
    }
   ],
   "source": [
    "score = cnn_model.evaluate(X_test, y_test_agency, verbose=1)\n",
    "print(\"Test Score:\", score[0])\n",
    "print(\"Test Accuracy:\", score[1])\n",
    "\n",
    "predictions = cnn_model.predict(X_test)\n",
    "print(predictions[:,0])\n",
    "agency_results = getResults(y_test_agency, predictions,name,0)"
   ]
  },
  {
   "cell_type": "markdown",
   "metadata": {},
   "source": [
    "### Sequential model + Glove Embedding Layer + GlobalMaxPooling1D layer + CNN"
   ]
  },
  {
   "cell_type": "code",
   "execution_count": 73,
   "metadata": {},
   "outputs": [],
   "source": [
    "X_train = train_df['moment'].values\n",
    "X_test = test_df['moment'].values\n",
    "\n",
    "tokenizer = Tokenizer()\n",
    "tokenizer.fit_on_texts(X_train)\n",
    "\n",
    "X_train = tokenizer.texts_to_sequences(X_train)\n",
    "X_test = tokenizer.texts_to_sequences(X_test)\n",
    "\n",
    "vocab_size = len(tokenizer.word_index) + 1\n",
    "\n",
    "maxlen = 25\n",
    "\n",
    "X_train = pad_sequences(X_train, padding='post', maxlen=maxlen)\n",
    "X_test = pad_sequences(X_test, padding='post', maxlen=maxlen)"
   ]
  },
  {
   "cell_type": "code",
   "execution_count": 74,
   "metadata": {},
   "outputs": [],
   "source": [
    "embeddings_dictionary = dict()\n",
    "\n",
    "glove_file = open('glove.6B.300d.txt', encoding=\"utf8\")\n",
    "\n",
    "for line in glove_file:\n",
    "    records = line.split()\n",
    "    word = records[0]\n",
    "    vector_dimensions = np.asarray(records[1:], dtype='float32')\n",
    "    embeddings_dictionary[word] = vector_dimensions\n",
    "glove_file.close()\n",
    "\n",
    "embedding_matrix = np.zeros((vocab_size, 300))\n",
    "for word, index in word_inndex.items():\n",
    "    embedding_vector = embeddings_dictionary.get(word)\n",
    "    if embedding_vector is not None:\n",
    "        embedding_matrix[index] = embedding_vector"
   ]
  },
  {
   "cell_type": "code",
   "execution_count": 75,
   "metadata": {},
   "outputs": [
    {
     "name": "stdout",
     "output_type": "stream",
     "text": [
      "Model: \"sequential_7\"\n",
      "_________________________________________________________________\n",
      "Layer (type)                 Output Shape              Param #   \n",
      "=================================================================\n",
      "embedding_5 (Embedding)      (None, None, 300)         2178900   \n",
      "_________________________________________________________________\n",
      "conv1d_3 (Conv1D)            (None, None, 128)         192128    \n",
      "_________________________________________________________________\n",
      "global_max_pooling1d_3 (Glob (None, 128)               0         \n",
      "_________________________________________________________________\n",
      "dense_14 (Dense)             (None, 10)                1290      \n",
      "_________________________________________________________________\n",
      "dense_15 (Dense)             (None, 1)                 11        \n",
      "=================================================================\n",
      "Total params: 2,372,329\n",
      "Trainable params: 193,429\n",
      "Non-trainable params: 2,178,900\n",
      "_________________________________________________________________\n"
     ]
    }
   ],
   "source": [
    "embedding_dim = 100\n",
    "\n",
    "cnn_g_model = Sequential()\n",
    "cnn_g_model.add(layers.Embedding(vocab_size,\n",
    "                            300,\n",
    "                            weights=[embedding_matrix],\n",
    "                            trainable=False))\n",
    "cnn_g_model.add(layers.Conv1D(128, 5, activation='relu'))\n",
    "cnn_g_model.add(layers.GlobalMaxPooling1D())\n",
    "cnn_g_model.add(layers.Dense(10, activation='relu'))\n",
    "cnn_g_model.add(layers.Dense(1, activation='sigmoid'))\n",
    "cnn_g_model.compile(optimizer='adam',\n",
    "              loss='binary_crossentropy',\n",
    "              metrics=['accuracy'])\n",
    "cnn_g_model.summary()"
   ]
  },
  {
   "cell_type": "code",
   "execution_count": 76,
   "metadata": {},
   "outputs": [
    {
     "name": "stdout",
     "output_type": "stream",
     "text": [
      "Epoch 1/10\n",
      "794/794 [==============================] - 13s 16ms/step - loss: 0.3543 - accuracy: 0.8426 - val_loss: 0.2548 - val_accuracy: 0.9028\n",
      "Epoch 2/10\n",
      "794/794 [==============================] - 13s 16ms/step - loss: 0.1785 - accuracy: 0.9363 - val_loss: 0.2565 - val_accuracy: 0.9053\n",
      "Epoch 3/10\n",
      "794/794 [==============================] - 13s 16ms/step - loss: 0.1083 - accuracy: 0.9628 - val_loss: 0.3445 - val_accuracy: 0.8715\n",
      "Epoch 4/10\n",
      "794/794 [==============================] - 13s 17ms/step - loss: 0.0608 - accuracy: 0.9788 - val_loss: 0.3836 - val_accuracy: 0.8831\n",
      "Epoch 5/10\n",
      "794/794 [==============================] - 13s 17ms/step - loss: 0.0534 - accuracy: 0.9798 - val_loss: 0.4024 - val_accuracy: 0.9043\n",
      "Epoch 6/10\n",
      "794/794 [==============================] - 13s 17ms/step - loss: 0.0216 - accuracy: 0.9938 - val_loss: 0.5111 - val_accuracy: 0.8549\n",
      "Epoch 7/10\n",
      "794/794 [==============================] - 13s 17ms/step - loss: 0.0345 - accuracy: 0.9853 - val_loss: 0.5003 - val_accuracy: 0.8977\n",
      "Epoch 8/10\n",
      "794/794 [==============================] - 13s 17ms/step - loss: 0.0217 - accuracy: 0.9913 - val_loss: 0.5123 - val_accuracy: 0.9008\n",
      "Epoch 9/10\n",
      "794/794 [==============================] - 13s 17ms/step - loss: 0.0205 - accuracy: 0.9927 - val_loss: 0.5443 - val_accuracy: 0.8987\n",
      "Epoch 10/10\n",
      "794/794 [==============================] - 13s 17ms/step - loss: 0.0106 - accuracy: 0.9970 - val_loss: 0.7071 - val_accuracy: 0.8972\n"
     ]
    }
   ],
   "source": [
    "history = cnn_g_model.fit(X_train, y_train_social,\n",
    "                    epochs=10,\n",
    "                    verbose=True,\n",
    "                    validation_split=0.2,\n",
    "                    batch_size=10)"
   ]
  },
  {
   "cell_type": "code",
   "execution_count": 77,
   "metadata": {},
   "outputs": [
    {
     "name": "stdout",
     "output_type": "stream",
     "text": [
      "538/538 [==============================] - 4s 8ms/step - loss: 0.7726 - accuracy: 0.8867\n",
      "Test Score: 0.772632360458374\n",
      "Test Accuracy: 0.8867266774177551\n",
      "[9.9999762e-01 1.7213821e-04 9.8169858e-07 ... 9.9997830e-01 4.2708934e-06\n",
      " 1.7663101e-09]\n",
      "First 5 values before conversion : [9.9999762e-01 1.7213821e-04 9.8169858e-07 3.0062079e-02 4.5708328e-02]\n",
      "First 5 values after the conversion : [1, 0, 0, 0, 0]\n",
      "\n",
      "========== RESULTS ===========\n",
      "\n",
      "Accuracy : 0.8867266918385129\n",
      "Precision : 0.9551148225469729\n",
      "F1_score : 0.8941368078175896\n",
      "Recall : 0.8404776484996939\n",
      "\n",
      "===== CONFUSION MATRIX =====\n",
      "[[7030  387]\n",
      " [1563 8235]]\n"
     ]
    }
   ],
   "source": [
    "score = cnn_g_model.evaluate(X_test, y_test_social, verbose=1)\n",
    "print(\"Test Score:\", score[0])\n",
    "print(\"Test Accuracy:\", score[1])\n",
    "\n",
    "predictions = cnn_g_model.predict(X_test)\n",
    "print(predictions[:,0])\n",
    "name = 'Sequential model + Glove Embedding Layer + CNN'\n",
    "social_results = getResults(y_test_social, predictions,name,1)"
   ]
  },
  {
   "cell_type": "code",
   "execution_count": 78,
   "metadata": {},
   "outputs": [
    {
     "name": "stdout",
     "output_type": "stream",
     "text": [
      "Epoch 1/10\n",
      "794/794 [==============================] - 13s 17ms/step - loss: 0.4664 - accuracy: 0.8076 - val_loss: 0.3912 - val_accuracy: 0.8277\n",
      "Epoch 2/10\n",
      "794/794 [==============================] - 13s 17ms/step - loss: 0.3159 - accuracy: 0.8691 - val_loss: 0.4130 - val_accuracy: 0.8327\n",
      "Epoch 3/10\n",
      "794/794 [==============================] - 15s 18ms/step - loss: 0.2337 - accuracy: 0.9045 - val_loss: 0.4540 - val_accuracy: 0.8252\n",
      "Epoch 4/10\n",
      "794/794 [==============================] - 13s 17ms/step - loss: 0.1508 - accuracy: 0.9441 - val_loss: 0.6448 - val_accuracy: 0.8196\n",
      "Epoch 5/10\n",
      "794/794 [==============================] - 14s 17ms/step - loss: 0.0894 - accuracy: 0.9672 - val_loss: 0.5847 - val_accuracy: 0.8217\n",
      "Epoch 6/10\n",
      "794/794 [==============================] - 14s 17ms/step - loss: 0.0571 - accuracy: 0.9796 - val_loss: 0.6828 - val_accuracy: 0.7990\n",
      "Epoch 7/10\n",
      "794/794 [==============================] - 14s 17ms/step - loss: 0.0399 - accuracy: 0.9854 - val_loss: 0.7543 - val_accuracy: 0.8091\n",
      "Epoch 8/10\n",
      "794/794 [==============================] - 14s 17ms/step - loss: 0.0382 - accuracy: 0.9845 - val_loss: 0.8632 - val_accuracy: 0.8232\n",
      "Epoch 9/10\n",
      "794/794 [==============================] - 14s 18ms/step - loss: 0.0363 - accuracy: 0.9842 - val_loss: 0.9754 - val_accuracy: 0.8136\n",
      "Epoch 10/10\n",
      "794/794 [==============================] - 14s 17ms/step - loss: 0.0250 - accuracy: 0.9877 - val_loss: 0.9682 - val_accuracy: 0.8116\n"
     ]
    }
   ],
   "source": [
    "history = cnn_g_model.fit(X_train, y_train_agency,\n",
    "                    epochs=10,\n",
    "                    verbose=True,\n",
    "                    validation_split=0.2,\n",
    "                    batch_size=10)"
   ]
  },
  {
   "cell_type": "code",
   "execution_count": 79,
   "metadata": {},
   "outputs": [
    {
     "name": "stdout",
     "output_type": "stream",
     "text": [
      "538/538 [==============================] - 4s 8ms/step - loss: 1.0118 - accuracy: 0.7965\n",
      "Test Score: 1.011755347251892\n",
      "Test Accuracy: 0.7965146899223328\n",
      "[1.         1.         1.         ... 0.999987   0.85839355 1.        ]\n",
      "First 5 values before conversion : [1.         1.         1.         0.9999967  0.02557856]\n",
      "First 5 values after the conversion : [1, 1, 1, 1, 0]\n",
      "\n",
      "========== RESULTS ===========\n",
      "\n",
      "Accuracy : 0.796514667441185\n",
      "Precision : 0.8546602180506598\n",
      "F1_score : 0.8561691644426195\n",
      "Recall : 0.857683448502797\n",
      "\n",
      "===== CONFUSION MATRIX =====\n",
      "[[1111 6306]\n",
      " [3905 5893]]\n"
     ]
    }
   ],
   "source": [
    "score = cnn_g_model.evaluate(X_test, y_test_agency, verbose=1)\n",
    "print(\"Test Score:\", score[0])\n",
    "print(\"Test Accuracy:\", score[1])\n",
    "\n",
    "predictions = cnn_g_model.predict(X_test)\n",
    "print(predictions[:,0])\n",
    "social_acency = getResults(y_test_agency, predictions,name,0)"
   ]
  },
  {
   "cell_type": "code",
   "execution_count": 80,
   "metadata": {},
   "outputs": [],
   "source": [
    "df = pd.DataFrame(list(zip(models, social_accuracy,agency_acuracy)), \n",
    "               columns =['model', 'social_accuracy','agency_acuracy']) "
   ]
  },
  {
   "cell_type": "code",
   "execution_count": 81,
   "metadata": {},
   "outputs": [
    {
     "data": {
      "text/html": [
       "<div>\n",
       "<style scoped>\n",
       "    .dataframe tbody tr th:only-of-type {\n",
       "        vertical-align: middle;\n",
       "    }\n",
       "\n",
       "    .dataframe tbody tr th {\n",
       "        vertical-align: top;\n",
       "    }\n",
       "\n",
       "    .dataframe thead th {\n",
       "        text-align: right;\n",
       "    }\n",
       "</style>\n",
       "<table border=\"1\" class=\"dataframe\">\n",
       "  <thead>\n",
       "    <tr style=\"text-align: right;\">\n",
       "      <th></th>\n",
       "      <th>model</th>\n",
       "      <th>social_accuracy</th>\n",
       "      <th>agency_acuracy</th>\n",
       "    </tr>\n",
       "  </thead>\n",
       "  <tbody>\n",
       "    <tr>\n",
       "      <th>0</th>\n",
       "      <td>Sequential model</td>\n",
       "      <td>0.877781</td>\n",
       "      <td>0.756491</td>\n",
       "    </tr>\n",
       "    <tr>\n",
       "      <th>1</th>\n",
       "      <td>Sequentialmodel + KerasEmbeddingLayer</td>\n",
       "      <td>0.861574</td>\n",
       "      <td>0.768806</td>\n",
       "    </tr>\n",
       "    <tr>\n",
       "      <th>2</th>\n",
       "      <td>Sequential model + Keras Embedding Layer + CNN</td>\n",
       "      <td>0.881208</td>\n",
       "      <td>0.785304</td>\n",
       "    </tr>\n",
       "    <tr>\n",
       "      <th>3</th>\n",
       "      <td>Sequential model + Glove Embedding Layer + CNN</td>\n",
       "      <td>0.886727</td>\n",
       "      <td>0.796515</td>\n",
       "    </tr>\n",
       "  </tbody>\n",
       "</table>\n",
       "</div>"
      ],
      "text/plain": [
       "                                            model  social_accuracy  \\\n",
       "0                                Sequential model         0.877781   \n",
       "1           Sequentialmodel + KerasEmbeddingLayer         0.861574   \n",
       "2  Sequential model + Keras Embedding Layer + CNN         0.881208   \n",
       "3  Sequential model + Glove Embedding Layer + CNN         0.886727   \n",
       "\n",
       "   agency_acuracy  \n",
       "0        0.756491  \n",
       "1        0.768806  \n",
       "2        0.785304  \n",
       "3        0.796515  "
      ]
     },
     "execution_count": 81,
     "metadata": {},
     "output_type": "execute_result"
    }
   ],
   "source": [
    "df"
   ]
  },
  {
   "cell_type": "code",
   "execution_count": null,
   "metadata": {},
   "outputs": [],
   "source": []
  }
 ],
 "metadata": {
  "kernelspec": {
   "display_name": "Python 3",
   "language": "python",
   "name": "python3"
  },
  "language_info": {
   "codemirror_mode": {
    "name": "ipython",
    "version": 3
   },
   "file_extension": ".py",
   "mimetype": "text/x-python",
   "name": "python",
   "nbconvert_exporter": "python",
   "pygments_lexer": "ipython3",
   "version": "3.8.3"
  }
 },
 "nbformat": 4,
 "nbformat_minor": 4
}
