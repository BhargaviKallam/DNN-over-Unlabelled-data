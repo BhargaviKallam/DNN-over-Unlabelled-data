{
 "cells": [
  {
   "cell_type": "code",
   "execution_count": 1,
   "metadata": {},
   "outputs": [],
   "source": [
    "import pandas as pd\n",
    "import numpy as np\n",
    "\n",
    "import matplotlib.pyplot as plt\n",
    "import seaborn as sns\n",
    "\n",
    "import re\n",
    "from nltk.corpus import stopwords"
   ]
  },
  {
   "cell_type": "code",
   "execution_count": 2,
   "metadata": {},
   "outputs": [],
   "source": [
    "# Load Dataset and combined them to get insights\n",
    "df = pd.read_csv('data/TRAIN/unlabeled_70k.csv')"
   ]
  },
  {
   "cell_type": "code",
   "execution_count": 3,
   "metadata": {},
   "outputs": [
    {
     "data": {
      "text/html": [
       "<div>\n",
       "<style scoped>\n",
       "    .dataframe tbody tr th:only-of-type {\n",
       "        vertical-align: middle;\n",
       "    }\n",
       "\n",
       "    .dataframe tbody tr th {\n",
       "        vertical-align: top;\n",
       "    }\n",
       "\n",
       "    .dataframe thead th {\n",
       "        text-align: right;\n",
       "    }\n",
       "</style>\n",
       "<table border=\"1\" class=\"dataframe\">\n",
       "  <thead>\n",
       "    <tr style=\"text-align: right;\">\n",
       "      <th></th>\n",
       "      <th>hmid</th>\n",
       "      <th>moment</th>\n",
       "      <th>age</th>\n",
       "      <th>country</th>\n",
       "      <th>gender</th>\n",
       "      <th>married</th>\n",
       "      <th>parenthood</th>\n",
       "      <th>reflection</th>\n",
       "      <th>duration</th>\n",
       "    </tr>\n",
       "  </thead>\n",
       "  <tbody>\n",
       "    <tr>\n",
       "      <th>0</th>\n",
       "      <td>27673</td>\n",
       "      <td>I went on a successful date with someone I fel...</td>\n",
       "      <td>35.0</td>\n",
       "      <td>USA</td>\n",
       "      <td>m</td>\n",
       "      <td>single</td>\n",
       "      <td>n</td>\n",
       "      <td>24h</td>\n",
       "      <td>at_least_one_hour</td>\n",
       "    </tr>\n",
       "    <tr>\n",
       "      <th>1</th>\n",
       "      <td>27675</td>\n",
       "      <td>I went to the gym this morning and did yoga.</td>\n",
       "      <td>30.0</td>\n",
       "      <td>USA</td>\n",
       "      <td>f</td>\n",
       "      <td>married</td>\n",
       "      <td>y</td>\n",
       "      <td>24h</td>\n",
       "      <td>at_least_one_hour</td>\n",
       "    </tr>\n",
       "    <tr>\n",
       "      <th>2</th>\n",
       "      <td>27678</td>\n",
       "      <td>I meditated last night.</td>\n",
       "      <td>23.0</td>\n",
       "      <td>IND</td>\n",
       "      <td>m</td>\n",
       "      <td>single</td>\n",
       "      <td>n</td>\n",
       "      <td>24h</td>\n",
       "      <td>at_least_one_hour</td>\n",
       "    </tr>\n",
       "    <tr>\n",
       "      <th>3</th>\n",
       "      <td>27679</td>\n",
       "      <td>I made a new recipe for peasant bread, and it ...</td>\n",
       "      <td>30.0</td>\n",
       "      <td>USA</td>\n",
       "      <td>m</td>\n",
       "      <td>single</td>\n",
       "      <td>n</td>\n",
       "      <td>24h</td>\n",
       "      <td>half_a_day</td>\n",
       "    </tr>\n",
       "    <tr>\n",
       "      <th>4</th>\n",
       "      <td>27680</td>\n",
       "      <td>I got gift from my elder brother which was rea...</td>\n",
       "      <td>23.0</td>\n",
       "      <td>IND</td>\n",
       "      <td>m</td>\n",
       "      <td>single</td>\n",
       "      <td>n</td>\n",
       "      <td>24h</td>\n",
       "      <td>at_least_one_hour</td>\n",
       "    </tr>\n",
       "  </tbody>\n",
       "</table>\n",
       "</div>"
      ],
      "text/plain": [
       "    hmid                                             moment   age country  \\\n",
       "0  27673  I went on a successful date with someone I fel...  35.0     USA   \n",
       "1  27675       I went to the gym this morning and did yoga.  30.0     USA   \n",
       "2  27678                            I meditated last night.  23.0     IND   \n",
       "3  27679  I made a new recipe for peasant bread, and it ...  30.0     USA   \n",
       "4  27680  I got gift from my elder brother which was rea...  23.0     IND   \n",
       "\n",
       "  gender  married parenthood reflection           duration  \n",
       "0      m   single          n        24h  at_least_one_hour  \n",
       "1      f  married          y        24h  at_least_one_hour  \n",
       "2      m   single          n        24h  at_least_one_hour  \n",
       "3      m   single          n        24h         half_a_day  \n",
       "4      m   single          n        24h  at_least_one_hour  "
      ]
     },
     "execution_count": 3,
     "metadata": {},
     "output_type": "execute_result"
    }
   ],
   "source": [
    "df.head()"
   ]
  },
  {
   "cell_type": "code",
   "execution_count": 4,
   "metadata": {},
   "outputs": [
    {
     "name": "stdout",
     "output_type": "stream",
     "text": [
      "<class 'pandas.core.frame.DataFrame'>\n",
      "RangeIndex: 72324 entries, 0 to 72323\n",
      "Data columns (total 9 columns):\n",
      " #   Column      Non-Null Count  Dtype  \n",
      "---  ------      --------------  -----  \n",
      " 0   hmid        72324 non-null  int64  \n",
      " 1   moment      72324 non-null  object \n",
      " 2   age         72228 non-null  float64\n",
      " 3   country     72200 non-null  object \n",
      " 4   gender      72277 non-null  object \n",
      " 5   married     72229 non-null  object \n",
      " 6   parenthood  72274 non-null  object \n",
      " 7   reflection  72324 non-null  object \n",
      " 8   duration    72098 non-null  object \n",
      "dtypes: float64(1), int64(1), object(7)\n",
      "memory usage: 5.0+ MB\n"
     ]
    }
   ],
   "source": [
    "df.info()"
   ]
  },
  {
   "cell_type": "markdown",
   "metadata": {},
   "source": [
    "Only taking the hmid and moment columns from the dataset"
   ]
  },
  {
   "cell_type": "code",
   "execution_count": 5,
   "metadata": {},
   "outputs": [
    {
     "data": {
      "text/html": [
       "<div>\n",
       "<style scoped>\n",
       "    .dataframe tbody tr th:only-of-type {\n",
       "        vertical-align: middle;\n",
       "    }\n",
       "\n",
       "    .dataframe tbody tr th {\n",
       "        vertical-align: top;\n",
       "    }\n",
       "\n",
       "    .dataframe thead th {\n",
       "        text-align: right;\n",
       "    }\n",
       "</style>\n",
       "<table border=\"1\" class=\"dataframe\">\n",
       "  <thead>\n",
       "    <tr style=\"text-align: right;\">\n",
       "      <th></th>\n",
       "      <th>hmid</th>\n",
       "      <th>moment</th>\n",
       "    </tr>\n",
       "  </thead>\n",
       "  <tbody>\n",
       "    <tr>\n",
       "      <th>0</th>\n",
       "      <td>27673</td>\n",
       "      <td>I went on a successful date with someone I fel...</td>\n",
       "    </tr>\n",
       "    <tr>\n",
       "      <th>1</th>\n",
       "      <td>27675</td>\n",
       "      <td>I went to the gym this morning and did yoga.</td>\n",
       "    </tr>\n",
       "    <tr>\n",
       "      <th>2</th>\n",
       "      <td>27678</td>\n",
       "      <td>I meditated last night.</td>\n",
       "    </tr>\n",
       "    <tr>\n",
       "      <th>3</th>\n",
       "      <td>27679</td>\n",
       "      <td>I made a new recipe for peasant bread, and it ...</td>\n",
       "    </tr>\n",
       "    <tr>\n",
       "      <th>4</th>\n",
       "      <td>27680</td>\n",
       "      <td>I got gift from my elder brother which was rea...</td>\n",
       "    </tr>\n",
       "  </tbody>\n",
       "</table>\n",
       "</div>"
      ],
      "text/plain": [
       "    hmid                                             moment\n",
       "0  27673  I went on a successful date with someone I fel...\n",
       "1  27675       I went to the gym this morning and did yoga.\n",
       "2  27678                            I meditated last night.\n",
       "3  27679  I made a new recipe for peasant bread, and it ...\n",
       "4  27680  I got gift from my elder brother which was rea..."
      ]
     },
     "execution_count": 5,
     "metadata": {},
     "output_type": "execute_result"
    }
   ],
   "source": [
    "df = df[['hmid','moment']]\n",
    "df.head()"
   ]
  },
  {
   "cell_type": "markdown",
   "metadata": {},
   "source": [
    "### Checking for duplicates dataset\n",
    "\n",
    "We check for ducplicates in the moment column, as we would be needing this column to train our models\n",
    "The whole row here is not duplicate, but the values in the 'moment' column is, hence we need to eliminate them because we are not using any other feature to train the model but 'moment'"
   ]
  },
  {
   "cell_type": "code",
   "execution_count": 6,
   "metadata": {},
   "outputs": [
    {
     "name": "stdout",
     "output_type": "stream",
     "text": [
      "Shape of the Dataset before removing duplicates : (72324, 2)\n",
      "Duplicates found in the moment column : (2491, 2)\n"
     ]
    },
    {
     "data": {
      "text/html": [
       "<div>\n",
       "<style scoped>\n",
       "    .dataframe tbody tr th:only-of-type {\n",
       "        vertical-align: middle;\n",
       "    }\n",
       "\n",
       "    .dataframe tbody tr th {\n",
       "        vertical-align: top;\n",
       "    }\n",
       "\n",
       "    .dataframe thead th {\n",
       "        text-align: right;\n",
       "    }\n",
       "</style>\n",
       "<table border=\"1\" class=\"dataframe\">\n",
       "  <thead>\n",
       "    <tr style=\"text-align: right;\">\n",
       "      <th></th>\n",
       "      <th>hmid</th>\n",
       "      <th>moment</th>\n",
       "    </tr>\n",
       "  </thead>\n",
       "  <tbody>\n",
       "    <tr>\n",
       "      <th>266</th>\n",
       "      <td>28058</td>\n",
       "      <td>after 2 month i bought new tcl 32 inch led tv ...</td>\n",
       "    </tr>\n",
       "    <tr>\n",
       "      <th>412</th>\n",
       "      <td>28258</td>\n",
       "      <td>after 2 month i bought new tcl 32 inch led tv ...</td>\n",
       "    </tr>\n",
       "    <tr>\n",
       "      <th>867</th>\n",
       "      <td>28911</td>\n",
       "      <td>i was working on a problem from the morning wh...</td>\n",
       "    </tr>\n",
       "    <tr>\n",
       "      <th>1226</th>\n",
       "      <td>29413</td>\n",
       "      <td>i was working on a problem from the morning wh...</td>\n",
       "    </tr>\n",
       "    <tr>\n",
       "      <th>1797</th>\n",
       "      <td>30266</td>\n",
       "      <td>My boyfriend told me he loved me.</td>\n",
       "    </tr>\n",
       "    <tr>\n",
       "      <th>...</th>\n",
       "      <td>...</td>\n",
       "      <td>...</td>\n",
       "    </tr>\n",
       "    <tr>\n",
       "      <th>72156</th>\n",
       "      <td>128540</td>\n",
       "      <td>I spent time with my family.</td>\n",
       "    </tr>\n",
       "    <tr>\n",
       "      <th>72187</th>\n",
       "      <td>128578</td>\n",
       "      <td>I had sex with my wife.</td>\n",
       "    </tr>\n",
       "    <tr>\n",
       "      <th>72254</th>\n",
       "      <td>128681</td>\n",
       "      <td>I had sex with my girlfriend.</td>\n",
       "    </tr>\n",
       "    <tr>\n",
       "      <th>72289</th>\n",
       "      <td>128722</td>\n",
       "      <td>Purchased a Air Cooler for my office to work w...</td>\n",
       "    </tr>\n",
       "    <tr>\n",
       "      <th>72293</th>\n",
       "      <td>128726</td>\n",
       "      <td>yesterday chat with my brother in video call i...</td>\n",
       "    </tr>\n",
       "  </tbody>\n",
       "</table>\n",
       "<p>2491 rows × 2 columns</p>\n",
       "</div>"
      ],
      "text/plain": [
       "         hmid                                             moment\n",
       "266     28058  after 2 month i bought new tcl 32 inch led tv ...\n",
       "412     28258  after 2 month i bought new tcl 32 inch led tv ...\n",
       "867     28911  i was working on a problem from the morning wh...\n",
       "1226    29413  i was working on a problem from the morning wh...\n",
       "1797    30266                  My boyfriend told me he loved me.\n",
       "...       ...                                                ...\n",
       "72156  128540                       I spent time with my family.\n",
       "72187  128578                            I had sex with my wife.\n",
       "72254  128681                      I had sex with my girlfriend.\n",
       "72289  128722  Purchased a Air Cooler for my office to work w...\n",
       "72293  128726  yesterday chat with my brother in video call i...\n",
       "\n",
       "[2491 rows x 2 columns]"
      ]
     },
     "execution_count": 6,
     "metadata": {},
     "output_type": "execute_result"
    }
   ],
   "source": [
    "print(f'Shape of the Dataset before removing duplicates : {df.shape}')\n",
    "duplicate = df[df.duplicated('moment')]\n",
    "print(f'Duplicates found in the moment column : {duplicate.shape}')\n",
    "duplicate"
   ]
  },
  {
   "cell_type": "markdown",
   "metadata": {},
   "source": [
    "Removing the duplicates from the 'moment' column"
   ]
  },
  {
   "cell_type": "code",
   "execution_count": 7,
   "metadata": {},
   "outputs": [
    {
     "name": "stdout",
     "output_type": "stream",
     "text": [
      "Shape of the Dataset after removing duplicates : (69833, 2)\n"
     ]
    }
   ],
   "source": [
    "df.drop_duplicates(subset =\"moment\", inplace = True)\n",
    "print(f'Shape of the Dataset after removing duplicates : {df.shape}')"
   ]
  },
  {
   "cell_type": "code",
   "execution_count": 8,
   "metadata": {},
   "outputs": [
    {
     "name": "stdout",
     "output_type": "stream",
     "text": [
      "Duplicates found in the moment column : (0, 2)\n"
     ]
    }
   ],
   "source": [
    "duplicate = df[df.duplicated('moment')]\n",
    "print(f'Duplicates found in the moment column : {duplicate.shape}')"
   ]
  },
  {
   "cell_type": "code",
   "execution_count": 9,
   "metadata": {},
   "outputs": [
    {
     "data": {
      "text/html": [
       "<div>\n",
       "<style scoped>\n",
       "    .dataframe tbody tr th:only-of-type {\n",
       "        vertical-align: middle;\n",
       "    }\n",
       "\n",
       "    .dataframe tbody tr th {\n",
       "        vertical-align: top;\n",
       "    }\n",
       "\n",
       "    .dataframe thead th {\n",
       "        text-align: right;\n",
       "    }\n",
       "</style>\n",
       "<table border=\"1\" class=\"dataframe\">\n",
       "  <thead>\n",
       "    <tr style=\"text-align: right;\">\n",
       "      <th></th>\n",
       "      <th>hmid</th>\n",
       "      <th>moment</th>\n",
       "    </tr>\n",
       "  </thead>\n",
       "  <tbody>\n",
       "    <tr>\n",
       "      <th>0</th>\n",
       "      <td>27673</td>\n",
       "      <td>I went on a successful date with someone I fel...</td>\n",
       "    </tr>\n",
       "    <tr>\n",
       "      <th>1</th>\n",
       "      <td>27675</td>\n",
       "      <td>I went to the gym this morning and did yoga.</td>\n",
       "    </tr>\n",
       "    <tr>\n",
       "      <th>2</th>\n",
       "      <td>27678</td>\n",
       "      <td>I meditated last night.</td>\n",
       "    </tr>\n",
       "    <tr>\n",
       "      <th>3</th>\n",
       "      <td>27679</td>\n",
       "      <td>I made a new recipe for peasant bread, and it ...</td>\n",
       "    </tr>\n",
       "    <tr>\n",
       "      <th>4</th>\n",
       "      <td>27680</td>\n",
       "      <td>I got gift from my elder brother which was rea...</td>\n",
       "    </tr>\n",
       "    <tr>\n",
       "      <th>...</th>\n",
       "      <td>...</td>\n",
       "      <td>...</td>\n",
       "    </tr>\n",
       "    <tr>\n",
       "      <th>69828</th>\n",
       "      <td>128761</td>\n",
       "      <td>I spent time with my daughter.</td>\n",
       "    </tr>\n",
       "    <tr>\n",
       "      <th>69829</th>\n",
       "      <td>128762</td>\n",
       "      <td>My husband announced he is getting a decent bo...</td>\n",
       "    </tr>\n",
       "    <tr>\n",
       "      <th>69830</th>\n",
       "      <td>128763</td>\n",
       "      <td>Had a can of Pepsi to drink.</td>\n",
       "    </tr>\n",
       "    <tr>\n",
       "      <th>69831</th>\n",
       "      <td>128764</td>\n",
       "      <td>Cuddling with my girlfriend last night.</td>\n",
       "    </tr>\n",
       "    <tr>\n",
       "      <th>69832</th>\n",
       "      <td>128766</td>\n",
       "      <td>I had a great workout last night.</td>\n",
       "    </tr>\n",
       "  </tbody>\n",
       "</table>\n",
       "<p>69833 rows × 2 columns</p>\n",
       "</div>"
      ],
      "text/plain": [
       "         hmid                                             moment\n",
       "0       27673  I went on a successful date with someone I fel...\n",
       "1       27675       I went to the gym this morning and did yoga.\n",
       "2       27678                            I meditated last night.\n",
       "3       27679  I made a new recipe for peasant bread, and it ...\n",
       "4       27680  I got gift from my elder brother which was rea...\n",
       "...       ...                                                ...\n",
       "69828  128761                     I spent time with my daughter.\n",
       "69829  128762  My husband announced he is getting a decent bo...\n",
       "69830  128763                       Had a can of Pepsi to drink.\n",
       "69831  128764            Cuddling with my girlfriend last night.\n",
       "69832  128766                  I had a great workout last night.\n",
       "\n",
       "[69833 rows x 2 columns]"
      ]
     },
     "execution_count": 9,
     "metadata": {},
     "output_type": "execute_result"
    }
   ],
   "source": [
    "df = df.reset_index()\n",
    "df = df[['hmid', 'moment']]\n",
    "df"
   ]
  },
  {
   "cell_type": "markdown",
   "metadata": {},
   "source": [
    "## Text Pre-Processing\n",
    "\n",
    "During the Text Pre-processing, we did not include \"PRONOUNS\" in the list of stop words. This is because pronous in particular can contribute to identify agency and social labels. (\"I, we, us ....\")"
   ]
  },
  {
   "cell_type": "code",
   "execution_count": 10,
   "metadata": {},
   "outputs": [],
   "source": [
    "# Pre processing the moment text\n",
    "def cleanHtml(sentence):\n",
    "    cleanr = re.compile('<.*?>')\n",
    "    cleantext = re.sub(cleanr, ' ', str(sentence))\n",
    "    return cleantext\n",
    "\n",
    "def cleanPunc(sentence): #function to clean the word of any punctuation or special characters\n",
    "    cleaned = re.sub(r'[?|!|\\'|\"|#]',r'',sentence)\n",
    "    cleaned = re.sub(r'[.|,|)|(|\\|/]',r' ',cleaned)\n",
    "    cleaned = cleaned.strip()\n",
    "    cleaned = cleaned.replace(\"\\n\",\" \")\n",
    "    return cleaned\n",
    "\n",
    "def keepAlpha(sentence):\n",
    "    alpha_sent = \"\"\n",
    "    for word in sentence.split():\n",
    "        alpha_word = re.sub('[^a-z A-Z]+', ' ', word)\n",
    "        alpha_sent += alpha_word\n",
    "        alpha_sent += \" \"\n",
    "    alpha_sent = alpha_sent.strip()\n",
    "    return alpha_sent\n",
    "\n",
    "def removeStopWords(sentence):\n",
    "    stop_words = stopwords.words('english')\n",
    "    # The reason for excluding these pronouns is discussed in the later section\n",
    "    pronouns = ['mine','ours','our','it','my','i', 'you', 'he', 'they', 'we', 'she', 'who', 'them', 'me', 'him', 'one', 'her', 'us','himself','someone', 'themselves', 'everyone', 'itself', 'anyone', 'myself','hers','his','thiers','their','myself','yourself','ourselves','all','anybody']\n",
    "    for word in pronouns:\n",
    "        if word in stop_words:\n",
    "            stop_words.remove(word)\n",
    "    \n",
    "    sent = \"\"\n",
    "    for val in sentence.split():\n",
    "        if val not in stop_words:\n",
    "            sent += (val+\" \")\n",
    "    return sent"
   ]
  },
  {
   "cell_type": "code",
   "execution_count": 11,
   "metadata": {},
   "outputs": [],
   "source": [
    "df['moment'] = df['moment'].str.lower()\n",
    "df['moment'] = df['moment'].apply(cleanHtml)\n",
    "df['moment'] = df['moment'].apply(cleanPunc)\n",
    "df['moment'] = df['moment'].apply(keepAlpha)\n",
    "df['moment'] = df['moment'].apply(removeStopWords)"
   ]
  },
  {
   "cell_type": "code",
   "execution_count": 12,
   "metadata": {},
   "outputs": [
    {
     "data": {
      "text/html": [
       "<div>\n",
       "<style scoped>\n",
       "    .dataframe tbody tr th:only-of-type {\n",
       "        vertical-align: middle;\n",
       "    }\n",
       "\n",
       "    .dataframe tbody tr th {\n",
       "        vertical-align: top;\n",
       "    }\n",
       "\n",
       "    .dataframe thead th {\n",
       "        text-align: right;\n",
       "    }\n",
       "</style>\n",
       "<table border=\"1\" class=\"dataframe\">\n",
       "  <thead>\n",
       "    <tr style=\"text-align: right;\">\n",
       "      <th></th>\n",
       "      <th>hmid</th>\n",
       "      <th>moment</th>\n",
       "    </tr>\n",
       "  </thead>\n",
       "  <tbody>\n",
       "    <tr>\n",
       "      <th>0</th>\n",
       "      <td>27673</td>\n",
       "      <td>i went successful date someone i felt sympathy...</td>\n",
       "    </tr>\n",
       "    <tr>\n",
       "      <th>1</th>\n",
       "      <td>27675</td>\n",
       "      <td>i went gym morning yoga</td>\n",
       "    </tr>\n",
       "    <tr>\n",
       "      <th>2</th>\n",
       "      <td>27678</td>\n",
       "      <td>i meditated last night</td>\n",
       "    </tr>\n",
       "    <tr>\n",
       "      <th>3</th>\n",
       "      <td>27679</td>\n",
       "      <td>i made new recipe peasant bread it came specta...</td>\n",
       "    </tr>\n",
       "    <tr>\n",
       "      <th>4</th>\n",
       "      <td>27680</td>\n",
       "      <td>i got gift my elder brother really surprising me</td>\n",
       "    </tr>\n",
       "    <tr>\n",
       "      <th>...</th>\n",
       "      <td>...</td>\n",
       "      <td>...</td>\n",
       "    </tr>\n",
       "    <tr>\n",
       "      <th>69828</th>\n",
       "      <td>128761</td>\n",
       "      <td>i spent time my daughter</td>\n",
       "    </tr>\n",
       "    <tr>\n",
       "      <th>69829</th>\n",
       "      <td>128762</td>\n",
       "      <td>my husband announced he getting decent bonus q...</td>\n",
       "    </tr>\n",
       "    <tr>\n",
       "      <th>69830</th>\n",
       "      <td>128763</td>\n",
       "      <td>pepsi drink</td>\n",
       "    </tr>\n",
       "    <tr>\n",
       "      <th>69831</th>\n",
       "      <td>128764</td>\n",
       "      <td>cuddling my girlfriend last night</td>\n",
       "    </tr>\n",
       "    <tr>\n",
       "      <th>69832</th>\n",
       "      <td>128766</td>\n",
       "      <td>i great workout last night</td>\n",
       "    </tr>\n",
       "  </tbody>\n",
       "</table>\n",
       "<p>69833 rows × 2 columns</p>\n",
       "</div>"
      ],
      "text/plain": [
       "         hmid                                             moment\n",
       "0       27673  i went successful date someone i felt sympathy...\n",
       "1       27675                           i went gym morning yoga \n",
       "2       27678                            i meditated last night \n",
       "3       27679  i made new recipe peasant bread it came specta...\n",
       "4       27680  i got gift my elder brother really surprising me \n",
       "...       ...                                                ...\n",
       "69828  128761                          i spent time my daughter \n",
       "69829  128762  my husband announced he getting decent bonus q...\n",
       "69830  128763                                       pepsi drink \n",
       "69831  128764                 cuddling my girlfriend last night \n",
       "69832  128766                        i great workout last night \n",
       "\n",
       "[69833 rows x 2 columns]"
      ]
     },
     "metadata": {},
     "output_type": "display_data"
    },
    {
     "name": "stdout",
     "output_type": "stream",
     "text": [
      "i went successful date someone i felt sympathy connection \n",
      "i went gym morning yoga \n",
      "i meditated last night \n",
      "i made new recipe peasant bread it came spectacular \n",
      "i got gift my elder brother really surprising me \n"
     ]
    }
   ],
   "source": [
    "df.reset_index()\n",
    "display(df)\n",
    "for i in range(0,5):\n",
    "    print(df['moment'][i])"
   ]
  },
  {
   "cell_type": "markdown",
   "metadata": {},
   "source": [
    "### Writing this processed dataframes to a pickle file"
   ]
  },
  {
   "cell_type": "code",
   "execution_count": 13,
   "metadata": {},
   "outputs": [],
   "source": [
    "df.to_pickle('unlabelled_data.pkl')"
   ]
  },
  {
   "cell_type": "code",
   "execution_count": null,
   "metadata": {},
   "outputs": [],
   "source": []
  },
  {
   "cell_type": "code",
   "execution_count": null,
   "metadata": {},
   "outputs": [],
   "source": []
  }
 ],
 "metadata": {
  "kernelspec": {
   "display_name": "Python 3",
   "language": "python",
   "name": "python3"
  },
  "language_info": {
   "codemirror_mode": {
    "name": "ipython",
    "version": 3
   },
   "file_extension": ".py",
   "mimetype": "text/x-python",
   "name": "python",
   "nbconvert_exporter": "python",
   "pygments_lexer": "ipython3",
   "version": "3.8.2"
  }
 },
 "nbformat": 4,
 "nbformat_minor": 4
}
