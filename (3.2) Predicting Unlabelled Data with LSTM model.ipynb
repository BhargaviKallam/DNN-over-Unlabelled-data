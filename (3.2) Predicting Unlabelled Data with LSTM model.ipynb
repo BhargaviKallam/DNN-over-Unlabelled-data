{
 "cells": [
  {
   "cell_type": "code",
   "execution_count": 40,
   "metadata": {},
   "outputs": [],
   "source": [
    "from numpy import array\n",
    "from keras.preprocessing.sequence import pad_sequences\n",
    "from keras.layers.core import Activation, Dropout, Dense\n",
    "from keras.layers import Flatten, LSTM\n",
    "from keras.models import Model\n",
    "from keras.layers.embeddings import Embedding\n",
    "from keras.preprocessing.text import Tokenizer\n",
    "from keras.layers import Input\n",
    "from keras.models import load_model\n",
    "from nltk.tokenize import word_tokenize\n",
    "import pandas as pd \n",
    "import numpy as np\n",
    "import re\n",
    "import tensorflow as tf\n",
    "from matplotlib import pyplot as plt\n",
    "from numpy import array\n",
    "from numpy import asarray\n",
    "from numpy import zeros"
   ]
  },
  {
   "cell_type": "markdown",
   "metadata": {},
   "source": [
    "### Loading Pickle files "
   ]
  },
  {
   "cell_type": "code",
   "execution_count": 41,
   "metadata": {},
   "outputs": [
    {
     "data": {
      "text/html": [
       "<div>\n",
       "<style scoped>\n",
       "    .dataframe tbody tr th:only-of-type {\n",
       "        vertical-align: middle;\n",
       "    }\n",
       "\n",
       "    .dataframe tbody tr th {\n",
       "        vertical-align: top;\n",
       "    }\n",
       "\n",
       "    .dataframe thead th {\n",
       "        text-align: right;\n",
       "    }\n",
       "</style>\n",
       "<table border=\"1\" class=\"dataframe\">\n",
       "  <thead>\n",
       "    <tr style=\"text-align: right;\">\n",
       "      <th></th>\n",
       "      <th>hmid</th>\n",
       "      <th>moment</th>\n",
       "      <th>social</th>\n",
       "      <th>agency</th>\n",
       "    </tr>\n",
       "  </thead>\n",
       "  <tbody>\n",
       "    <tr>\n",
       "      <th>0</th>\n",
       "      <td>27674</td>\n",
       "      <td>i happy my son got marks his examination</td>\n",
       "      <td>1</td>\n",
       "      <td>0</td>\n",
       "    </tr>\n",
       "    <tr>\n",
       "      <th>1</th>\n",
       "      <td>27685</td>\n",
       "      <td>went movies my friends it fun</td>\n",
       "      <td>1</td>\n",
       "      <td>1</td>\n",
       "    </tr>\n",
       "    <tr>\n",
       "      <th>2</th>\n",
       "      <td>27691</td>\n",
       "      <td>hot kiss my girl friend last night made my day</td>\n",
       "      <td>1</td>\n",
       "      <td>1</td>\n",
       "    </tr>\n",
       "    <tr>\n",
       "      <th>3</th>\n",
       "      <td>27701</td>\n",
       "      <td>my son woke me fantastic breakfast eggs his sp...</td>\n",
       "      <td>1</td>\n",
       "      <td>0</td>\n",
       "    </tr>\n",
       "    <tr>\n",
       "      <th>4</th>\n",
       "      <td>27712</td>\n",
       "      <td>my older daughter keeps patting my younger dau...</td>\n",
       "      <td>1</td>\n",
       "      <td>0</td>\n",
       "    </tr>\n",
       "  </tbody>\n",
       "</table>\n",
       "</div>"
      ],
      "text/plain": [
       "    hmid                                             moment  social  agency\n",
       "0  27674          i happy my son got marks his examination        1       0\n",
       "1  27685                     went movies my friends it fun        1       1\n",
       "2  27691    hot kiss my girl friend last night made my day        1       1\n",
       "3  27701  my son woke me fantastic breakfast eggs his sp...       1       0\n",
       "4  27712  my older daughter keeps patting my younger dau...       1       0"
      ]
     },
     "execution_count": 41,
     "metadata": {},
     "output_type": "execute_result"
    }
   ],
   "source": [
    "train_df = pd.read_pickle('train.pkl')\n",
    "train_df.name = 'Train Dataset'\n",
    "train_df.head()"
   ]
  },
  {
   "cell_type": "code",
   "execution_count": 42,
   "metadata": {},
   "outputs": [
    {
     "data": {
      "text/html": [
       "<div>\n",
       "<style scoped>\n",
       "    .dataframe tbody tr th:only-of-type {\n",
       "        vertical-align: middle;\n",
       "    }\n",
       "\n",
       "    .dataframe tbody tr th {\n",
       "        vertical-align: top;\n",
       "    }\n",
       "\n",
       "    .dataframe thead th {\n",
       "        text-align: right;\n",
       "    }\n",
       "</style>\n",
       "<table border=\"1\" class=\"dataframe\">\n",
       "  <thead>\n",
       "    <tr style=\"text-align: right;\">\n",
       "      <th></th>\n",
       "      <th>hmid</th>\n",
       "      <th>moment</th>\n",
       "    </tr>\n",
       "  </thead>\n",
       "  <tbody>\n",
       "    <tr>\n",
       "      <th>0</th>\n",
       "      <td>27673</td>\n",
       "      <td>i went successful date someone i felt sympathy...</td>\n",
       "    </tr>\n",
       "    <tr>\n",
       "      <th>1</th>\n",
       "      <td>27675</td>\n",
       "      <td>i went gym morning yoga</td>\n",
       "    </tr>\n",
       "    <tr>\n",
       "      <th>2</th>\n",
       "      <td>27678</td>\n",
       "      <td>i meditated last night</td>\n",
       "    </tr>\n",
       "    <tr>\n",
       "      <th>3</th>\n",
       "      <td>27679</td>\n",
       "      <td>i made new recipe peasant bread it came specta...</td>\n",
       "    </tr>\n",
       "    <tr>\n",
       "      <th>4</th>\n",
       "      <td>27680</td>\n",
       "      <td>i got gift my elder brother really surprising me</td>\n",
       "    </tr>\n",
       "  </tbody>\n",
       "</table>\n",
       "</div>"
      ],
      "text/plain": [
       "    hmid                                             moment\n",
       "0  27673  i went successful date someone i felt sympathy...\n",
       "1  27675                           i went gym morning yoga \n",
       "2  27678                            i meditated last night \n",
       "3  27679  i made new recipe peasant bread it came specta...\n",
       "4  27680  i got gift my elder brother really surprising me "
      ]
     },
     "execution_count": 42,
     "metadata": {},
     "output_type": "execute_result"
    }
   ],
   "source": [
    "test_df = pd.read_pickle('unlabelled_data.pkl')\n",
    "test_df.name = \"Test Dataset\"\n",
    "test_df.head()"
   ]
  },
  {
   "cell_type": "code",
   "execution_count": 43,
   "metadata": {},
   "outputs": [
    {
     "name": "stdout",
     "output_type": "stream",
     "text": [
      "(69833, 2)\n"
     ]
    },
    {
     "data": {
      "text/html": [
       "<div>\n",
       "<style scoped>\n",
       "    .dataframe tbody tr th:only-of-type {\n",
       "        vertical-align: middle;\n",
       "    }\n",
       "\n",
       "    .dataframe tbody tr th {\n",
       "        vertical-align: top;\n",
       "    }\n",
       "\n",
       "    .dataframe thead th {\n",
       "        text-align: right;\n",
       "    }\n",
       "</style>\n",
       "<table border=\"1\" class=\"dataframe\">\n",
       "  <thead>\n",
       "    <tr style=\"text-align: right;\">\n",
       "      <th></th>\n",
       "      <th>hmid</th>\n",
       "      <th>moment</th>\n",
       "    </tr>\n",
       "  </thead>\n",
       "  <tbody>\n",
       "    <tr>\n",
       "      <th>69828</th>\n",
       "      <td>128761</td>\n",
       "      <td>i spent time my daughter</td>\n",
       "    </tr>\n",
       "    <tr>\n",
       "      <th>69829</th>\n",
       "      <td>128762</td>\n",
       "      <td>my husband announced he getting decent bonus q...</td>\n",
       "    </tr>\n",
       "    <tr>\n",
       "      <th>69830</th>\n",
       "      <td>128763</td>\n",
       "      <td>pepsi drink</td>\n",
       "    </tr>\n",
       "    <tr>\n",
       "      <th>69831</th>\n",
       "      <td>128764</td>\n",
       "      <td>cuddling my girlfriend last night</td>\n",
       "    </tr>\n",
       "    <tr>\n",
       "      <th>69832</th>\n",
       "      <td>128766</td>\n",
       "      <td>i great workout last night</td>\n",
       "    </tr>\n",
       "  </tbody>\n",
       "</table>\n",
       "</div>"
      ],
      "text/plain": [
       "         hmid                                             moment\n",
       "69828  128761                          i spent time my daughter \n",
       "69829  128762  my husband announced he getting decent bonus q...\n",
       "69830  128763                                       pepsi drink \n",
       "69831  128764                 cuddling my girlfriend last night \n",
       "69832  128766                        i great workout last night "
      ]
     },
     "execution_count": 43,
     "metadata": {},
     "output_type": "execute_result"
    }
   ],
   "source": [
    "print(test_df.shape)\n",
    "test_df.tail()"
   ]
  },
  {
   "cell_type": "code",
   "execution_count": 44,
   "metadata": {},
   "outputs": [
    {
     "name": "stdout",
     "output_type": "stream",
     "text": [
      "<class 'pandas.core.frame.DataFrame'>\n",
      "RangeIndex: 69833 entries, 0 to 69832\n",
      "Data columns (total 2 columns):\n",
      " #   Column  Non-Null Count  Dtype \n",
      "---  ------  --------------  ----- \n",
      " 0   hmid    69833 non-null  int64 \n",
      " 1   moment  69833 non-null  object\n",
      "dtypes: int64(1), object(1)\n",
      "memory usage: 1.1+ MB\n"
     ]
    }
   ],
   "source": [
    "test_df.info()"
   ]
  },
  {
   "cell_type": "markdown",
   "metadata": {},
   "source": [
    "Seperating the X and y features for both the train and test dataset"
   ]
  },
  {
   "cell_type": "code",
   "execution_count": 6,
   "metadata": {},
   "outputs": [],
   "source": [
    "X_train = train_df['moment'].values\n",
    "y_train_social = train_df['social'].values\n",
    "y_train_agency = train_df['agency'].values"
   ]
  },
  {
   "cell_type": "code",
   "execution_count": 7,
   "metadata": {},
   "outputs": [
    {
     "data": {
      "text/plain": [
       "array(['i went successful date someone i felt sympathy connection ',\n",
       "       'i went gym morning yoga ', 'i meditated last night ', ...,\n",
       "       'pepsi drink ', 'cuddling my girlfriend last night ',\n",
       "       'i great workout last night '], dtype=object)"
      ]
     },
     "execution_count": 7,
     "metadata": {},
     "output_type": "execute_result"
    }
   ],
   "source": [
    "X_test = test_df['moment'].values\n",
    "X_test"
   ]
  },
  {
   "cell_type": "code",
   "execution_count": 8,
   "metadata": {},
   "outputs": [
    {
     "data": {
      "text/plain": [
       "((9921,), (9921,), (9921,), (69833,))"
      ]
     },
     "execution_count": 8,
     "metadata": {},
     "output_type": "execute_result"
    }
   ],
   "source": [
    "X_train.shape, y_train_agency.shape, y_train_social.shape, X_test.shape"
   ]
  },
  {
   "cell_type": "markdown",
   "metadata": {},
   "source": [
    "#### Some statistical insights about our datasets"
   ]
  },
  {
   "cell_type": "markdown",
   "metadata": {},
   "source": [
    "The TRAIN dataset"
   ]
  },
  {
   "cell_type": "code",
   "execution_count": 9,
   "metadata": {},
   "outputs": [
    {
     "name": "stdout",
     "output_type": "stream",
     "text": [
      "Sentence : it my th birthday i slept night i woke birthday morning i found my parents travelled my native my place my husband my kid arranged surprise birthday party i really moved my familys affection love they me made me really happy proud protected \n",
      "Length :43\n",
      "Average Sentence Length : 9.144340288277391\n",
      "Standard Dev : 4.58961222102695\n"
     ]
    }
   ],
   "source": [
    "import statistics\n",
    "length = 0\n",
    "val = \"\"\n",
    "train_avg = []\n",
    "for sentence in X_train:\n",
    "    sen_len = len(word_tokenize(sentence))\n",
    "    train_avg.append(sen_len)\n",
    "    if sen_len > length:\n",
    "        length = sen_len\n",
    "        val = sentence\n",
    "print(f'Sentence : {val}\\nLength :{length}')\n",
    "print(f'Average Sentence Length : {sum(train_avg) / len(train_avg)}')\n",
    "print(f'Standard Dev : {statistics.pstdev(train_avg)}') "
   ]
  },
  {
   "cell_type": "markdown",
   "metadata": {},
   "source": [
    "The TEST dataset"
   ]
  },
  {
   "cell_type": "code",
   "execution_count": 10,
   "metadata": {},
   "outputs": [
    {
     "name": "stdout",
     "output_type": "stream",
     "text": [
      "Sentence : morning i coming home shop i saw little boy standing quite looking parents who caring children buying something them little boy watching them i watching him i went him asked hey u little boy who you you standing he replied i lost my parents church i bring boy police station i told boy police all us sudden parents came embresed little boy i felt like something i something good describe me made my day i happy see them happy i really happy see smile face boy he looked me he smiled me gave fly kiss \n",
      "Length :95\n",
      "Average Sentence Length : 9.073060014606275\n"
     ]
    }
   ],
   "source": [
    "length = 0\n",
    "val = \"\"\n",
    "test_avg = []\n",
    "for sentence in X_test:\n",
    "    sen_len = len(word_tokenize(sentence))\n",
    "    test_avg.append(sen_len)\n",
    "    if sen_len > length:\n",
    "        length = sen_len\n",
    "        val = sentence\n",
    "print(f'Sentence : {val}\\nLength :{length}')\n",
    "print(f'Average Sentence Length : {sum(test_avg) / len(test_avg)}')"
   ]
  },
  {
   "cell_type": "markdown",
   "metadata": {},
   "source": [
    "#### The following code block is used to : \n",
    "- Convert texts to sequence\n",
    "- Then pad these sequences based on the max_len variable which is 25 in our case\n",
    "- The max_len = 25 variable was choosen based on the criteria that majority of the sentences did fit under this value, which eventually enables us to have a dense matrix.\n",
    "- Values 9 and 10 were also considered as the max_len val but did not produce promising results. They were choosen based on the fact that the average length of a sentence in this corpora is 9.36 (after text pre-processing)"
   ]
  },
  {
   "cell_type": "code",
   "execution_count": 11,
   "metadata": {},
   "outputs": [],
   "source": [
    "tokenizer = Tokenizer()\n",
    "tokenizer.fit_on_texts(X_train)\n",
    "\n",
    "X_train = tokenizer.texts_to_sequences(X_train)\n",
    "X_test = tokenizer.texts_to_sequences(X_test)\n",
    "\n",
    "vocab_size = len(tokenizer.word_index) + 1\n",
    "\n",
    "maxlen = 25\n",
    "\n",
    "X_train = pad_sequences(X_train, padding='post', maxlen=maxlen)\n",
    "X_test = pad_sequences(X_test, padding='post', maxlen=maxlen)"
   ]
  },
  {
   "cell_type": "code",
   "execution_count": 12,
   "metadata": {},
   "outputs": [
    {
     "data": {
      "text/plain": [
       "((9921, 25), (69833, 25))"
      ]
     },
     "execution_count": 12,
     "metadata": {},
     "output_type": "execute_result"
    }
   ],
   "source": [
    "X_train.shape, X_test.shape"
   ]
  },
  {
   "cell_type": "markdown",
   "metadata": {},
   "source": [
    "#### Printing the top rows both text and numerical\n",
    "- This gives us an idea of how the 1st value is converted to vector of 25 dimensions\n"
   ]
  },
  {
   "cell_type": "code",
   "execution_count": 13,
   "metadata": {},
   "outputs": [
    {
     "name": "stdout",
     "output_type": "stream",
     "text": [
      "i went successful date someone i felt sympathy connection \n",
      "[   1    8  690  217  266    1   84 2149    0    0    0    0    0    0\n",
      "    0    0    0    0    0    0    0    0    0    0    0]\n"
     ]
    }
   ],
   "source": [
    "print(test_df['moment'][0])\n",
    "print(X_test[0])"
   ]
  },
  {
   "cell_type": "markdown",
   "metadata": {},
   "source": [
    "#### The following code block is used to build an embedding matrix with the following configuration\n",
    "\n",
    "- Glove Embedding with 300 dimensions"
   ]
  },
  {
   "cell_type": "code",
   "execution_count": 14,
   "metadata": {},
   "outputs": [],
   "source": [
    "embeddings_dictionary = dict()\n",
    "\n",
    "glove_file = open('glove.6B/glove.6B.300d.txt', encoding=\"utf8\")\n",
    "\n",
    "for line in glove_file:\n",
    "    records = line.split()\n",
    "    word = records[0]\n",
    "    vector_dimensions = asarray(records[1:], dtype='float32')\n",
    "    embeddings_dictionary[word] = vector_dimensions\n",
    "glove_file.close()\n",
    "\n",
    "embedding_matrix = zeros((vocab_size, 300))\n",
    "for word, index in tokenizer.word_index.items():\n",
    "    embedding_vector = embeddings_dictionary.get(word)\n",
    "    if embedding_vector is not None:\n",
    "        embedding_matrix[index] = embedding_vector"
   ]
  },
  {
   "cell_type": "markdown",
   "metadata": {},
   "source": [
    "### Method to test the Accuracy, Precision, Recall and F1 Score\n"
   ]
  },
  {
   "cell_type": "markdown",
   "metadata": {},
   "source": [
    "The following method transforms the output to binary values before calculating the scores"
   ]
  },
  {
   "cell_type": "code",
   "execution_count": 15,
   "metadata": {},
   "outputs": [],
   "source": [
    "# def transformResults(predictions):\n",
    "#     print(\"\"\"The output here is of the form float, thus we are converting it to binary output based on the following \n",
    "# condition if a value is > .5 we assign it with 1 and if a value is <.5 we assign it with 0\"\"\")\n",
    "    \n",
    "#     print(\"\\nConverting the ouput to 1D array, and then transformimg the values based on the above condition\\n\")\n",
    "#     predictions = predictions[:, 0]\n",
    "#     print(f'First 5 values before conversion : {predictions[:5]}')\n",
    "    \n",
    "#     predictions = [1 if val>0.5 else 0 for val in predictions]\n",
    "#     print(f'First 5 values after the conversion : {predictions[:5]}')\n",
    "#     return predictions"
   ]
  },
  {
   "cell_type": "code",
   "execution_count": 16,
   "metadata": {},
   "outputs": [],
   "source": [
    "# def getResults(y_test, model_prediction):\n",
    "#     model_prediction = transformResults(model_prediction)\n",
    "#     print(\"\\n========== RESULTS ===========\\n\")\n",
    "#     accuracy = accuracy_score(y_test, model_prediction)\n",
    "#     precision = precision_score(y_test, model_prediction)\n",
    "#     f1 = f1_score(y_test, model_prediction)\n",
    "#     recall = recall_score(y_test, model_prediction)\n",
    "#     print(f'Accuracy : {accuracy}\\nPrecision : {precision}\\nF1_score : {f1}\\nRecall : {recall}\\n')\n",
    "    \n",
    "#     print(\"===== CONFUSION MATRIX =====\")\n",
    "#     cf_matrix = confusion_matrix(y_test_social, model_prediction)\n",
    "#     print(cf_matrix)\n",
    "    \n",
    "#     return accuracy, precision, f1, recall"
   ]
  },
  {
   "cell_type": "markdown",
   "metadata": {},
   "source": [
    "### Building the LSTM model \n",
    "with Embedding layer, LSTM layer and Dense layer with a single unit\n",
    "\n",
    "This will be seperately evaluated for both the social and agency labels"
   ]
  },
  {
   "cell_type": "code",
   "execution_count": 17,
   "metadata": {},
   "outputs": [],
   "source": [
    "def getLSTMModel():\n",
    "    deep_inputs = Input(shape=(maxlen,))\n",
    "    embedding_layer = Embedding(vocab_size, 300, weights=[embedding_matrix], trainable=False)(deep_inputs)\n",
    "    LSTM_Layer_1 = LSTM(128)(embedding_layer)\n",
    "    dense_layer_1 = Dense(1, activation='sigmoid')(LSTM_Layer_1)\n",
    "    model = Model(inputs=deep_inputs, outputs=dense_layer_1)\n",
    "    model.compile(loss='binary_crossentropy', optimizer='adam', metrics=['acc'])\n",
    "    print(model.summary())\n",
    "    return model"
   ]
  },
  {
   "cell_type": "code",
   "execution_count": 18,
   "metadata": {},
   "outputs": [
    {
     "name": "stdout",
     "output_type": "stream",
     "text": [
      "Model: \"model\"\n",
      "_________________________________________________________________\n",
      "Layer (type)                 Output Shape              Param #   \n",
      "=================================================================\n",
      "input_1 (InputLayer)         [(None, 25)]              0         \n",
      "_________________________________________________________________\n",
      "embedding (Embedding)        (None, 25, 300)           2178900   \n",
      "_________________________________________________________________\n",
      "lstm (LSTM)                  (None, 128)               219648    \n",
      "_________________________________________________________________\n",
      "dense (Dense)                (None, 1)                 129       \n",
      "=================================================================\n",
      "Total params: 2,398,677\n",
      "Trainable params: 219,777\n",
      "Non-trainable params: 2,178,900\n",
      "_________________________________________________________________\n",
      "None\n"
     ]
    }
   ],
   "source": [
    "model = getLSTMModel()"
   ]
  },
  {
   "cell_type": "markdown",
   "metadata": {},
   "source": [
    "### Fit the model for the Social label"
   ]
  },
  {
   "cell_type": "code",
   "execution_count": 19,
   "metadata": {},
   "outputs": [
    {
     "name": "stdout",
     "output_type": "stream",
     "text": [
      "Epoch 1/10\n",
      "62/62 [==============================] - 5s 60ms/step - loss: 0.5325 - acc: 0.6961 - val_loss: 0.2929 - val_acc: 0.8912\n",
      "Epoch 2/10\n",
      "62/62 [==============================] - 3s 44ms/step - loss: 0.2738 - acc: 0.8965 - val_loss: 0.2507 - val_acc: 0.9053\n",
      "Epoch 3/10\n",
      "62/62 [==============================] - 3s 44ms/step - loss: 0.2412 - acc: 0.9138 - val_loss: 0.2823 - val_acc: 0.9018\n",
      "Epoch 4/10\n",
      "62/62 [==============================] - 3s 45ms/step - loss: 0.2352 - acc: 0.9110 - val_loss: 0.2541 - val_acc: 0.9023\n",
      "Epoch 5/10\n",
      "62/62 [==============================] - 3s 47ms/step - loss: 0.2056 - acc: 0.9257 - val_loss: 0.2496 - val_acc: 0.9068\n",
      "Epoch 6/10\n",
      "62/62 [==============================] - 3s 45ms/step - loss: 0.1955 - acc: 0.9275 - val_loss: 0.2697 - val_acc: 0.9073\n",
      "Epoch 7/10\n",
      "62/62 [==============================] - 3s 46ms/step - loss: 0.1854 - acc: 0.9262 - val_loss: 0.2423 - val_acc: 0.9108\n",
      "Epoch 8/10\n",
      "62/62 [==============================] - 3s 46ms/step - loss: 0.1827 - acc: 0.9357 - val_loss: 0.2703 - val_acc: 0.9043\n",
      "Epoch 9/10\n",
      "62/62 [==============================] - 3s 46ms/step - loss: 0.1751 - acc: 0.9336 - val_loss: 0.2680 - val_acc: 0.9093\n",
      "Epoch 10/10\n",
      "62/62 [==============================] - 3s 51ms/step - loss: 0.1436 - acc: 0.9490 - val_loss: 0.2862 - val_acc: 0.9078\n"
     ]
    }
   ],
   "source": [
    "history = model.fit(X_train, y_train_social, batch_size=128, epochs=10, verbose=1, validation_split=0.2)"
   ]
  },
  {
   "cell_type": "code",
   "execution_count": 20,
   "metadata": {},
   "outputs": [],
   "source": [
    "social_predictions = model.predict(X_test)"
   ]
  },
  {
   "cell_type": "code",
   "execution_count": 21,
   "metadata": {},
   "outputs": [],
   "source": [
    "social_predictions = social_predictions[:,0]"
   ]
  },
  {
   "cell_type": "code",
   "execution_count": 22,
   "metadata": {},
   "outputs": [
    {
     "data": {
      "text/plain": [
       "array([0.10023057, 0.02747902, 0.03188443, ..., 0.0282737 , 0.99396795,\n",
       "       0.02831995], dtype=float32)"
      ]
     },
     "execution_count": 22,
     "metadata": {},
     "output_type": "execute_result"
    }
   ],
   "source": [
    "social_predictions"
   ]
  },
  {
   "cell_type": "code",
   "execution_count": 23,
   "metadata": {},
   "outputs": [
    {
     "data": {
      "text/plain": [
       "69833"
      ]
     },
     "execution_count": 23,
     "metadata": {},
     "output_type": "execute_result"
    }
   ],
   "source": [
    "len(social_predictions)"
   ]
  },
  {
   "cell_type": "code",
   "execution_count": null,
   "metadata": {},
   "outputs": [],
   "source": []
  },
  {
   "cell_type": "code",
   "execution_count": null,
   "metadata": {},
   "outputs": [],
   "source": []
  },
  {
   "cell_type": "code",
   "execution_count": null,
   "metadata": {},
   "outputs": [],
   "source": []
  },
  {
   "cell_type": "markdown",
   "metadata": {},
   "source": [
    "### Fit the model for the Agency Label"
   ]
  },
  {
   "cell_type": "code",
   "execution_count": 24,
   "metadata": {},
   "outputs": [
    {
     "name": "stdout",
     "output_type": "stream",
     "text": [
      "Epoch 1/10\n",
      "62/62 [==============================] - 3s 48ms/step - loss: 0.6855 - acc: 0.6714 - val_loss: 0.5352 - val_acc: 0.7340\n",
      "Epoch 2/10\n",
      "62/62 [==============================] - 3s 49ms/step - loss: 0.4754 - acc: 0.7936 - val_loss: 0.4441 - val_acc: 0.8166\n",
      "Epoch 3/10\n",
      "62/62 [==============================] - 5s 73ms/step - loss: 0.4075 - acc: 0.8339 - val_loss: 0.4022 - val_acc: 0.8327\n",
      "Epoch 4/10\n",
      "62/62 [==============================] - 4s 70ms/step - loss: 0.3619 - acc: 0.8489 - val_loss: 0.3792 - val_acc: 0.8373\n",
      "Epoch 5/10\n",
      "62/62 [==============================] - 4s 56ms/step - loss: 0.3399 - acc: 0.8566 - val_loss: 0.3883 - val_acc: 0.8292\n",
      "Epoch 6/10\n",
      "62/62 [==============================] - 3s 49ms/step - loss: 0.3219 - acc: 0.8657 - val_loss: 0.3689 - val_acc: 0.8383\n",
      "Epoch 7/10\n",
      "62/62 [==============================] - 3s 50ms/step - loss: 0.3091 - acc: 0.8662 - val_loss: 0.3776 - val_acc: 0.8358\n",
      "Epoch 8/10\n",
      "62/62 [==============================] - 3s 53ms/step - loss: 0.2966 - acc: 0.8729 - val_loss: 0.3654 - val_acc: 0.8448\n",
      "Epoch 9/10\n",
      "62/62 [==============================] - 3s 51ms/step - loss: 0.2788 - acc: 0.8800 - val_loss: 0.3868 - val_acc: 0.8418\n",
      "Epoch 10/10\n",
      "62/62 [==============================] - 3s 49ms/step - loss: 0.2652 - acc: 0.8852 - val_loss: 0.3568 - val_acc: 0.8413\n"
     ]
    }
   ],
   "source": [
    "history = model.fit(X_train, y_train_agency, batch_size=128, epochs=10, verbose=1, validation_split=0.2)"
   ]
  },
  {
   "cell_type": "code",
   "execution_count": 25,
   "metadata": {},
   "outputs": [],
   "source": [
    "agency_predictions = model.predict(X_test)"
   ]
  },
  {
   "cell_type": "code",
   "execution_count": 26,
   "metadata": {},
   "outputs": [
    {
     "data": {
      "text/plain": [
       "array([0.9788944 , 0.99270964, 0.9705154 , ..., 0.99407226, 0.99158716,\n",
       "       0.9912778 ], dtype=float32)"
      ]
     },
     "execution_count": 26,
     "metadata": {},
     "output_type": "execute_result"
    }
   ],
   "source": [
    "agency_predictions = agency_predictions[:,0]\n",
    "agency_predictions"
   ]
  },
  {
   "cell_type": "code",
   "execution_count": 27,
   "metadata": {},
   "outputs": [
    {
     "data": {
      "text/plain": [
       "69833"
      ]
     },
     "execution_count": 27,
     "metadata": {},
     "output_type": "execute_result"
    }
   ],
   "source": [
    "len(agency_predictions)"
   ]
  },
  {
   "cell_type": "code",
   "execution_count": 28,
   "metadata": {},
   "outputs": [],
   "source": [
    "def getBinary(val):\n",
    "    if val > .5:\n",
    "        return 'yes'\n",
    "    else:\n",
    "        return 'no'"
   ]
  },
  {
   "cell_type": "code",
   "execution_count": 29,
   "metadata": {},
   "outputs": [
    {
     "data": {
      "text/html": [
       "<div>\n",
       "<style scoped>\n",
       "    .dataframe tbody tr th:only-of-type {\n",
       "        vertical-align: middle;\n",
       "    }\n",
       "\n",
       "    .dataframe tbody tr th {\n",
       "        vertical-align: top;\n",
       "    }\n",
       "\n",
       "    .dataframe thead th {\n",
       "        text-align: right;\n",
       "    }\n",
       "</style>\n",
       "<table border=\"1\" class=\"dataframe\">\n",
       "  <thead>\n",
       "    <tr style=\"text-align: right;\">\n",
       "      <th></th>\n",
       "      <th>social</th>\n",
       "    </tr>\n",
       "  </thead>\n",
       "  <tbody>\n",
       "    <tr>\n",
       "      <th>0</th>\n",
       "      <td>no</td>\n",
       "    </tr>\n",
       "    <tr>\n",
       "      <th>1</th>\n",
       "      <td>no</td>\n",
       "    </tr>\n",
       "    <tr>\n",
       "      <th>2</th>\n",
       "      <td>no</td>\n",
       "    </tr>\n",
       "    <tr>\n",
       "      <th>3</th>\n",
       "      <td>no</td>\n",
       "    </tr>\n",
       "    <tr>\n",
       "      <th>4</th>\n",
       "      <td>yes</td>\n",
       "    </tr>\n",
       "    <tr>\n",
       "      <th>...</th>\n",
       "      <td>...</td>\n",
       "    </tr>\n",
       "    <tr>\n",
       "      <th>69828</th>\n",
       "      <td>yes</td>\n",
       "    </tr>\n",
       "    <tr>\n",
       "      <th>69829</th>\n",
       "      <td>yes</td>\n",
       "    </tr>\n",
       "    <tr>\n",
       "      <th>69830</th>\n",
       "      <td>no</td>\n",
       "    </tr>\n",
       "    <tr>\n",
       "      <th>69831</th>\n",
       "      <td>yes</td>\n",
       "    </tr>\n",
       "    <tr>\n",
       "      <th>69832</th>\n",
       "      <td>no</td>\n",
       "    </tr>\n",
       "  </tbody>\n",
       "</table>\n",
       "<p>69833 rows × 1 columns</p>\n",
       "</div>"
      ],
      "text/plain": [
       "      social\n",
       "0         no\n",
       "1         no\n",
       "2         no\n",
       "3         no\n",
       "4        yes\n",
       "...      ...\n",
       "69828    yes\n",
       "69829    yes\n",
       "69830     no\n",
       "69831    yes\n",
       "69832     no\n",
       "\n",
       "[69833 rows x 1 columns]"
      ]
     },
     "execution_count": 29,
     "metadata": {},
     "output_type": "execute_result"
    }
   ],
   "source": [
    "social_predictions = pd.DataFrame(social_predictions, columns=['social'])\n",
    "social_predictions['social'] = social_predictions['social'].apply(getBinary) \n",
    "social_predictions"
   ]
  },
  {
   "cell_type": "code",
   "execution_count": 30,
   "metadata": {},
   "outputs": [
    {
     "data": {
      "text/html": [
       "<div>\n",
       "<style scoped>\n",
       "    .dataframe tbody tr th:only-of-type {\n",
       "        vertical-align: middle;\n",
       "    }\n",
       "\n",
       "    .dataframe tbody tr th {\n",
       "        vertical-align: top;\n",
       "    }\n",
       "\n",
       "    .dataframe thead th {\n",
       "        text-align: right;\n",
       "    }\n",
       "</style>\n",
       "<table border=\"1\" class=\"dataframe\">\n",
       "  <thead>\n",
       "    <tr style=\"text-align: right;\">\n",
       "      <th></th>\n",
       "      <th>agency</th>\n",
       "    </tr>\n",
       "  </thead>\n",
       "  <tbody>\n",
       "    <tr>\n",
       "      <th>0</th>\n",
       "      <td>yes</td>\n",
       "    </tr>\n",
       "    <tr>\n",
       "      <th>1</th>\n",
       "      <td>yes</td>\n",
       "    </tr>\n",
       "    <tr>\n",
       "      <th>2</th>\n",
       "      <td>yes</td>\n",
       "    </tr>\n",
       "    <tr>\n",
       "      <th>3</th>\n",
       "      <td>yes</td>\n",
       "    </tr>\n",
       "    <tr>\n",
       "      <th>4</th>\n",
       "      <td>no</td>\n",
       "    </tr>\n",
       "    <tr>\n",
       "      <th>...</th>\n",
       "      <td>...</td>\n",
       "    </tr>\n",
       "    <tr>\n",
       "      <th>69828</th>\n",
       "      <td>yes</td>\n",
       "    </tr>\n",
       "    <tr>\n",
       "      <th>69829</th>\n",
       "      <td>no</td>\n",
       "    </tr>\n",
       "    <tr>\n",
       "      <th>69830</th>\n",
       "      <td>yes</td>\n",
       "    </tr>\n",
       "    <tr>\n",
       "      <th>69831</th>\n",
       "      <td>yes</td>\n",
       "    </tr>\n",
       "    <tr>\n",
       "      <th>69832</th>\n",
       "      <td>yes</td>\n",
       "    </tr>\n",
       "  </tbody>\n",
       "</table>\n",
       "<p>69833 rows × 1 columns</p>\n",
       "</div>"
      ],
      "text/plain": [
       "      agency\n",
       "0        yes\n",
       "1        yes\n",
       "2        yes\n",
       "3        yes\n",
       "4         no\n",
       "...      ...\n",
       "69828    yes\n",
       "69829     no\n",
       "69830    yes\n",
       "69831    yes\n",
       "69832    yes\n",
       "\n",
       "[69833 rows x 1 columns]"
      ]
     },
     "execution_count": 30,
     "metadata": {},
     "output_type": "execute_result"
    }
   ],
   "source": [
    "agency_predictions = pd.DataFrame(agency_predictions, columns=['agency'])\n",
    "agency_predictions['agency'] = agency_predictions['agency'].apply(getBinary)\n",
    "agency_predictions"
   ]
  },
  {
   "cell_type": "code",
   "execution_count": 31,
   "metadata": {},
   "outputs": [],
   "source": [
    "results = pd.read_pickle('unlabelled_data.pkl')"
   ]
  },
  {
   "cell_type": "code",
   "execution_count": 32,
   "metadata": {},
   "outputs": [
    {
     "name": "stdout",
     "output_type": "stream",
     "text": [
      "(69833, 2)\n"
     ]
    },
    {
     "data": {
      "text/html": [
       "<div>\n",
       "<style scoped>\n",
       "    .dataframe tbody tr th:only-of-type {\n",
       "        vertical-align: middle;\n",
       "    }\n",
       "\n",
       "    .dataframe tbody tr th {\n",
       "        vertical-align: top;\n",
       "    }\n",
       "\n",
       "    .dataframe thead th {\n",
       "        text-align: right;\n",
       "    }\n",
       "</style>\n",
       "<table border=\"1\" class=\"dataframe\">\n",
       "  <thead>\n",
       "    <tr style=\"text-align: right;\">\n",
       "      <th></th>\n",
       "      <th>hmid</th>\n",
       "      <th>moment</th>\n",
       "    </tr>\n",
       "  </thead>\n",
       "  <tbody>\n",
       "    <tr>\n",
       "      <th>0</th>\n",
       "      <td>27673</td>\n",
       "      <td>i went successful date someone i felt sympathy...</td>\n",
       "    </tr>\n",
       "    <tr>\n",
       "      <th>1</th>\n",
       "      <td>27675</td>\n",
       "      <td>i went gym morning yoga</td>\n",
       "    </tr>\n",
       "    <tr>\n",
       "      <th>2</th>\n",
       "      <td>27678</td>\n",
       "      <td>i meditated last night</td>\n",
       "    </tr>\n",
       "    <tr>\n",
       "      <th>3</th>\n",
       "      <td>27679</td>\n",
       "      <td>i made new recipe peasant bread it came specta...</td>\n",
       "    </tr>\n",
       "    <tr>\n",
       "      <th>4</th>\n",
       "      <td>27680</td>\n",
       "      <td>i got gift my elder brother really surprising me</td>\n",
       "    </tr>\n",
       "    <tr>\n",
       "      <th>...</th>\n",
       "      <td>...</td>\n",
       "      <td>...</td>\n",
       "    </tr>\n",
       "    <tr>\n",
       "      <th>69828</th>\n",
       "      <td>128761</td>\n",
       "      <td>i spent time my daughter</td>\n",
       "    </tr>\n",
       "    <tr>\n",
       "      <th>69829</th>\n",
       "      <td>128762</td>\n",
       "      <td>my husband announced he getting decent bonus q...</td>\n",
       "    </tr>\n",
       "    <tr>\n",
       "      <th>69830</th>\n",
       "      <td>128763</td>\n",
       "      <td>pepsi drink</td>\n",
       "    </tr>\n",
       "    <tr>\n",
       "      <th>69831</th>\n",
       "      <td>128764</td>\n",
       "      <td>cuddling my girlfriend last night</td>\n",
       "    </tr>\n",
       "    <tr>\n",
       "      <th>69832</th>\n",
       "      <td>128766</td>\n",
       "      <td>i great workout last night</td>\n",
       "    </tr>\n",
       "  </tbody>\n",
       "</table>\n",
       "<p>69833 rows × 2 columns</p>\n",
       "</div>"
      ],
      "text/plain": [
       "         hmid                                             moment\n",
       "0       27673  i went successful date someone i felt sympathy...\n",
       "1       27675                           i went gym morning yoga \n",
       "2       27678                            i meditated last night \n",
       "3       27679  i made new recipe peasant bread it came specta...\n",
       "4       27680  i got gift my elder brother really surprising me \n",
       "...       ...                                                ...\n",
       "69828  128761                          i spent time my daughter \n",
       "69829  128762  my husband announced he getting decent bonus q...\n",
       "69830  128763                                       pepsi drink \n",
       "69831  128764                 cuddling my girlfriend last night \n",
       "69832  128766                        i great workout last night \n",
       "\n",
       "[69833 rows x 2 columns]"
      ]
     },
     "execution_count": 32,
     "metadata": {},
     "output_type": "execute_result"
    }
   ],
   "source": [
    "print(results.shape)\n",
    "results"
   ]
  },
  {
   "cell_type": "code",
   "execution_count": 33,
   "metadata": {},
   "outputs": [
    {
     "data": {
      "text/html": [
       "<div>\n",
       "<style scoped>\n",
       "    .dataframe tbody tr th:only-of-type {\n",
       "        vertical-align: middle;\n",
       "    }\n",
       "\n",
       "    .dataframe tbody tr th {\n",
       "        vertical-align: top;\n",
       "    }\n",
       "\n",
       "    .dataframe thead th {\n",
       "        text-align: right;\n",
       "    }\n",
       "</style>\n",
       "<table border=\"1\" class=\"dataframe\">\n",
       "  <thead>\n",
       "    <tr style=\"text-align: right;\">\n",
       "      <th></th>\n",
       "      <th>hmid</th>\n",
       "      <th>moment</th>\n",
       "      <th>social</th>\n",
       "    </tr>\n",
       "  </thead>\n",
       "  <tbody>\n",
       "    <tr>\n",
       "      <th>0</th>\n",
       "      <td>27673</td>\n",
       "      <td>i went successful date someone i felt sympathy...</td>\n",
       "      <td>no</td>\n",
       "    </tr>\n",
       "    <tr>\n",
       "      <th>1</th>\n",
       "      <td>27675</td>\n",
       "      <td>i went gym morning yoga</td>\n",
       "      <td>no</td>\n",
       "    </tr>\n",
       "    <tr>\n",
       "      <th>2</th>\n",
       "      <td>27678</td>\n",
       "      <td>i meditated last night</td>\n",
       "      <td>no</td>\n",
       "    </tr>\n",
       "    <tr>\n",
       "      <th>3</th>\n",
       "      <td>27679</td>\n",
       "      <td>i made new recipe peasant bread it came specta...</td>\n",
       "      <td>no</td>\n",
       "    </tr>\n",
       "    <tr>\n",
       "      <th>4</th>\n",
       "      <td>27680</td>\n",
       "      <td>i got gift my elder brother really surprising me</td>\n",
       "      <td>yes</td>\n",
       "    </tr>\n",
       "    <tr>\n",
       "      <th>...</th>\n",
       "      <td>...</td>\n",
       "      <td>...</td>\n",
       "      <td>...</td>\n",
       "    </tr>\n",
       "    <tr>\n",
       "      <th>69828</th>\n",
       "      <td>128761</td>\n",
       "      <td>i spent time my daughter</td>\n",
       "      <td>yes</td>\n",
       "    </tr>\n",
       "    <tr>\n",
       "      <th>69829</th>\n",
       "      <td>128762</td>\n",
       "      <td>my husband announced he getting decent bonus q...</td>\n",
       "      <td>yes</td>\n",
       "    </tr>\n",
       "    <tr>\n",
       "      <th>69830</th>\n",
       "      <td>128763</td>\n",
       "      <td>pepsi drink</td>\n",
       "      <td>no</td>\n",
       "    </tr>\n",
       "    <tr>\n",
       "      <th>69831</th>\n",
       "      <td>128764</td>\n",
       "      <td>cuddling my girlfriend last night</td>\n",
       "      <td>yes</td>\n",
       "    </tr>\n",
       "    <tr>\n",
       "      <th>69832</th>\n",
       "      <td>128766</td>\n",
       "      <td>i great workout last night</td>\n",
       "      <td>no</td>\n",
       "    </tr>\n",
       "  </tbody>\n",
       "</table>\n",
       "<p>69833 rows × 3 columns</p>\n",
       "</div>"
      ],
      "text/plain": [
       "         hmid                                             moment social\n",
       "0       27673  i went successful date someone i felt sympathy...     no\n",
       "1       27675                           i went gym morning yoga      no\n",
       "2       27678                            i meditated last night      no\n",
       "3       27679  i made new recipe peasant bread it came specta...     no\n",
       "4       27680  i got gift my elder brother really surprising me     yes\n",
       "...       ...                                                ...    ...\n",
       "69828  128761                          i spent time my daughter     yes\n",
       "69829  128762  my husband announced he getting decent bonus q...    yes\n",
       "69830  128763                                       pepsi drink      no\n",
       "69831  128764                 cuddling my girlfriend last night     yes\n",
       "69832  128766                        i great workout last night      no\n",
       "\n",
       "[69833 rows x 3 columns]"
      ]
     },
     "execution_count": 33,
     "metadata": {},
     "output_type": "execute_result"
    }
   ],
   "source": [
    "results['social'] = social_predictions['social']\n",
    "results"
   ]
  },
  {
   "cell_type": "code",
   "execution_count": 34,
   "metadata": {},
   "outputs": [
    {
     "data": {
      "text/html": [
       "<div>\n",
       "<style scoped>\n",
       "    .dataframe tbody tr th:only-of-type {\n",
       "        vertical-align: middle;\n",
       "    }\n",
       "\n",
       "    .dataframe tbody tr th {\n",
       "        vertical-align: top;\n",
       "    }\n",
       "\n",
       "    .dataframe thead th {\n",
       "        text-align: right;\n",
       "    }\n",
       "</style>\n",
       "<table border=\"1\" class=\"dataframe\">\n",
       "  <thead>\n",
       "    <tr style=\"text-align: right;\">\n",
       "      <th></th>\n",
       "      <th>hmid</th>\n",
       "      <th>moment</th>\n",
       "      <th>social</th>\n",
       "      <th>agency</th>\n",
       "    </tr>\n",
       "  </thead>\n",
       "  <tbody>\n",
       "    <tr>\n",
       "      <th>0</th>\n",
       "      <td>27673</td>\n",
       "      <td>i went successful date someone i felt sympathy...</td>\n",
       "      <td>no</td>\n",
       "      <td>yes</td>\n",
       "    </tr>\n",
       "    <tr>\n",
       "      <th>1</th>\n",
       "      <td>27675</td>\n",
       "      <td>i went gym morning yoga</td>\n",
       "      <td>no</td>\n",
       "      <td>yes</td>\n",
       "    </tr>\n",
       "    <tr>\n",
       "      <th>2</th>\n",
       "      <td>27678</td>\n",
       "      <td>i meditated last night</td>\n",
       "      <td>no</td>\n",
       "      <td>yes</td>\n",
       "    </tr>\n",
       "    <tr>\n",
       "      <th>3</th>\n",
       "      <td>27679</td>\n",
       "      <td>i made new recipe peasant bread it came specta...</td>\n",
       "      <td>no</td>\n",
       "      <td>yes</td>\n",
       "    </tr>\n",
       "    <tr>\n",
       "      <th>4</th>\n",
       "      <td>27680</td>\n",
       "      <td>i got gift my elder brother really surprising me</td>\n",
       "      <td>yes</td>\n",
       "      <td>no</td>\n",
       "    </tr>\n",
       "    <tr>\n",
       "      <th>...</th>\n",
       "      <td>...</td>\n",
       "      <td>...</td>\n",
       "      <td>...</td>\n",
       "      <td>...</td>\n",
       "    </tr>\n",
       "    <tr>\n",
       "      <th>69828</th>\n",
       "      <td>128761</td>\n",
       "      <td>i spent time my daughter</td>\n",
       "      <td>yes</td>\n",
       "      <td>yes</td>\n",
       "    </tr>\n",
       "    <tr>\n",
       "      <th>69829</th>\n",
       "      <td>128762</td>\n",
       "      <td>my husband announced he getting decent bonus q...</td>\n",
       "      <td>yes</td>\n",
       "      <td>no</td>\n",
       "    </tr>\n",
       "    <tr>\n",
       "      <th>69830</th>\n",
       "      <td>128763</td>\n",
       "      <td>pepsi drink</td>\n",
       "      <td>no</td>\n",
       "      <td>yes</td>\n",
       "    </tr>\n",
       "    <tr>\n",
       "      <th>69831</th>\n",
       "      <td>128764</td>\n",
       "      <td>cuddling my girlfriend last night</td>\n",
       "      <td>yes</td>\n",
       "      <td>yes</td>\n",
       "    </tr>\n",
       "    <tr>\n",
       "      <th>69832</th>\n",
       "      <td>128766</td>\n",
       "      <td>i great workout last night</td>\n",
       "      <td>no</td>\n",
       "      <td>yes</td>\n",
       "    </tr>\n",
       "  </tbody>\n",
       "</table>\n",
       "<p>69833 rows × 4 columns</p>\n",
       "</div>"
      ],
      "text/plain": [
       "         hmid                                             moment social agency\n",
       "0       27673  i went successful date someone i felt sympathy...     no    yes\n",
       "1       27675                           i went gym morning yoga      no    yes\n",
       "2       27678                            i meditated last night      no    yes\n",
       "3       27679  i made new recipe peasant bread it came specta...     no    yes\n",
       "4       27680  i got gift my elder brother really surprising me     yes     no\n",
       "...       ...                                                ...    ...    ...\n",
       "69828  128761                          i spent time my daughter     yes    yes\n",
       "69829  128762  my husband announced he getting decent bonus q...    yes     no\n",
       "69830  128763                                       pepsi drink      no    yes\n",
       "69831  128764                 cuddling my girlfriend last night     yes    yes\n",
       "69832  128766                        i great workout last night      no    yes\n",
       "\n",
       "[69833 rows x 4 columns]"
      ]
     },
     "execution_count": 34,
     "metadata": {},
     "output_type": "execute_result"
    }
   ],
   "source": [
    "results['agency'] = agency_predictions['agency']\n",
    "results"
   ]
  },
  {
   "cell_type": "markdown",
   "metadata": {},
   "source": [
    "### Converting the output 'yes' and 'no' to binary values"
   ]
  },
  {
   "cell_type": "code",
   "execution_count": 47,
   "metadata": {},
   "outputs": [
    {
     "data": {
      "text/html": [
       "<div>\n",
       "<style scoped>\n",
       "    .dataframe tbody tr th:only-of-type {\n",
       "        vertical-align: middle;\n",
       "    }\n",
       "\n",
       "    .dataframe tbody tr th {\n",
       "        vertical-align: top;\n",
       "    }\n",
       "\n",
       "    .dataframe thead th {\n",
       "        text-align: right;\n",
       "    }\n",
       "</style>\n",
       "<table border=\"1\" class=\"dataframe\">\n",
       "  <thead>\n",
       "    <tr style=\"text-align: right;\">\n",
       "      <th></th>\n",
       "      <th>hmid</th>\n",
       "      <th>moment</th>\n",
       "      <th>social</th>\n",
       "      <th>agency</th>\n",
       "    </tr>\n",
       "  </thead>\n",
       "  <tbody>\n",
       "    <tr>\n",
       "      <th>0</th>\n",
       "      <td>27673</td>\n",
       "      <td>i went successful date someone i felt sympathy...</td>\n",
       "      <td>0</td>\n",
       "      <td>yes</td>\n",
       "    </tr>\n",
       "    <tr>\n",
       "      <th>1</th>\n",
       "      <td>27675</td>\n",
       "      <td>i went gym morning yoga</td>\n",
       "      <td>0</td>\n",
       "      <td>yes</td>\n",
       "    </tr>\n",
       "    <tr>\n",
       "      <th>2</th>\n",
       "      <td>27678</td>\n",
       "      <td>i meditated last night</td>\n",
       "      <td>0</td>\n",
       "      <td>yes</td>\n",
       "    </tr>\n",
       "    <tr>\n",
       "      <th>3</th>\n",
       "      <td>27679</td>\n",
       "      <td>i made new recipe peasant bread it came specta...</td>\n",
       "      <td>0</td>\n",
       "      <td>yes</td>\n",
       "    </tr>\n",
       "    <tr>\n",
       "      <th>4</th>\n",
       "      <td>27680</td>\n",
       "      <td>i got gift my elder brother really surprising me</td>\n",
       "      <td>1</td>\n",
       "      <td>no</td>\n",
       "    </tr>\n",
       "    <tr>\n",
       "      <th>...</th>\n",
       "      <td>...</td>\n",
       "      <td>...</td>\n",
       "      <td>...</td>\n",
       "      <td>...</td>\n",
       "    </tr>\n",
       "    <tr>\n",
       "      <th>69828</th>\n",
       "      <td>128761</td>\n",
       "      <td>i spent time my daughter</td>\n",
       "      <td>1</td>\n",
       "      <td>yes</td>\n",
       "    </tr>\n",
       "    <tr>\n",
       "      <th>69829</th>\n",
       "      <td>128762</td>\n",
       "      <td>my husband announced he getting decent bonus q...</td>\n",
       "      <td>1</td>\n",
       "      <td>no</td>\n",
       "    </tr>\n",
       "    <tr>\n",
       "      <th>69830</th>\n",
       "      <td>128763</td>\n",
       "      <td>pepsi drink</td>\n",
       "      <td>0</td>\n",
       "      <td>yes</td>\n",
       "    </tr>\n",
       "    <tr>\n",
       "      <th>69831</th>\n",
       "      <td>128764</td>\n",
       "      <td>cuddling my girlfriend last night</td>\n",
       "      <td>1</td>\n",
       "      <td>yes</td>\n",
       "    </tr>\n",
       "    <tr>\n",
       "      <th>69832</th>\n",
       "      <td>128766</td>\n",
       "      <td>i great workout last night</td>\n",
       "      <td>0</td>\n",
       "      <td>yes</td>\n",
       "    </tr>\n",
       "  </tbody>\n",
       "</table>\n",
       "<p>69833 rows × 4 columns</p>\n",
       "</div>"
      ],
      "text/plain": [
       "         hmid                                             moment  social  \\\n",
       "0       27673  i went successful date someone i felt sympathy...       0   \n",
       "1       27675                           i went gym morning yoga        0   \n",
       "2       27678                            i meditated last night        0   \n",
       "3       27679  i made new recipe peasant bread it came specta...       0   \n",
       "4       27680  i got gift my elder brother really surprising me        1   \n",
       "...       ...                                                ...     ...   \n",
       "69828  128761                          i spent time my daughter        1   \n",
       "69829  128762  my husband announced he getting decent bonus q...       1   \n",
       "69830  128763                                       pepsi drink        0   \n",
       "69831  128764                 cuddling my girlfriend last night        1   \n",
       "69832  128766                        i great workout last night        0   \n",
       "\n",
       "      agency  \n",
       "0        yes  \n",
       "1        yes  \n",
       "2        yes  \n",
       "3        yes  \n",
       "4         no  \n",
       "...      ...  \n",
       "69828    yes  \n",
       "69829     no  \n",
       "69830    yes  \n",
       "69831    yes  \n",
       "69832    yes  \n",
       "\n",
       "[69833 rows x 4 columns]"
      ]
     },
     "execution_count": 47,
     "metadata": {},
     "output_type": "execute_result"
    }
   ],
   "source": [
    "results['social'] = results['social'].replace({'yes':1,'no':0})\n",
    "results"
   ]
  },
  {
   "cell_type": "code",
   "execution_count": 48,
   "metadata": {},
   "outputs": [
    {
     "data": {
      "text/html": [
       "<div>\n",
       "<style scoped>\n",
       "    .dataframe tbody tr th:only-of-type {\n",
       "        vertical-align: middle;\n",
       "    }\n",
       "\n",
       "    .dataframe tbody tr th {\n",
       "        vertical-align: top;\n",
       "    }\n",
       "\n",
       "    .dataframe thead th {\n",
       "        text-align: right;\n",
       "    }\n",
       "</style>\n",
       "<table border=\"1\" class=\"dataframe\">\n",
       "  <thead>\n",
       "    <tr style=\"text-align: right;\">\n",
       "      <th></th>\n",
       "      <th>hmid</th>\n",
       "      <th>moment</th>\n",
       "      <th>social</th>\n",
       "      <th>agency</th>\n",
       "    </tr>\n",
       "  </thead>\n",
       "  <tbody>\n",
       "    <tr>\n",
       "      <th>0</th>\n",
       "      <td>27673</td>\n",
       "      <td>i went successful date someone i felt sympathy...</td>\n",
       "      <td>0</td>\n",
       "      <td>1</td>\n",
       "    </tr>\n",
       "    <tr>\n",
       "      <th>1</th>\n",
       "      <td>27675</td>\n",
       "      <td>i went gym morning yoga</td>\n",
       "      <td>0</td>\n",
       "      <td>1</td>\n",
       "    </tr>\n",
       "    <tr>\n",
       "      <th>2</th>\n",
       "      <td>27678</td>\n",
       "      <td>i meditated last night</td>\n",
       "      <td>0</td>\n",
       "      <td>1</td>\n",
       "    </tr>\n",
       "    <tr>\n",
       "      <th>3</th>\n",
       "      <td>27679</td>\n",
       "      <td>i made new recipe peasant bread it came specta...</td>\n",
       "      <td>0</td>\n",
       "      <td>1</td>\n",
       "    </tr>\n",
       "    <tr>\n",
       "      <th>4</th>\n",
       "      <td>27680</td>\n",
       "      <td>i got gift my elder brother really surprising me</td>\n",
       "      <td>1</td>\n",
       "      <td>0</td>\n",
       "    </tr>\n",
       "    <tr>\n",
       "      <th>...</th>\n",
       "      <td>...</td>\n",
       "      <td>...</td>\n",
       "      <td>...</td>\n",
       "      <td>...</td>\n",
       "    </tr>\n",
       "    <tr>\n",
       "      <th>69828</th>\n",
       "      <td>128761</td>\n",
       "      <td>i spent time my daughter</td>\n",
       "      <td>1</td>\n",
       "      <td>1</td>\n",
       "    </tr>\n",
       "    <tr>\n",
       "      <th>69829</th>\n",
       "      <td>128762</td>\n",
       "      <td>my husband announced he getting decent bonus q...</td>\n",
       "      <td>1</td>\n",
       "      <td>0</td>\n",
       "    </tr>\n",
       "    <tr>\n",
       "      <th>69830</th>\n",
       "      <td>128763</td>\n",
       "      <td>pepsi drink</td>\n",
       "      <td>0</td>\n",
       "      <td>1</td>\n",
       "    </tr>\n",
       "    <tr>\n",
       "      <th>69831</th>\n",
       "      <td>128764</td>\n",
       "      <td>cuddling my girlfriend last night</td>\n",
       "      <td>1</td>\n",
       "      <td>1</td>\n",
       "    </tr>\n",
       "    <tr>\n",
       "      <th>69832</th>\n",
       "      <td>128766</td>\n",
       "      <td>i great workout last night</td>\n",
       "      <td>0</td>\n",
       "      <td>1</td>\n",
       "    </tr>\n",
       "  </tbody>\n",
       "</table>\n",
       "<p>69833 rows × 4 columns</p>\n",
       "</div>"
      ],
      "text/plain": [
       "         hmid                                             moment  social  \\\n",
       "0       27673  i went successful date someone i felt sympathy...       0   \n",
       "1       27675                           i went gym morning yoga        0   \n",
       "2       27678                            i meditated last night        0   \n",
       "3       27679  i made new recipe peasant bread it came specta...       0   \n",
       "4       27680  i got gift my elder brother really surprising me        1   \n",
       "...       ...                                                ...     ...   \n",
       "69828  128761                          i spent time my daughter        1   \n",
       "69829  128762  my husband announced he getting decent bonus q...       1   \n",
       "69830  128763                                       pepsi drink        0   \n",
       "69831  128764                 cuddling my girlfriend last night        1   \n",
       "69832  128766                        i great workout last night        0   \n",
       "\n",
       "       agency  \n",
       "0           1  \n",
       "1           1  \n",
       "2           1  \n",
       "3           1  \n",
       "4           0  \n",
       "...       ...  \n",
       "69828       1  \n",
       "69829       0  \n",
       "69830       1  \n",
       "69831       1  \n",
       "69832       1  \n",
       "\n",
       "[69833 rows x 4 columns]"
      ]
     },
     "execution_count": 48,
     "metadata": {},
     "output_type": "execute_result"
    }
   ],
   "source": [
    "results['agency'] = results['agency'].replace({'yes':1,'no':0})\n",
    "results"
   ]
  },
  {
   "cell_type": "code",
   "execution_count": 49,
   "metadata": {},
   "outputs": [],
   "source": [
    "pd.to_pickle(results, 'predicted_unlabeled_data.pkl')"
   ]
  },
  {
   "cell_type": "code",
   "execution_count": null,
   "metadata": {},
   "outputs": [],
   "source": []
  },
  {
   "cell_type": "code",
   "execution_count": null,
   "metadata": {},
   "outputs": [],
   "source": []
  },
  {
   "cell_type": "code",
   "execution_count": null,
   "metadata": {},
   "outputs": [],
   "source": []
  }
 ],
 "metadata": {
  "kernelspec": {
   "display_name": "Python 3",
   "language": "python",
   "name": "python3"
  },
  "language_info": {
   "codemirror_mode": {
    "name": "ipython",
    "version": 3
   },
   "file_extension": ".py",
   "mimetype": "text/x-python",
   "name": "python",
   "nbconvert_exporter": "python",
   "pygments_lexer": "ipython3",
   "version": "3.8.2"
  }
 },
 "nbformat": 4,
 "nbformat_minor": 4
}
