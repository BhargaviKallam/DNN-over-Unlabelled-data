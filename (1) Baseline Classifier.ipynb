{
 "cells": [
  {
   "cell_type": "code",
   "execution_count": 38,
   "metadata": {},
   "outputs": [],
   "source": [
    "import pandas as pd \n",
    "import numpy as np\n",
    "import matplotlib.pyplot as plt"
   ]
  },
  {
   "cell_type": "code",
   "execution_count": 2,
   "metadata": {},
   "outputs": [],
   "source": [
    "# Split Dataset into Train and Text\n",
    "from sklearn.model_selection import train_test_split\n",
    "# TF-IDF (Feature Engineering)\n",
    "from sklearn.feature_extraction.text import TfidfVectorizer"
   ]
  },
  {
   "cell_type": "code",
   "execution_count": null,
   "metadata": {},
   "outputs": [],
   "source": [
    "# Other packages\n",
    "from sklearn.linear_model import SGDClassifier\n",
    "from sklearn.linear_model import LogisticRegression\n",
    "from sklearn.neighbors import KNeighborsClassifier\n",
    "from sklearn.svm import LinearSVC\n",
    "from sklearn.ensemble import RandomForestClassifier"
   ]
  },
  {
   "cell_type": "code",
   "execution_count": 5,
   "metadata": {},
   "outputs": [],
   "source": [
    "# Metrics\n",
    "from sklearn.metrics import accuracy_score, f1_score, precision_score, recall_score\n",
    "from sklearn.metrics import classification_report\n",
    "from sklearn.metrics import confusion_matrix\n",
    "import warnings\n",
    "warnings.filterwarnings(\"ignore\")\n",
    "import joblib\n",
    "from sklearn.metrics import confusion_matrix\n",
    "from sklearn.metrics import classification_report"
   ]
  },
  {
   "cell_type": "markdown",
   "metadata": {},
   "source": [
    "#### Reading the processed pickle file using the read_pickle()  method  [train.pkl - for the train dataset] [test.pkl for the test dataset]"
   ]
  },
  {
   "cell_type": "code",
   "execution_count": 6,
   "metadata": {},
   "outputs": [
    {
     "data": {
      "text/html": [
       "<div>\n",
       "<style scoped>\n",
       "    .dataframe tbody tr th:only-of-type {\n",
       "        vertical-align: middle;\n",
       "    }\n",
       "\n",
       "    .dataframe tbody tr th {\n",
       "        vertical-align: top;\n",
       "    }\n",
       "\n",
       "    .dataframe thead th {\n",
       "        text-align: right;\n",
       "    }\n",
       "</style>\n",
       "<table border=\"1\" class=\"dataframe\">\n",
       "  <thead>\n",
       "    <tr style=\"text-align: right;\">\n",
       "      <th></th>\n",
       "      <th>hmid</th>\n",
       "      <th>moment</th>\n",
       "      <th>social</th>\n",
       "      <th>agency</th>\n",
       "    </tr>\n",
       "  </thead>\n",
       "  <tbody>\n",
       "    <tr>\n",
       "      <th>0</th>\n",
       "      <td>27674</td>\n",
       "      <td>i happy my son got marks his examination</td>\n",
       "      <td>1</td>\n",
       "      <td>0</td>\n",
       "    </tr>\n",
       "    <tr>\n",
       "      <th>1</th>\n",
       "      <td>27685</td>\n",
       "      <td>went movies my friends it fun</td>\n",
       "      <td>1</td>\n",
       "      <td>1</td>\n",
       "    </tr>\n",
       "    <tr>\n",
       "      <th>2</th>\n",
       "      <td>27691</td>\n",
       "      <td>hot kiss my girl friend last night made my day</td>\n",
       "      <td>1</td>\n",
       "      <td>1</td>\n",
       "    </tr>\n",
       "    <tr>\n",
       "      <th>3</th>\n",
       "      <td>27701</td>\n",
       "      <td>my son woke me fantastic breakfast eggs his sp...</td>\n",
       "      <td>1</td>\n",
       "      <td>0</td>\n",
       "    </tr>\n",
       "    <tr>\n",
       "      <th>4</th>\n",
       "      <td>27712</td>\n",
       "      <td>my older daughter keeps patting my younger dau...</td>\n",
       "      <td>1</td>\n",
       "      <td>0</td>\n",
       "    </tr>\n",
       "    <tr>\n",
       "      <th>...</th>\n",
       "      <td>...</td>\n",
       "      <td>...</td>\n",
       "      <td>...</td>\n",
       "      <td>...</td>\n",
       "    </tr>\n",
       "    <tr>\n",
       "      <th>10555</th>\n",
       "      <td>128748</td>\n",
       "      <td>my husband called me tell me he loved me</td>\n",
       "      <td>1</td>\n",
       "      <td>0</td>\n",
       "    </tr>\n",
       "    <tr>\n",
       "      <th>10556</th>\n",
       "      <td>128753</td>\n",
       "      <td>i worked always makes me feel good</td>\n",
       "      <td>0</td>\n",
       "      <td>1</td>\n",
       "    </tr>\n",
       "    <tr>\n",
       "      <th>10557</th>\n",
       "      <td>128754</td>\n",
       "      <td>finally got watch new resident evil movie</td>\n",
       "      <td>0</td>\n",
       "      <td>1</td>\n",
       "    </tr>\n",
       "    <tr>\n",
       "      <th>10558</th>\n",
       "      <td>128757</td>\n",
       "      <td>i got talk old friend reminisce good times</td>\n",
       "      <td>1</td>\n",
       "      <td>1</td>\n",
       "    </tr>\n",
       "    <tr>\n",
       "      <th>10559</th>\n",
       "      <td>128765</td>\n",
       "      <td>i great meeting yesterday work my boss colleag...</td>\n",
       "      <td>1</td>\n",
       "      <td>1</td>\n",
       "    </tr>\n",
       "  </tbody>\n",
       "</table>\n",
       "<p>9921 rows × 4 columns</p>\n",
       "</div>"
      ],
      "text/plain": [
       "         hmid                                             moment  social  \\\n",
       "0       27674          i happy my son got marks his examination        1   \n",
       "1       27685                     went movies my friends it fun        1   \n",
       "2       27691    hot kiss my girl friend last night made my day        1   \n",
       "3       27701  my son woke me fantastic breakfast eggs his sp...       1   \n",
       "4       27712  my older daughter keeps patting my younger dau...       1   \n",
       "...       ...                                                ...     ...   \n",
       "10555  128748          my husband called me tell me he loved me        1   \n",
       "10556  128753                i worked always makes me feel good        0   \n",
       "10557  128754         finally got watch new resident evil movie        0   \n",
       "10558  128757        i got talk old friend reminisce good times        1   \n",
       "10559  128765  i great meeting yesterday work my boss colleag...       1   \n",
       "\n",
       "       agency  \n",
       "0           0  \n",
       "1           1  \n",
       "2           1  \n",
       "3           0  \n",
       "4           0  \n",
       "...       ...  \n",
       "10555       0  \n",
       "10556       1  \n",
       "10557       1  \n",
       "10558       1  \n",
       "10559       1  \n",
       "\n",
       "[9921 rows x 4 columns]"
      ]
     },
     "execution_count": 6,
     "metadata": {},
     "output_type": "execute_result"
    }
   ],
   "source": [
    "train = pd.read_pickle('train.pkl')\n",
    "train"
   ]
  },
  {
   "cell_type": "code",
   "execution_count": 7,
   "metadata": {},
   "outputs": [
    {
     "data": {
      "text/html": [
       "<div>\n",
       "<style scoped>\n",
       "    .dataframe tbody tr th:only-of-type {\n",
       "        vertical-align: middle;\n",
       "    }\n",
       "\n",
       "    .dataframe tbody tr th {\n",
       "        vertical-align: top;\n",
       "    }\n",
       "\n",
       "    .dataframe thead th {\n",
       "        text-align: right;\n",
       "    }\n",
       "</style>\n",
       "<table border=\"1\" class=\"dataframe\">\n",
       "  <thead>\n",
       "    <tr style=\"text-align: right;\">\n",
       "      <th></th>\n",
       "      <th>hmid</th>\n",
       "      <th>moment</th>\n",
       "      <th>social</th>\n",
       "      <th>agency</th>\n",
       "    </tr>\n",
       "  </thead>\n",
       "  <tbody>\n",
       "    <tr>\n",
       "      <th>0</th>\n",
       "      <td>0</td>\n",
       "      <td>i able spend day my fiance shopping yesterday</td>\n",
       "      <td>0</td>\n",
       "      <td>1</td>\n",
       "    </tr>\n",
       "    <tr>\n",
       "      <th>1</th>\n",
       "      <td>1</td>\n",
       "      <td>i able play my cat</td>\n",
       "      <td>0</td>\n",
       "      <td>1</td>\n",
       "    </tr>\n",
       "    <tr>\n",
       "      <th>2</th>\n",
       "      <td>2</td>\n",
       "      <td>i able clean my room gold my laundry</td>\n",
       "      <td>0</td>\n",
       "      <td>1</td>\n",
       "    </tr>\n",
       "    <tr>\n",
       "      <th>3</th>\n",
       "      <td>3</td>\n",
       "      <td>i spend day party beach i happy see friends i ...</td>\n",
       "      <td>1</td>\n",
       "      <td>1</td>\n",
       "    </tr>\n",
       "    <tr>\n",
       "      <th>4</th>\n",
       "      <td>4</td>\n",
       "      <td>my cat greeting me i got home work she sweet c...</td>\n",
       "      <td>0</td>\n",
       "      <td>0</td>\n",
       "    </tr>\n",
       "    <tr>\n",
       "      <th>...</th>\n",
       "      <td>...</td>\n",
       "      <td>...</td>\n",
       "      <td>...</td>\n",
       "      <td>...</td>\n",
       "    </tr>\n",
       "    <tr>\n",
       "      <th>17210</th>\n",
       "      <td>21892</td>\n",
       "      <td>my wife i went hike last week we became amazin...</td>\n",
       "      <td>1</td>\n",
       "      <td>1</td>\n",
       "    </tr>\n",
       "    <tr>\n",
       "      <th>17211</th>\n",
       "      <td>21893</td>\n",
       "      <td>i finally hit platinum rank overwatch</td>\n",
       "      <td>0</td>\n",
       "      <td>1</td>\n",
       "    </tr>\n",
       "    <tr>\n",
       "      <th>17212</th>\n",
       "      <td>21897</td>\n",
       "      <td>one my long time friends i finally acknowledge...</td>\n",
       "      <td>1</td>\n",
       "      <td>1</td>\n",
       "    </tr>\n",
       "    <tr>\n",
       "      <th>17213</th>\n",
       "      <td>21898</td>\n",
       "      <td>i earned professional certification</td>\n",
       "      <td>0</td>\n",
       "      <td>1</td>\n",
       "    </tr>\n",
       "    <tr>\n",
       "      <th>17214</th>\n",
       "      <td>21899</td>\n",
       "      <td>i built new computer</td>\n",
       "      <td>0</td>\n",
       "      <td>1</td>\n",
       "    </tr>\n",
       "  </tbody>\n",
       "</table>\n",
       "<p>17215 rows × 4 columns</p>\n",
       "</div>"
      ],
      "text/plain": [
       "        hmid                                             moment  social  \\\n",
       "0          0     i able spend day my fiance shopping yesterday        0   \n",
       "1          1                                i able play my cat        0   \n",
       "2          2              i able clean my room gold my laundry        0   \n",
       "3          3  i spend day party beach i happy see friends i ...       1   \n",
       "4          4  my cat greeting me i got home work she sweet c...       0   \n",
       "...      ...                                                ...     ...   \n",
       "17210  21892  my wife i went hike last week we became amazin...       1   \n",
       "17211  21893             i finally hit platinum rank overwatch        0   \n",
       "17212  21897  one my long time friends i finally acknowledge...       1   \n",
       "17213  21898               i earned professional certification        0   \n",
       "17214  21899                              i built new computer        0   \n",
       "\n",
       "       agency  \n",
       "0           1  \n",
       "1           1  \n",
       "2           1  \n",
       "3           1  \n",
       "4           0  \n",
       "...       ...  \n",
       "17210       1  \n",
       "17211       1  \n",
       "17212       1  \n",
       "17213       1  \n",
       "17214       1  \n",
       "\n",
       "[17215 rows x 4 columns]"
      ]
     },
     "execution_count": 7,
     "metadata": {},
     "output_type": "execute_result"
    }
   ],
   "source": [
    "test = pd.read_pickle('test.pkl')\n",
    "test "
   ]
  },
  {
   "cell_type": "markdown",
   "metadata": {},
   "source": [
    "### Exracting train and test columns \n",
    "\n",
    "'moment' columns is used as the X_feature and 'social' and 'agency' columns as the Y_features"
   ]
  },
  {
   "cell_type": "code",
   "execution_count": 8,
   "metadata": {},
   "outputs": [
    {
     "data": {
      "text/plain": [
       "0            i happy my son got marks his examination \n",
       "1                       went movies my friends it fun \n",
       "2      hot kiss my girl friend last night made my day \n",
       "3    my son woke me fantastic breakfast eggs his sp...\n",
       "4    my older daughter keeps patting my younger dau...\n",
       "Name: moment, dtype: object"
      ]
     },
     "metadata": {},
     "output_type": "display_data"
    },
    {
     "data": {
      "text/plain": [
       "0    1\n",
       "1    1\n",
       "2    1\n",
       "3    1\n",
       "4    1\n",
       "Name: social, dtype: int64"
      ]
     },
     "metadata": {},
     "output_type": "display_data"
    },
    {
     "data": {
      "text/plain": [
       "0    0\n",
       "1    1\n",
       "2    1\n",
       "3    0\n",
       "4    0\n",
       "Name: agency, dtype: int64"
      ]
     },
     "metadata": {},
     "output_type": "display_data"
    }
   ],
   "source": [
    "x_train_features = train['moment']\n",
    "display(x_train_features.head())\n",
    "\n",
    "y_train_social = train['social']\n",
    "y_train_agency = train['agency']\n",
    "display(y_train_social.head())\n",
    "display(y_train_agency.head())"
   ]
  },
  {
   "cell_type": "code",
   "execution_count": 9,
   "metadata": {},
   "outputs": [
    {
     "data": {
      "text/plain": [
       "0       i able spend day my fiance shopping yesterday \n",
       "1                                  i able play my cat \n",
       "2                i able clean my room gold my laundry \n",
       "3    i spend day party beach i happy see friends i ...\n",
       "4    my cat greeting me i got home work she sweet c...\n",
       "Name: moment, dtype: object"
      ]
     },
     "metadata": {},
     "output_type": "display_data"
    },
    {
     "data": {
      "text/plain": [
       "0    0\n",
       "1    0\n",
       "2    0\n",
       "3    1\n",
       "4    0\n",
       "Name: social, dtype: int64"
      ]
     },
     "metadata": {},
     "output_type": "display_data"
    },
    {
     "data": {
      "text/plain": [
       "0    1\n",
       "1    1\n",
       "2    1\n",
       "3    1\n",
       "4    0\n",
       "Name: agency, dtype: int64"
      ]
     },
     "metadata": {},
     "output_type": "display_data"
    }
   ],
   "source": [
    "x_test_features = test['moment']\n",
    "display(x_test_features.head())\n",
    "\n",
    "y_test_social = test['social']\n",
    "y_test_agency = test['agency']\n",
    "display(y_test_social.head())\n",
    "display(y_test_agency.head())"
   ]
  },
  {
   "cell_type": "markdown",
   "metadata": {},
   "source": [
    "### Using CountVectorizer for feature extraction"
   ]
  },
  {
   "cell_type": "code",
   "execution_count": 10,
   "metadata": {},
   "outputs": [
    {
     "data": {
      "text/plain": [
       "{'i': 20444,\n",
       " 'happy': 18080,\n",
       " 'my': 28270,\n",
       " 'son': 39605,\n",
       " 'got': 16839,\n",
       " 'marks': 25896,\n",
       " 'his': 19349,\n",
       " 'examination': 12075,\n",
       " 'i happy': 20822,\n",
       " 'happy my': 18207,\n",
       " 'my son': 29020,\n",
       " 'son got': 39660,\n",
       " 'got marks': 17039,\n",
       " 'marks his': 25898,\n",
       " 'his examination': 19401,\n",
       " 'went': 46841,\n",
       " 'movies': 28022,\n",
       " 'friends': 14834,\n",
       " 'it': 22197,\n",
       " 'fun': 15108,\n",
       " 'went movies': 47024,\n",
       " 'movies my': 28033,\n",
       " 'my friends': 28587,\n",
       " 'friends it': 14911,\n",
       " 'it fun': 22297,\n",
       " 'hot': 19929,\n",
       " 'kiss': 23201,\n",
       " 'girl': 15979,\n",
       " 'friend': 14651,\n",
       " 'last': 23519,\n",
       " 'night': 30316,\n",
       " 'made': 25302,\n",
       " 'day': 8959,\n",
       " 'hot kiss': 19942,\n",
       " 'kiss my': 23208,\n",
       " 'my girl': 28598,\n",
       " 'girl friend': 15988,\n",
       " 'friend last': 14728,\n",
       " 'last night': 23560,\n",
       " 'night made': 30378,\n",
       " 'made my': 25408,\n",
       " 'my day': 28464,\n",
       " 'woke': 47740,\n",
       " 'me': 26093,\n",
       " 'fantastic': 12662,\n",
       " 'breakfast': 4272,\n",
       " 'eggs': 11170,\n",
       " 'special': 39974,\n",
       " 'hamburger': 17960,\n",
       " 'patty': 32256,\n",
       " 'pancakes': 31819,\n",
       " 'son woke': 39769,\n",
       " 'woke me': 47758,\n",
       " 'me fantastic': 26238,\n",
       " 'fantastic breakfast': 12664,\n",
       " 'breakfast eggs': 4283,\n",
       " 'eggs his': 11177,\n",
       " 'his special': 19508,\n",
       " 'special hamburger': 39987,\n",
       " 'hamburger patty': 17961,\n",
       " 'patty pancakes': 32258,\n",
       " 'older': 30895,\n",
       " 'daughter': 8758,\n",
       " 'keeps': 23024,\n",
       " 'patting': 32254,\n",
       " 'younger': 48830,\n",
       " 'daughters': 8926,\n",
       " 'head': 18576,\n",
       " 'my older': 28841,\n",
       " 'older daughter': 30897,\n",
       " 'daughter keeps': 8824,\n",
       " 'keeps patting': 23026,\n",
       " 'patting my': 32255,\n",
       " 'my younger': 29180,\n",
       " 'younger daughters': 48833,\n",
       " 'daughters head': 8939,\n",
       " 'cooked': 7666,\n",
       " 'girlfriend': 16012,\n",
       " 'wonderful': 47801,\n",
       " 'i cooked': 20628,\n",
       " 'cooked my': 7687,\n",
       " 'my girlfriend': 28599,\n",
       " 'girlfriend wonderful': 16107,\n",
       " 'wonderful breakfast': 47804,\n",
       " 'mother': 27785,\n",
       " 'gave': 15552,\n",
       " 'surprise': 41479,\n",
       " 'visit': 45337,\n",
       " 'home': 19657,\n",
       " 'my mother': 28800,\n",
       " 'mother gave': 27805,\n",
       " 'gave me': 15562,\n",
       " 'me surprise': 26541,\n",
       " 'surprise visit': 41508,\n",
       " 'visit my': 45361,\n",
       " 'my home': 28664,\n",
       " 'hardly': 18343,\n",
       " 'traffic': 43918,\n",
       " 'way': 46152,\n",
       " 'work': 47856,\n",
       " 'morning': 27693,\n",
       " 'hardly traffic': 18344,\n",
       " 'traffic my': 43923,\n",
       " 'my way': 29140,\n",
       " 'way work': 46181,\n",
       " 'work morning': 47996,\n",
       " 'came': 5025,\n",
       " 'office': 30729,\n",
       " 'right': 36433,\n",
       " 'time': 43100,\n",
       " 'i came': 20565,\n",
       " 'came my': 5076,\n",
       " 'my office': 28837,\n",
       " 'office right': 30752,\n",
       " 'right time': 36447,\n",
       " 'degree': 9365,\n",
       " 'industrial': 21796,\n",
       " 'engineering': 11417,\n",
       " 'day i': 9030,\n",
       " 'i got': 20804,\n",
       " 'got my': 17058,\n",
       " 'my degree': 28472,\n",
       " 'degree industrial': 9375,\n",
       " 'industrial engineering': 21797,\n",
       " 'hour': 19978,\n",
       " 'one': 30935,\n",
       " 'professors': 34161,\n",
       " 'realized': 35181,\n",
       " 'he': 18411,\n",
       " 'caring': 5365,\n",
       " 'professor': 34149,\n",
       " 'mentor': 26885,\n",
       " 'ever': 11930,\n",
       " 'i went': 21413,\n",
       " 'went office': 47041,\n",
       " 'office hour': 30741,\n",
       " 'hour one': 20004,\n",
       " 'one my': 31009,\n",
       " 'my professors': 28918,\n",
       " 'professors i': 34162,\n",
       " 'i realized': 21128,\n",
       " 'realized he': 35184,\n",
       " 'he caring': 18434,\n",
       " 'caring professor': 5366,\n",
       " 'professor mentor': 34153,\n",
       " 'mentor ever': 26886,\n",
       " 'we': 46188,\n",
       " 'all': 729,\n",
       " 'ladies': 23374,\n",
       " 'member': 26796,\n",
       " 'family': 12504,\n",
       " 'lunch': 25185,\n",
       " 'seven': 38075,\n",
       " 'star': 40336,\n",
       " 'hotel': 19959,\n",
       " 'n': 29261,\n",
       " 'much': 28122,\n",
       " 'go': 16237,\n",
       " 'together': 43505,\n",
       " 'gossip': 16834,\n",
       " 'we all': 46192,\n",
       " 'all ladies': 787,\n",
       " 'ladies member': 23377,\n",
       " 'member my': 26801,\n",
       " 'my family': 28544,\n",
       " 'family went': 12628,\n",
       " 'went lunch': 47009,\n",
       " 'lunch seven': 25237,\n",
       " 'seven star': 38078,\n",
       " 'star hotel': 40338,\n",
       " 'hotel n': 19967,\n",
       " 'n it': 29269,\n",
       " 'it much': 22375,\n",
       " 'much fun': 28138,\n",
       " 'fun all': 15109,\n",
       " 'ladies go': 23376,\n",
       " 'go together': 16331,\n",
       " 'together n': 43544,\n",
       " 'n gossip': 29265,\n",
       " 'wife': 47382,\n",
       " 'shared': 38170,\n",
       " 'steak': 40603,\n",
       " 'dinner': 9828,\n",
       " 'bottle': 3964,\n",
       " 'wine': 47561,\n",
       " 'my wife': 29153,\n",
       " 'wife came': 47394,\n",
       " 'came home': 5060,\n",
       " 'home work': 19783,\n",
       " 'work we': 48110,\n",
       " 'we shared': 46368,\n",
       " 'shared steak': 38183,\n",
       " 'steak dinner': 40605,\n",
       " 'dinner together': 9934,\n",
       " 'together bottle': 43511,\n",
       " 'bottle wine': 3970,\n",
       " 'father': 12735,\n",
       " 'bought': 3977,\n",
       " 'bicycle': 3241,\n",
       " 'my father': 28549,\n",
       " 'father bought': 12741,\n",
       " 'bought me': 4041,\n",
       " 'me bicycle': 26120,\n",
       " 'given': 16146,\n",
       " 'ice': 21441,\n",
       " 'cream': 8202,\n",
       " 'pack': 31688,\n",
       " 'particularly': 32035,\n",
       " 'hands': 17999,\n",
       " 'creates': 8257,\n",
       " 'joyful': 22934,\n",
       " 'moment': 27384,\n",
       " 'went my': 47029,\n",
       " 'home given': 19694,\n",
       " 'given ice': 16159,\n",
       " 'ice cream': 21444,\n",
       " 'cream family': 8208,\n",
       " 'family pack': 12586,\n",
       " 'pack my': 31691,\n",
       " 'family particularly': 12588,\n",
       " 'particularly hands': 32040,\n",
       " 'hands my': 18002,\n",
       " 'son it': 39672,\n",
       " 'it creates': 22247,\n",
       " 'creates joyful': 8258,\n",
       " 'joyful moment': 22937,\n",
       " 'able': 15,\n",
       " 'play': 33148,\n",
       " 'video': 45240,\n",
       " 'game': 15308,\n",
       " 'enjoy': 11429,\n",
       " 'quite': 34760,\n",
       " 'bit': 3531,\n",
       " 'relaxed': 35819,\n",
       " 'i able': 20445,\n",
       " 'able play': 96,\n",
       " 'play my': 33191,\n",
       " 'my video': 29129,\n",
       " 'video game': 45253,\n",
       " 'game i': 15353,\n",
       " 'i enjoy': 20715,\n",
       " 'enjoy quite': 11459,\n",
       " 'quite bit': 34762,\n",
       " 'bit made': 3542,\n",
       " 'made me': 25400,\n",
       " 'me relaxed': 26473,\n",
       " 'relaxed happy': 35823,\n",
       " 'full': 15072,\n",
       " 'research': 36063,\n",
       " 'topic': 43740,\n",
       " 'nagging': 29284,\n",
       " 'able full': 62,\n",
       " 'full hour': 15083,\n",
       " 'hour research': 20012,\n",
       " 'research topic': 36071,\n",
       " 'topic nagging': 43742,\n",
       " 'nagging me': 29285,\n",
       " 'train': 43936,\n",
       " 'station': 40542,\n",
       " 'pulled': 34453,\n",
       " 'get': 15614,\n",
       " 'seat': 37541,\n",
       " 'got train': 17189,\n",
       " 'train station': 43943,\n",
       " 'station it': 40548,\n",
       " 'it pulled': 22403,\n",
       " 'pulled i': 34456,\n",
       " 'able get': 65,\n",
       " 'get seat': 15732,\n",
       " 'support': 41432,\n",
       " 'cousin': 8050,\n",
       " 'her': 18859,\n",
       " 'product': 34115,\n",
       " 'launch': 23695,\n",
       " 'proud': 34369,\n",
       " 'watch': 45866,\n",
       " 'shine': 38428,\n",
       " 'went support': 47123,\n",
       " 'support my': 41434,\n",
       " 'my cousin': 28443,\n",
       " 'cousin her': 8065,\n",
       " 'her product': 19048,\n",
       " 'product launch': 34119,\n",
       " 'launch last': 23696,\n",
       " 'night i': 30368,\n",
       " 'happy proud': 18230,\n",
       " 'proud watch': 34393,\n",
       " 'watch her': 45888,\n",
       " 'her shine': 19074,\n",
       " 'new': 29673,\n",
       " 'recipe': 35541,\n",
       " 'turned': 44392,\n",
       " 'great': 17484,\n",
       " 'cooked new': 7689,\n",
       " 'new recipe': 29949,\n",
       " 'recipe dinner': 35547,\n",
       " 'dinner it': 9878,\n",
       " 'it turned': 22487,\n",
       " 'turned great': 44404,\n",
       " 'weather': 46438,\n",
       " 'warm': 45786,\n",
       " 'gorgeous': 16829,\n",
       " 'first': 13726,\n",
       " 'long': 24684,\n",
       " 'im': 21541,\n",
       " 'loving': 25142,\n",
       " 'weather warm': 46472,\n",
       " 'warm gorgeous': 45794,\n",
       " 'gorgeous first': 16831,\n",
       " 'first time': 13846,\n",
       " 'time long': 43196,\n",
       " 'long time': 24751,\n",
       " 'time im': 43186,\n",
       " 'im loving': 21578,\n",
       " 'loving it': 25144,\n",
       " 'dad': 8577,\n",
       " 'getting': 15777,\n",
       " 'sick': 38730,\n",
       " 'dinner my': 9890,\n",
       " 'family my': 12577,\n",
       " 'my dad': 28456,\n",
       " 'dad getting': 8586,\n",
       " 'getting sick': 15874,\n",
       " 'chat': 5878,\n",
       " 'dating': 8748,\n",
       " 'partner': 32046,\n",
       " 'makes': 25617,\n",
       " 'feel': 13024,\n",
       " 'sexy': 38132,\n",
       " 'hot chat': 19930,\n",
       " 'chat my': 5882,\n",
       " 'my dating': 28461,\n",
       " 'dating partner': 8756,\n",
       " 'partner makes': 32057,\n",
       " 'makes me': 25622,\n",
       " 'me feel': 26240,\n",
       " 'feel sexy': 13066,\n",
       " 'rain': 34838,\n",
       " 'stopped': 40754,\n",
       " 'beautiful': 2856,\n",
       " 'sunlight': 41338,\n",
       " 'appeared': 1402,\n",
       " 'walk': 45550,\n",
       " 'took': 43649,\n",
       " 'photographs': 32719,\n",
       " 'rain stopped': 34859,\n",
       " 'stopped beautiful': 40756,\n",
       " 'beautiful sunlight': 2889,\n",
       " 'sunlight appeared': 41339,\n",
       " 'appeared i': 1403,\n",
       " 'went walk': 47149,\n",
       " 'walk took': 45597,\n",
       " 'took photographs': 43687,\n",
       " 'delicious': 9401,\n",
       " 'i delicious': 20655,\n",
       " 'delicious lunch': 9442,\n",
       " 'finally': 13411,\n",
       " 'run': 36730,\n",
       " 'worked': 48124,\n",
       " 'felt': 13144,\n",
       " 'taking': 41826,\n",
       " 'care': 5321,\n",
       " 'body': 3705,\n",
       " 'i finally': 20760,\n",
       " 'finally went': 13510,\n",
       " 'went run': 47085,\n",
       " 'run worked': 36768,\n",
       " 'worked it': 48135,\n",
       " 'it felt': 22285,\n",
       " 'felt great': 13161,\n",
       " 'great taking': 17612,\n",
       " 'taking care': 41831,\n",
       " 'care my': 5329,\n",
       " 'my body': 28343,\n",
       " 'received': 35345,\n",
       " 'call': 4934,\n",
       " 'letter': 24042,\n",
       " 'university': 44762,\n",
       " 'job': 22691,\n",
       " 'i received': 21133,\n",
       " 'received call': 35357,\n",
       " 'call letter': 4948,\n",
       " 'letter university': 24056,\n",
       " 'university my': 44776,\n",
       " 'my job': 28708,\n",
       " 'hole': 19630,\n",
       " 'my hole': 28661,\n",
       " 'hole family': 19632,\n",
       " 'family dinner': 12526,\n",
       " 'yesterday': 48655,\n",
       " 'message': 26903,\n",
       " 'promoted': 34284,\n",
       " 'manager': 25747,\n",
       " 'company': 7088,\n",
       " 'yesterday i': 48683,\n",
       " 'received message': 35406,\n",
       " 'message i': 26908,\n",
       " 'got promoted': 17106,\n",
       " 'promoted manager': 34289,\n",
       " 'manager my': 25759,\n",
       " 'my company': 28432,\n",
       " 'good': 16622,\n",
       " 'win': 47525,\n",
       " 'sports': 40180,\n",
       " 'team': 42131,\n",
       " 'good win': 16799,\n",
       " 'win my': 47535,\n",
       " 'my sports': 29028,\n",
       " 'sports team': 40192,\n",
       " 'test': 42374,\n",
       " 'barely': 2651,\n",
       " 'studied': 41051,\n",
       " 'got test': 17181,\n",
       " 'test i': 42382,\n",
       " 'i barely': 20511,\n",
       " 'barely studied': 2653,\n",
       " 'underwear': 44696,\n",
       " 'mail': 25497,\n",
       " 'purchased': 34554,\n",
       " 'online': 31064,\n",
       " 'got new': 17064,\n",
       " 'new underwear': 30032,\n",
       " 'underwear mail': 44697,\n",
       " 'mail i': 25508,\n",
       " 'i purchased': 21106,\n",
       " 'purchased online': 34585,\n",
       " 'beat': 2825,\n",
       " 'final': 13373,\n",
       " 'boss': 3885,\n",
       " 'dark': 8700,\n",
       " 'souls': 39882,\n",
       " 'i beat': 20514,\n",
       " 'beat final': 2831,\n",
       " 'final boss': 13374,\n",
       " 'boss dark': 3904,\n",
       " 'dark souls': 8702,\n",
       " 'cat': 5450,\n",
       " 'she': 38199,\n",
       " 'ate': 1841,\n",
       " 'food': 14120,\n",
       " 'scampered': 37212,\n",
       " 'around': 1590,\n",
       " 'apartment': 1354,\n",
       " 'my cat': 28381,\n",
       " 'cat sick': 5505,\n",
       " 'sick yesterday': 38748,\n",
       " 'yesterday she': 48716,\n",
       " 'she ate': 38214,\n",
       " 'ate food': 1871,\n",
       " 'food scampered': 14170,\n",
       " 'scampered around': 37213,\n",
       " 'around apartment': 1593,\n",
       " 'meeting': 26755,\n",
       " 'park': 31943,\n",
       " 'talking': 41923,\n",
       " 'meeting my': 26774,\n",
       " 'girlfriend park': 16073,\n",
       " 'park talking': 31975,\n",
       " 'nice': 30151,\n",
       " 'restaurant': 36158,\n",
       " 'coworkers': 8134,\n",
       " 'good dinner': 16664,\n",
       " 'dinner nice': 9892,\n",
       " 'nice restaurant': 30238,\n",
       " 'restaurant coworkers': 36163,\n",
       " 'interview': 22042,\n",
       " 'finally got': 13451,\n",
       " 'got job': 17014,\n",
       " 'job interview': 22740,\n",
       " 'temple': 42296,\n",
       " 'parents': 31883,\n",
       " 'went temple': 47128,\n",
       " 'temple my': 42300,\n",
       " 'my parents': 28859,\n",
       " 'succeed': 41175,\n",
       " 'making': 25628,\n",
       " 'tomato': 43588,\n",
       " 'soup': 39903,\n",
       " 'finally succeed': 13494,\n",
       " 'succeed making': 41176,\n",
       " 'making tomato': 25665,\n",
       " 'tomato soup': 43590,\n",
       " 'people': 32393,\n",
       " 'church': 6323,\n",
       " 'help': 18775,\n",
       " 'retirement': 36264,\n",
       " 'always': 995,\n",
       " 'feeling': 13071,\n",
       " 'got get': 16964,\n",
       " 'get together': 15749,\n",
       " 'together people': 43548,\n",
       " 'people church': 32396,\n",
       " 'church help': 6335,\n",
       " 'help retirement': 18801,\n",
       " 'retirement home': 36266,\n",
       " 'home it': 19708,\n",
       " 'it always': 22206,\n",
       " 'always good': 1005,\n",
       " 'good feeling': 16676,\n",
       " 'feeling help': 13088,\n",
       " 'help people': 18800,\n",
       " 'log': 24669,\n",
       " 'heavy': 18740,\n",
       " 'log walk': 24670,\n",
       " 'walk my': 45580,\n",
       " 'friends heavy': 14903,\n",
       " 'heavy lunch': 18744,\n",
       " 'meal': 26608,\n",
       " 'i made': 20952,\n",
       " 'made delicious': 25342,\n",
       " 'delicious meal': 9445,\n",
       " 'hanging': 18020,\n",
       " 'hanging friends': 18022,\n",
       " 'wifes': 47487,\n",
       " 'my wifes': 29154,\n",
       " 'wifes work': 47499,\n",
       " 'work friends': 47934,\n",
       " 'friends came': 14854,\n",
       " 'came visit': 5108,\n",
       " 'visit her': 45352,\n",
       " 'peruvian': 32591,\n",
       " 'dances': 8685,\n",
       " 'went meeting': 47016,\n",
       " 'meeting peruvian': 26779,\n",
       " 'peruvian dances': 32592,\n",
       " 'dances my': 8686,\n",
       " 'order': 31215,\n",
       " 'things': 42810,\n",
       " 'saving': 37084,\n",
       " 'past': 32174,\n",
       " 'months': 27598,\n",
       " 'finally able': 13412,\n",
       " 'able order': 89,\n",
       " 'order things': 31234,\n",
       " 'things i': 42825,\n",
       " 'i saving': 21200,\n",
       " 'saving past': 37087,\n",
       " 'past months': 32188,\n",
       " 'make': 25557,\n",
       " 'womens': 47794,\n",
       " 'grocery': 17703,\n",
       " 'store': 40784,\n",
       " 'able make': 85,\n",
       " 'make older': 25591,\n",
       " 'older womens': 30908,\n",
       " 'womens day': 47796,\n",
       " 'day grocery': 9017,\n",
       " 'grocery store': 17706,\n",
       " 'looked': 24799,\n",
       " 'half': 17921,\n",
       " 'i looked': 20935,\n",
       " 'looked time': 24820,\n",
       " 'time realized': 43238,\n",
       " 'realized it': 35186,\n",
       " 'it half': 22312,\n",
       " 'half hour': 17930,\n",
       " 'hour i': 19995,\n",
       " 'got work': 17215,\n",
       " 'played': 33236,\n",
       " 'licked': 24107,\n",
       " 'face': 12404,\n",
       " 'i played': 21070,\n",
       " 'played my': 33283,\n",
       " 'cat he': 5475,\n",
       " 'he licked': 18492,\n",
       " 'licked my': 24108,\n",
       " 'my face': 28542,\n",
       " 'face hour': 12407,\n",
       " 'enjoyed': 11478,\n",
       " 'swimming': 41649,\n",
       " 'beach': 2774,\n",
       " 'near': 29393,\n",
       " 'chennai': 6013,\n",
       " 'i enjoyed': 20716,\n",
       " 'enjoyed swimming': 11550,\n",
       " 'swimming beach': 41650,\n",
       " 'beach near': 2790,\n",
       " 'near chennai': 29394,\n",
       " 'awesome': 2187,\n",
       " 'drink': 10620,\n",
       " 'chocolate': 6241,\n",
       " 'syrup': 41687,\n",
       " 'baileys': 2513,\n",
       " 'irish': 22150,\n",
       " 'went last': 47001,\n",
       " 'night friend': 30349,\n",
       " 'friend made': 14738,\n",
       " 'me awesome': 26109,\n",
       " 'awesome drink': 2194,\n",
       " 'drink chocolate': 10624,\n",
       " 'chocolate syrup': 6260,\n",
       " 'syrup baileys': 41688,\n",
       " 'baileys irish': 2514,\n",
       " 'irish cream': 22152,\n",
       " 'ran': 34936,\n",
       " 'two': 44505,\n",
       " 'miles': 27068,\n",
       " 'fast': 12711,\n",
       " 'pace': 31686,\n",
       " 'never': 29647,\n",
       " 'achieved': 311,\n",
       " 'i ran': 21116,\n",
       " 'ran two': 34956,\n",
       " 'two miles': 44549,\n",
       " 'miles fast': 27074,\n",
       " 'fast pace': 12720,\n",
       " 'pace i': 31687,\n",
       " 'i never': 21003,\n",
       " 'never achieved': 29648,\n",
       " 'happiest': 18055,\n",
       " 'evening': 11842,\n",
       " 'painting': 31778,\n",
       " 'garden': 15501,\n",
       " 'i happiest': 20821,\n",
       " 'happiest last': 18058,\n",
       " 'last evening': 23538,\n",
       " 'evening i': 11856,\n",
       " 'i painting': 21036,\n",
       " 'painting garden': 31781,\n",
       " 'hung': 20281,\n",
       " 'close': 6600,\n",
       " 'drinks': 10657,\n",
       " 'him': 19248,\n",
       " 'i hung': 20859,\n",
       " 'hung close': 20284,\n",
       " 'close friend': 6604,\n",
       " 'night dinner': 30340,\n",
       " 'dinner drinks': 9849,\n",
       " 'drinks him': 10665,\n",
       " 'chicken': 6045,\n",
       " 'wife made': 47438,\n",
       " 'made her': 25372,\n",
       " 'her chicken': 18899,\n",
       " 'chicken soup': 6072,\n",
       " 'appreciated': 1472,\n",
       " 'put': 34634,\n",
       " 'my new': 28823,\n",
       " 'new boss': 29708,\n",
       " 'boss appreciated': 3887,\n",
       " 'appreciated work': 1480,\n",
       " 'work i': 47961,\n",
       " 'i put': 21107,\n",
       " 'pep': 32426,\n",
       " 'boys': 4205,\n",
       " 'rebate': 35309,\n",
       " 'form': 14249,\n",
       " 'prepaid': 33853,\n",
       " 'visa': 45331,\n",
       " 'card': 5277,\n",
       " 'promptly': 34323,\n",
       " 'used': 44962,\n",
       " 'purchase': 34528,\n",
       " 'item': 22535,\n",
       " 'wanting': 45752,\n",
       " 'amazon': 1066,\n",
       " 'finally received': 13482,\n",
       " 'received my': 35410,\n",
       " 'my pep': 28875,\n",
       " 'pep boys': 32427,\n",
       " 'boys rebate': 4212,\n",
       " 'rebate form': 35312,\n",
       " 'form prepaid': 14252,\n",
       " 'prepaid visa': 33854,\n",
       " 'visa card': 45333,\n",
       " 'card mail': 5293,\n",
       " 'i promptly': 21098,\n",
       " 'promptly used': 34325,\n",
       " 'used purchase': 44976,\n",
       " 'purchase item': 34542,\n",
       " 'item i': 22540,\n",
       " 'i wanting': 21399,\n",
       " 'wanting amazon': 45753,\n",
       " 'spend': 40023,\n",
       " 'husband': 20304,\n",
       " 'enjoying': 11560,\n",
       " 'others': 31332,\n",
       " 'got spend': 17155,\n",
       " 'spend evening': 40032,\n",
       " 'evening my': 11860,\n",
       " 'my husband': 28676,\n",
       " 'husband enjoying': 20329,\n",
       " 'enjoying others': 11581,\n",
       " 'others company': 31335,\n",
       " 'hit': 19545,\n",
       " 'goal': 16354,\n",
       " 'walking': 45621,\n",
       " 'i hit': 20845,\n",
       " 'hit my': 19573,\n",
       " 'my goal': 28602,\n",
       " 'goal walking': 16379,\n",
       " 'walking miles': 45634,\n",
       " 'miles day': 27072,\n",
       " 'eat': 10985,\n",
       " 'really': 35197,\n",
       " 'noodles': 30479,\n",
       " 'mom': 27313,\n",
       " 'got eat': 16939,\n",
       " 'eat really': 11026,\n",
       " 'really delicious': 35218,\n",
       " 'delicious noodles': 9449,\n",
       " 'noodles my': 30480,\n",
       " 'my mom': 28789,\n",
       " 'mom made': 27351,\n",
       " 'laptop': 23459,\n",
       " 'i bought': 20540,\n",
       " 'bought new': 4049,\n",
       " 'new laptop': 29867,\n",
       " 'watched': 45929,\n",
       " 'movie': 27961,\n",
       " 'spouse': 40205,\n",
       " 'rubbed': 36709,\n",
       " 'sore': 39868,\n",
       " 'feet': 13127,\n",
       " 'i watched': 21403,\n",
       " 'watched movie': 45985,\n",
       " 'movie my': 27996,\n",
       " 'my spouse': 29029,\n",
       " 'spouse she': 40218,\n",
       " 'she rubbed': 38337,\n",
       " 'rubbed my': 36710,\n",
       " 'my sore': 29023,\n",
       " 'sore feet': 39869,\n",
       " 'neighborhood': 29540,\n",
       " 'went nice': 47039,\n",
       " 'nice evening': 30186,\n",
       " 'evening walk': 11869,\n",
       " 'walk around': 45553,\n",
       " 'around neighborhood': 1624,\n",
       " 'neighborhood my': 29548,\n",
       " 'mass': 25964,\n",
       " 'effect': 11134,\n",
       " 'computer': 7320,\n",
       " 'i relaxed': 21147,\n",
       " 'relaxed played': 35825,\n",
       " 'played mass': 33280,\n",
       " 'mass effect': 25966,\n",
       " 'effect my': 11136,\n",
       " 'my computer': 28433,\n",
       " 'managed': 25715,\n",
       " 'writing': 48440,\n",
       " 'i managed': 20956,\n",
       " 'managed make': 25731,\n",
       " 'make writing': 25610,\n",
       " 'today': 43377,\n",
       " 'friend took': 14810,\n",
       " 'took me': 43675,\n",
       " 'me lunch': 26372,\n",
       " 'lunch today': 25248,\n",
       " 'entirety': 11689,\n",
       " 'pharrells': 32646,\n",
       " 'music': 28213,\n",
       " 'happyaon': 18297,\n",
       " 'mute': 28259,\n",
       " 'chunks': 6321,\n",
       " 'course': 8022,\n",
       " 'several': 38084,\n",
       " 'days': 9129,\n",
       " 'still': 40674,\n",
       " 'alive': 726,\n",
       " 'watched entirety': 45951,\n",
       " 'entirety pharrells': 11691,\n",
       " 'pharrells new': 32647,\n",
       " 'new hour': 29840,\n",
       " 'hour music': 20000,\n",
       " 'music video': 28237,\n",
       " 'video happyaon': 45257,\n",
       " 'happyaon mute': 18298,\n",
       " 'mute hour': 28260,\n",
       " 'hour chunks': 19987,\n",
       " 'chunks course': 6322,\n",
       " 'course several': 8032,\n",
       " 'several days': 38093,\n",
       " 'days i': 9146,\n",
       " 'i still': 21277,\n",
       " 'still alive': 40675,\n",
       " 'achieve': 308,\n",
       " 'something': 39559,\n",
       " 'difficult': 9780,\n",
       " 'co': 6689,\n",
       " 'worker': 48152,\n",
       " 'able achieve': 17,\n",
       " 'achieve something': 310,\n",
       " 'something difficult': 39564,\n",
       " 'difficult work': 9801,\n",
       " 'work made': 47985,\n",
       " 'my co': 28420,\n",
       " 'co worker': 6691,\n",
       " 'worker really': 48166,\n",
       " 'really happy': 35237,\n",
       " 'helped': 18811,\n",
       " 'plan': 33028,\n",
       " 'party': 32072,\n",
       " 'moms': 27439,\n",
       " 'th': 42432,\n",
       " 'birthday': 3447,\n",
       " 'coming': 7015,\n",
       " 'i helped': 20837,\n",
       " 'helped plan': 18827,\n",
       " 'plan surprise': 33041,\n",
       " 'surprise party': 41501,\n",
       " 'party my': 32104,\n",
       " 'my moms': 28790,\n",
       " 'moms th': 27449,\n",
       " 'th birthday': 42435,\n",
       " 'birthday party': 3491,\n",
       " 'party coming': 32081,\n",
       " 'i ate': 20489,\n",
       " 'ate delicious': 1865,\n",
       " 'delicious dinner': 9421,\n",
       " 'found': 14314,\n",
       " 'interesting': 21992,\n",
       " 'book': 3768,\n",
       " 'library': 24089,\n",
       " 'didnt': 9688,\n",
       " 'know': 23285,\n",
       " 'existed': 12233,\n",
       " 'i found': 20774,\n",
       " 'found interesting': 14373,\n",
       " 'interesting book': 21994,\n",
       " 'book library': 3787,\n",
       " 'library book': 24092,\n",
       " 'book i': 3782,\n",
       " 'i didnt': 20665,\n",
       " 'didnt know': 9711,\n",
       " 'know existed': 23290,\n",
       " 'gym': 17829,\n",
       " 'exercised': 12212,\n",
       " 'elliptical': 11238,\n",
       " 'lifted': 24155,\n",
       " 'weights': 46757,\n",
       " 'went gym': 46967,\n",
       " 'gym exercised': 17835,\n",
       " 'exercised elliptical': 12213,\n",
       " 'elliptical lifted': 11240,\n",
       " 'lifted weights': 24159,\n",
       " 'weights work': 46761,\n",
       " 'mile': 27052,\n",
       " 'minutes': 27190,\n",
       " 'ran mile': 34950,\n",
       " 'mile minutes': 27059,\n",
       " 'minutes today': 27206,\n",
       " 'today it': 43428,\n",
       " 'it made': 22361,\n",
       " 'feel fast': 13035,\n",
       " 'told': 43571,\n",
       " 'met': 26923,\n",
       " 'girlfriend told': 16097,\n",
       " 'told me': 43580,\n",
       " 'me she': 26498,\n",
       " 'she really': 38331,\n",
       " 'happy me': 18196,\n",
       " 'she happy': 38266,\n",
       " 'happy she': 18246,\n",
       " 'she met': 38300,\n",
       " 'met me': 26942,\n",
       " 'school': 37271,\n",
       " 'teach': 42094,\n",
       " 'closed': 6619,\n",
       " 'week': 46542,\n",
       " 'teachers': 42113,\n",
       " 'paid': 31732,\n",
       " 'i told': 21337,\n",
       " 'told school': 43583,\n",
       " 'school i': 37311,\n",
       " 'i teach': 21321,\n",
       " 'teach it': 42099,\n",
       " 'it closed': 22235,\n",
       " 'closed all': 6620,\n",
       " 'all week': 843,\n",
       " 'week teachers': 46599,\n",
       " 'teachers still': 42118,\n",
       " 'still paid': 40703,\n",
       " 'read': 35084,\n",
       " 'email': 11250,\n",
       " 'requester': 36037,\n",
       " 'giving': 16182,\n",
       " 'bonus': 3736,\n",
       " 'happy i': 18174,\n",
       " 'i read': 21124,\n",
       " 'read email': 35092,\n",
       " 'email requester': 11260,\n",
       " 'requester giving': 36038,\n",
       " 'giving me': 16189,\n",
       " 'me bonus': 26127,\n",
       " 'chik': 6090,\n",
       " 'fil': 13325,\n",
       " 'ate chik': 1859,\n",
       " 'chik fil': 6091,\n",
       " 'spent': 40078,\n",
       " 'boyfriend': 4134,\n",
       " 'our': 31346,\n",
       " 'anniversary': 1214,\n",
       " 'favorite': 12792,\n",
       " 'i spent': 21259,\n",
       " 'spent time': 40110,\n",
       " 'time my': 43215,\n",
       " 'my boyfriend': 28352,\n",
       " 'boyfriend our': 4176,\n",
       " 'our anniversary': 31348,\n",
       " 'anniversary watched': 1235,\n",
       " 'watched my': 45988,\n",
       " 'my favorite': 28552,\n",
       " 'favorite movie': 12883,\n",
       " 'them': 42593,\n",
       " 'coworkers i': 8142,\n",
       " 'i met': 20976,\n",
       " 'met lunch': 26940,\n",
       " 'today nice': 43449,\n",
       " 'nice people': 30222,\n",
       " 'people i': 32400,\n",
       " 'i good': 20803,\n",
       " 'good chat': 16641,\n",
       " 'chat them': 5885,\n",
       " 'spare': 39949,\n",
       " 'includes': 21707,\n",
       " 'survey': 41547,\n",
       " 'games': 15449,\n",
       " 'i work': 21424,\n",
       " 'work two': 48104,\n",
       " 'two things': 44569,\n",
       " 'enjoy my': 11450,\n",
       " 'my spare': 29025,\n",
       " 'spare time': 39951,\n",
       " 'time includes': 43187,\n",
       " 'includes survey': 21708,\n",
       " 'survey work': 41553,\n",
       " 'work video': 48105,\n",
       " 'video games': 45254,\n",
       " 'hours': 20028,\n",
       " 'receiving': 35459,\n",
       " 'raise': 34897,\n",
       " 'last hours': 23548,\n",
       " 'hours receiving': 20062,\n",
       " 'receiving my': 35468,\n",
       " 'my raise': 28941,\n",
       " 'raise work': 34912,\n",
       " 'me happy': 26292,\n",
       " 'burger': 4665,\n",
       " 'perfectly': 32474,\n",
       " 'wasnt': 45844,\n",
       " 'rare': 34995,\n",
       " 'well': 46771,\n",
       " 'done': 10395,\n",
       " 'got burger': 16880,\n",
       " 'burger lunch': 4672,\n",
       " 'lunch it': 25217,\n",
       " 'it cooked': 22242,\n",
       " 'cooked perfectly': 7692,\n",
       " 'perfectly it': 32475,\n",
       " 'it wasnt': 22499,\n",
       " 'wasnt rare': 45858,\n",
       " 'rare well': 35011,\n",
       " 'well done': 46784,\n",
       " 'classes': 6456,\n",
       " 'start': 40354,\n",
       " 'quarter': 34719,\n",
       " 'turn': 44388,\n",
       " 'leaf': 23814,\n",
       " 'i new': 21004,\n",
       " 'new classes': 29735,\n",
       " 'classes yesterday': 6470,\n",
       " 'yesterday it': 48685,\n",
       " 'happy start': 18255,\n",
       " 'start new': 40364,\n",
       " 'new quarter': 29946,\n",
       " 'quarter turn': 34720,\n",
       " 'turn new': 44391,\n",
       " 'new leaf': 29872,\n",
       " 'completed': 7190,\n",
       " 'big': 3250,\n",
       " 'project': 34223,\n",
       " 'i completed': 20610,\n",
       " 'completed big': 7197,\n",
       " 'big project': 3309,\n",
       " 'obtain': 30643,\n",
       " 'exercising': 12217,\n",
       " 'per': 32440,\n",
       " 'i obtain': 21011,\n",
       " 'obtain my': 30644,\n",
       " 'goal exercising': 16362,\n",
       " 'exercising one': 12222,\n",
       " 'one hour': 30989,\n",
       " 'hour per': 20008,\n",
       " 'per day': 32442,\n",
       " 'day today': 9106,\n",
       " 'reached': 35057,\n",
       " 'fitness': 13903,\n",
       " 'mine': 27125,\n",
       " 'i reached': 21123,\n",
       " 'reached new': 35069,\n",
       " 'new fitness': 29795,\n",
       " 'fitness goal': 13905,\n",
       " 'goal mine': 16369,\n",
       " 'upgraded': 44840,\n",
       " 'class': 6421,\n",
       " 'flight': 14002,\n",
       " 'i upgraded': 21374,\n",
       " 'upgraded first': 44841,\n",
       " 'first class': 13749,\n",
       " 'class my': 6440,\n",
       " ...}"
      ]
     },
     "execution_count": 10,
     "metadata": {},
     "output_type": "execute_result"
    }
   ],
   "source": [
    "from sklearn.feature_extraction.text import CountVectorizer\n",
    "\n",
    "vectorizer = CountVectorizer(token_pattern=u\"(?u)\\\\b\\\\w+\\\\b\", ngram_range=(1,2))\n",
    "vectorizer.fit(x_train_features)\n",
    "# vectorizer.vocabulary_"
   ]
  },
  {
   "cell_type": "code",
   "execution_count": 11,
   "metadata": {},
   "outputs": [
    {
     "data": {
      "text/plain": [
       "array([[0, 0, 0, ..., 0, 0, 0],\n",
       "       [0, 0, 0, ..., 0, 0, 0],\n",
       "       [0, 0, 0, ..., 0, 0, 0],\n",
       "       ...,\n",
       "       [0, 0, 0, ..., 0, 0, 0],\n",
       "       [0, 0, 0, ..., 0, 0, 0],\n",
       "       [0, 0, 0, ..., 0, 0, 0]])"
      ]
     },
     "metadata": {},
     "output_type": "display_data"
    },
    {
     "data": {
      "text/plain": [
       "array([[0, 0, 0, ..., 0, 0, 0],\n",
       "       [0, 0, 0, ..., 0, 0, 0],\n",
       "       [0, 0, 0, ..., 0, 0, 0],\n",
       "       ...,\n",
       "       [0, 0, 0, ..., 0, 0, 0],\n",
       "       [0, 0, 0, ..., 0, 0, 0],\n",
       "       [0, 0, 0, ..., 0, 0, 0]])"
      ]
     },
     "metadata": {},
     "output_type": "display_data"
    }
   ],
   "source": [
    "x_train = vectorizer.fit_transform(x_train_features).toarray()\n",
    "x_test = vectorizer.transform(x_test_features).toarray()\n",
    "\n",
    "display(x_train)\n",
    "display(x_test)"
   ]
  },
  {
   "cell_type": "markdown",
   "metadata": {},
   "source": [
    "### The following are the functions that will be used to evaluate various models and get results for them"
   ]
  },
  {
   "cell_type": "markdown",
   "metadata": {},
   "source": [
    "The following function is used to get the Accuracy, Precision, F1 and Recall scores"
   ]
  },
  {
   "cell_type": "code",
   "execution_count": 47,
   "metadata": {},
   "outputs": [],
   "source": [
    "def getResults(y_test, model_prediction):\n",
    "    accuracy = accuracy_score(y_test, model_prediction)\n",
    "    precision = precision_score(y_test, model_prediction)\n",
    "    f1 = f1_score(y_test, model_prediction)\n",
    "    recall = recall_score(y_test, model_prediction)\n",
    "    print(f'Accuracy : {accuracy}\\nPrecision : {precision}\\nF1_score : {f1}\\nRecall : {recall}\\n')\n",
    "    \n",
    "    print(\"===== CONFUSION MATRIX =====\")\n",
    "    cf_matrix = confusion_matrix(y_test_social, model_prediction)\n",
    "    print(cf_matrix)\n",
    "    \n",
    "    return accuracy, precision, f1, recall"
   ]
  },
  {
   "cell_type": "markdown",
   "metadata": {},
   "source": [
    "The following function is used to train the model based on the parameters passed to it\n",
    " - For the first instance, we are training the model for social labels and parameteres are passed accordingly\n",
    " - The next instance, we are training the model for agency labels and parameters are passed accordingly"
   ]
  },
  {
   "cell_type": "code",
   "execution_count": 48,
   "metadata": {},
   "outputs": [],
   "source": [
    "def trainModel(model, x_train, y_train, x_test, y_test, name):\n",
    "    print(f'\\n==== Testing : {model.__class__} for {name} ====')\n",
    "    # fit the data\n",
    "    model.fit(x_train, y_train)\n",
    "    \n",
    "    # prediction\n",
    "    prediction = model.predict(x_test)\n",
    "    \n",
    "    # getResults \n",
    "    results = getResults(y_test, prediction)\n",
    "    return results"
   ]
  },
  {
   "cell_type": "markdown",
   "metadata": {},
   "source": [
    "## Trying Various Methods"
   ]
  },
  {
   "cell_type": "markdown",
   "metadata": {},
   "source": [
    "### 1. SGD"
   ]
  },
  {
   "cell_type": "markdown",
   "metadata": {},
   "source": [
    "SGD on Social label"
   ]
  },
  {
   "cell_type": "code",
   "execution_count": 49,
   "metadata": {},
   "outputs": [
    {
     "name": "stdout",
     "output_type": "stream",
     "text": [
      "\n",
      "==== Testing : <class 'sklearn.linear_model._stochastic_gradient.SGDClassifier'> for Social Label ====\n",
      "Accuracy : 0.8981702004066221\n",
      "Precision : 0.9446225268044656\n",
      "F1_score : 0.906977978243566\n",
      "Recall : 0.8722188201673811\n",
      "\n",
      "===== CONFUSION MATRIX =====\n",
      "[[6916  501]\n",
      " [1252 8546]]\n"
     ]
    }
   ],
   "source": [
    "# Model\n",
    "sgd = SGDClassifier()\n",
    "\n",
    "# Calling the trainModel to get the results\n",
    "social_result_sgd = trainModel(sgd, x_train, y_train_social, x_test, y_test_social, \"Social Label\")"
   ]
  },
  {
   "cell_type": "markdown",
   "metadata": {},
   "source": [
    "SGD on Agency label"
   ]
  },
  {
   "cell_type": "code",
   "execution_count": 50,
   "metadata": {},
   "outputs": [
    {
     "name": "stdout",
     "output_type": "stream",
     "text": [
      "\n",
      "==== Testing : <class 'sklearn.linear_model._stochastic_gradient.SGDClassifier'> for Agency Label ====\n",
      "Accuracy : 0.7892535579436538\n",
      "Precision : 0.8178768450872224\n",
      "F1_score : 0.8581149784904184\n",
      "Recall : 0.9025172754195459\n",
      "\n",
      "===== CONFUSION MATRIX =====\n",
      "[[ 716 6701]\n",
      " [3085 6713]]\n"
     ]
    }
   ],
   "source": [
    "agency_result_sgd = trainModel(sgd, x_train, y_train_agency, x_test, y_test_agency, \"Agency Label\")"
   ]
  },
  {
   "cell_type": "markdown",
   "metadata": {},
   "source": [
    "### 2. Logistic Regression"
   ]
  },
  {
   "cell_type": "markdown",
   "metadata": {},
   "source": [
    "Logistic Regression on Social label"
   ]
  },
  {
   "cell_type": "code",
   "execution_count": 51,
   "metadata": {},
   "outputs": [
    {
     "name": "stdout",
     "output_type": "stream",
     "text": [
      "\n",
      "==== Testing : <class 'sklearn.linear_model._logistic.LogisticRegression'> for Social Label ====\n",
      "Accuracy : 0.8998547778100494\n",
      "Precision : 0.9398561778165178\n",
      "F1_score : 0.9091483979763911\n",
      "Recall : 0.8803837517860787\n",
      "\n",
      "===== CONFUSION MATRIX =====\n",
      "[[6865  552]\n",
      " [1172 8626]]\n"
     ]
    }
   ],
   "source": [
    "# Model\n",
    "lr = LogisticRegression()\n",
    "\n",
    "# Calling the trainModel to get the results\n",
    "social_result_lr = trainModel(lr, x_train, y_train_social, x_test, y_test_social, \"Social Label\")"
   ]
  },
  {
   "cell_type": "markdown",
   "metadata": {},
   "source": [
    "Logistic Regression on Agency label"
   ]
  },
  {
   "cell_type": "code",
   "execution_count": 52,
   "metadata": {},
   "outputs": [
    {
     "name": "stdout",
     "output_type": "stream",
     "text": [
      "\n",
      "==== Testing : <class 'sklearn.linear_model._logistic.LogisticRegression'> for Agency Label ====\n",
      "Accuracy : 0.8052860877142027\n",
      "Precision : 0.8299850074962519\n",
      "F1_score : 0.8685283966112332\n",
      "Recall : 0.9108259295820994\n",
      "\n",
      "===== CONFUSION MATRIX =====\n",
      "[[ 612 6805]\n",
      " [3263 6535]]\n"
     ]
    }
   ],
   "source": [
    "agency_result_lr = trainModel(lr, x_train, y_train_agency, x_test, y_test_agency, \"Agency Label\")"
   ]
  },
  {
   "cell_type": "markdown",
   "metadata": {},
   "source": [
    "\n",
    "### 3. Linear SVC"
   ]
  },
  {
   "cell_type": "markdown",
   "metadata": {},
   "source": [
    "Linear SVC on Social label"
   ]
  },
  {
   "cell_type": "code",
   "execution_count": 53,
   "metadata": {},
   "outputs": [
    {
     "name": "stdout",
     "output_type": "stream",
     "text": [
      "\n",
      "==== Testing : <class 'sklearn.svm._classes.LinearSVC'> for Social Label ====\n",
      "Accuracy : 0.8975312227708394\n",
      "Precision : 0.9365355357530971\n",
      "F1_score : 0.9071578947368422\n",
      "Recall : 0.879567258624209\n",
      "\n",
      "===== CONFUSION MATRIX =====\n",
      "[[6833  584]\n",
      " [1180 8618]]\n"
     ]
    }
   ],
   "source": [
    "# Model \n",
    "svc = LinearSVC()\n",
    "\n",
    "# Calling the trainModel to get the results\n",
    "social_result_svc = trainModel(svc, x_train, y_train_social, x_test, y_test_social, \"Social Label\")"
   ]
  },
  {
   "cell_type": "markdown",
   "metadata": {},
   "source": [
    "Linear SVC on Agency label"
   ]
  },
  {
   "cell_type": "code",
   "execution_count": 54,
   "metadata": {},
   "outputs": [
    {
     "name": "stdout",
     "output_type": "stream",
     "text": [
      "\n",
      "==== Testing : <class 'sklearn.svm._classes.LinearSVC'> for Agency Label ====\n",
      "Accuracy : 0.7912866686029625\n",
      "Precision : 0.8316678286466807\n",
      "F1_score : 0.8566527029722721\n",
      "Recall : 0.8831852583086541\n",
      "\n",
      "===== CONFUSION MATRIX =====\n",
      "[[ 827 6590]\n",
      " [3479 6319]]\n"
     ]
    }
   ],
   "source": [
    "agency_result_svc = trainModel(svc, x_train, y_train_agency, x_test, y_test_agency, \"Agency Label\")"
   ]
  },
  {
   "cell_type": "markdown",
   "metadata": {},
   "source": [
    "### 4. Random Forest"
   ]
  },
  {
   "cell_type": "markdown",
   "metadata": {},
   "source": [
    "Random Forest on Social label"
   ]
  },
  {
   "cell_type": "code",
   "execution_count": 55,
   "metadata": {},
   "outputs": [
    {
     "name": "stdout",
     "output_type": "stream",
     "text": [
      "\n",
      "==== Testing : <class 'sklearn.ensemble._forest.RandomForestClassifier'> for Social Label ====\n",
      "Accuracy : 0.8914318907929132\n",
      "Precision : 0.9335155822854019\n",
      "F1_score : 0.9013355857044819\n",
      "Recall : 0.8713002653602776\n",
      "\n",
      "===== CONFUSION MATRIX =====\n",
      "[[6809  608]\n",
      " [1261 8537]]\n"
     ]
    }
   ],
   "source": [
    "# model\n",
    "rf = RandomForestClassifier() \n",
    "\n",
    "# Calling the trainModel to get the results\n",
    "social_result_rf = trainModel(rf, x_train, y_train_social, x_test, y_test_social, \"Social Label\")"
   ]
  },
  {
   "cell_type": "markdown",
   "metadata": {},
   "source": [
    "Random Forest on Agency label"
   ]
  },
  {
   "cell_type": "code",
   "execution_count": 56,
   "metadata": {},
   "outputs": [
    {
     "name": "stdout",
     "output_type": "stream",
     "text": [
      "\n",
      "==== Testing : <class 'sklearn.ensemble._forest.RandomForestClassifier'> for Agency Label ====\n",
      "Accuracy : 0.7892535579436538\n",
      "Precision : 0.7964817132526769\n",
      "F1_score : 0.8632903760645112\n",
      "Recall : 0.9423330042777229\n",
      "\n",
      "===== CONFUSION MATRIX =====\n",
      "[[ 274 7143]\n",
      " [2559 7239]]\n"
     ]
    }
   ],
   "source": [
    "agency_result_rf = trainModel(rf, x_train, y_train_agency, x_test, y_test_agency, \"Agency Label\")"
   ]
  },
  {
   "cell_type": "markdown",
   "metadata": {},
   "source": [
    "### 5. KNN"
   ]
  },
  {
   "cell_type": "markdown",
   "metadata": {},
   "source": [
    "KNN on Social label"
   ]
  },
  {
   "cell_type": "code",
   "execution_count": 57,
   "metadata": {},
   "outputs": [
    {
     "name": "stdout",
     "output_type": "stream",
     "text": [
      "\n",
      "==== Testing : <class 'sklearn.neighbors._classification.KNeighborsClassifier'> for Social Label ====\n",
      "Accuracy : 0.7476038338658147\n",
      "Precision : 0.9287623840226451\n",
      "F1_score : 0.7310763136720927\n",
      "Recall : 0.6027760767503573\n",
      "\n",
      "===== CONFUSION MATRIX =====\n",
      "[[6964  453]\n",
      " [3892 5906]]\n"
     ]
    }
   ],
   "source": [
    "# Model\n",
    "knn = KNeighborsClassifier()\n",
    "\n",
    "# Calling the trainModel to get the results\n",
    "social_result_knn = trainModel(knn, x_train, y_train_social, x_test, y_test_social, \"Social Label\")"
   ]
  },
  {
   "cell_type": "markdown",
   "metadata": {},
   "source": [
    "KNN on Agency label"
   ]
  },
  {
   "cell_type": "code",
   "execution_count": 58,
   "metadata": {},
   "outputs": [
    {
     "name": "stdout",
     "output_type": "stream",
     "text": [
      "\n",
      "==== Testing : <class 'sklearn.neighbors._classification.KNeighborsClassifier'> for Agency Label ====\n",
      "Accuracy : 0.7564914318907929\n",
      "Precision : 0.7654666666666666\n",
      "F1_score : 0.8456326410369717\n",
      "Recall : 0.9445541296479105\n",
      "\n",
      "===== CONFUSION MATRIX =====\n",
      "[[ 321 7096]\n",
      " [1894 7904]]\n"
     ]
    }
   ],
   "source": [
    "agency_result_knn = trainModel(knn, x_train, y_train_agency, x_test, y_test_agency, \"Agency Label\")"
   ]
  },
  {
   "cell_type": "markdown",
   "metadata": {},
   "source": [
    "### Visualising the findings"
   ]
  },
  {
   "cell_type": "code",
   "execution_count": 107,
   "metadata": {},
   "outputs": [
    {
     "data": {
      "text/plain": [
       "<Figure size 432x288 with 0 Axes>"
      ]
     },
     "metadata": {},
     "output_type": "display_data"
    },
    {
     "data": {
      "image/png": "[encoded data removed]",
      "text/plain": [
       "<Figure size 720x360 with 1 Axes>"
      ]
     },
     "metadata": {
      "needs_background": "light"
     },
     "output_type": "display_data"
    }
   ],
   "source": [
    "fig = plt.figure()\n",
    "fig = plt.figure(figsize = (10, 5))\n",
    "methods = ['SGD', 'LR', 'SVC', 'RF', 'KNN']\n",
    "scores = [social_result_sgd[0], social_result_lr[0], social_result_svc[0], social_result_rf[0], social_result_knn[0]]\n",
    "plt.ylabel(\"ALGORITHM\")\n",
    "plt.xlabel(\"SCORES\")\n",
    "plt.barh(methods,scores)\n",
    "plt.title(\"ACCURACY SCORES FOR THE SOCIAL LABEL FOR VARIOUS ALGORITHMS\")\n",
    "for index, value in enumerate(scores):\n",
    "    plt.text(value, index, str(round(value, 2)))\n",
    "plt.show()"
   ]
  },
  {
   "cell_type": "code",
   "execution_count": 106,
   "metadata": {},
   "outputs": [
    {
     "data": {
      "text/plain": [
       "<Figure size 432x288 with 0 Axes>"
      ]
     },
     "metadata": {},
     "output_type": "display_data"
    },
    {
     "data": {
      "image/png": "[encoded data removed]",
      "text/plain": [
       "<Figure size 720x360 with 1 Axes>"
      ]
     },
     "metadata": {
      "needs_background": "light"
     },
     "output_type": "display_data"
    }
   ],
   "source": [
    "fig = plt.figure()\n",
    "fig = plt.figure(figsize = (10, 5))\n",
    "methods = ['SGD', 'LR', 'SVC', 'RF', 'KNN']\n",
    "scores = [agency_result_sgd[0], agency_result_lr[0], agency_result_svc[0], agency_result_rf[0], agency_result_knn[0]]\n",
    "plt.ylabel(\"ALGORITHM\")\n",
    "plt.xlabel(\"SCORES\")\n",
    "plt.barh(methods,scores)\n",
    "plt.title(\"ACCURACY SCORES FOR THE AGENCY LABEL FOR VARIOUS ALGORITHMS\")\n",
    "best_score = {}\n",
    "for index, value in enumerate(scores):\n",
    "    plt.text(value, index, str(round(value, 2)))\n",
    "plt.show()"
   ]
  },
  {
   "cell_type": "markdown",
   "metadata": {},
   "source": [
    "## Logistic Regression and Stochastic gradient descent were tuned further for analysis\n",
    "\n",
    "#### These were the top performing algorithms"
   ]
  },
  {
   "cell_type": "code",
   "execution_count": 76,
   "metadata": {},
   "outputs": [],
   "source": [
    "from sklearn.model_selection import GridSearchCV"
   ]
  },
  {
   "cell_type": "markdown",
   "metadata": {},
   "source": [
    "### Fine Tuning the SGD model"
   ]
  },
  {
   "cell_type": "markdown",
   "metadata": {},
   "source": [
    "Hypertuning on the SOCIAL label"
   ]
  },
  {
   "cell_type": "code",
   "execution_count": 86,
   "metadata": {},
   "outputs": [],
   "source": [
    "# modelSGD = SGDClassifier()\n",
    "# params = [{\n",
    "#     \"loss\" : [\"hinge\", \"log\", \"squared_hinge\", \"modified_huber\"],\n",
    "#     \"alpha\" : [0.0001, 0.001, 0.01, 0.1],\n",
    "#     \"penalty\" : [\"l2\", \"l1\", \"elasticnet\"]\n",
    "# }]\n",
    "\n",
    "# sgd_gs = GridSearchCV(modelSGD, param_grid=params, scoring= 'accuracy', verbose=10, cv = 2)\n",
    "# sgd_gs.fit(x_train, y_train_social)\n",
    "# print(sgd_gs.best_score_)\n",
    "# print(sgd_gs.best_estimator_)\n",
    "# print(sgd_gs.best_params_)\n",
    "\n",
    "# # save your model or results\n",
    "# joblib.dump(sgd_gs, 'SGD_GS_Social.pkl')"
   ]
  },
  {
   "cell_type": "markdown",
   "metadata": {},
   "source": [
    "Hypertuning on the AGENCY label"
   ]
  },
  {
   "cell_type": "code",
   "execution_count": 87,
   "metadata": {},
   "outputs": [],
   "source": [
    "# modelSGD = SGDClassifier()\n",
    "# params = [{\n",
    "#     \"loss\" : [\"hinge\", \"log\", \"modified_huber\"],\n",
    "#     \"alpha\" : [0.0001, 0.001, 0.01, 0.1],\n",
    "#     \"penalty\" : [\"l2\", \"l1\", \"elasticnet\"]\n",
    "# }]\n",
    "\n",
    "# sgd_gs = GridSearchCV(modelSGD, param_grid=params, scoring= 'accuracy', verbose=10, cv = 2)\n",
    "# sgd_gs.fit(x_train, y_train_agency)\n",
    "\n",
    "# print(sgd_gs.best_score_)\n",
    "# print(sgd_gs.best_estimator_)\n",
    "# print(sgd_gs.best_params_)\n",
    "\n",
    "# # save your model or results\n",
    "# joblib.dump(sgd_gs, 'SGD_GS_Agency.pkl')"
   ]
  },
  {
   "cell_type": "markdown",
   "metadata": {},
   "source": [
    "#### Loading the huypertuned SGD model"
   ]
  },
  {
   "cell_type": "markdown",
   "metadata": {},
   "source": [
    "SOCIAL label "
   ]
  },
  {
   "cell_type": "code",
   "execution_count": 96,
   "metadata": {},
   "outputs": [
    {
     "name": "stdout",
     "output_type": "stream",
     "text": [
      "Best Parameters : {'alpha': 0.001, 'loss': 'hinge', 'penalty': 'elasticnet'}\n"
     ]
    }
   ],
   "source": [
    "#load your model for further usage\n",
    "sgd_social_hp = joblib.load(\"SGD_GS_Social.pkl\")\n",
    "print(f'Best Parameters : {sgd_social_hp.best_params_}')"
   ]
  },
  {
   "cell_type": "code",
   "execution_count": 97,
   "metadata": {},
   "outputs": [
    {
     "name": "stdout",
     "output_type": "stream",
     "text": [
      "Accuracy : 0.9015393552134766\n",
      "Precision : 0.9619199635161327\n",
      "F1_score : 0.9087188324627068\n",
      "Recall : 0.8610941008369055\n",
      "\n",
      "===== CONFUSION MATRIX =====\n",
      "[[7083  334]\n",
      " [1361 8437]]\n"
     ]
    }
   ],
   "source": [
    "#  Try to predict data using this hypertuned method\n",
    "sgd_gs_pred = sgd_social_hp.predict(x_test)\n",
    "\n",
    "# Print the results \n",
    "social_result_sgd_hp = getResults(y_test_social,sgd_gs_pred)"
   ]
  },
  {
   "cell_type": "markdown",
   "metadata": {},
   "source": [
    "AGENCY Label"
   ]
  },
  {
   "cell_type": "code",
   "execution_count": 98,
   "metadata": {},
   "outputs": [
    {
     "name": "stdout",
     "output_type": "stream",
     "text": [
      "Best Parameters : {'alpha': 0.01, 'loss': 'modified_huber', 'penalty': 'l2'}\n"
     ]
    }
   ],
   "source": [
    "#load your model for further usage\n",
    "sgd_agency_hp = joblib.load(\"SGD_GS_Agency.pkl\")\n",
    "print(f'Best Parameters : {sgd_agency_hp.best_params_}')"
   ]
  },
  {
   "cell_type": "code",
   "execution_count": 99,
   "metadata": {},
   "outputs": [
    {
     "name": "stdout",
     "output_type": "stream",
     "text": [
      "Accuracy : 0.8044728434504792\n",
      "Precision : 0.8217894274417924\n",
      "F1_score : 0.8696056403501975\n",
      "Recall : 0.9233300427772293\n",
      "\n",
      "===== CONFUSION MATRIX =====\n",
      "[[ 425 6992]\n",
      " [3132 6666]]\n"
     ]
    }
   ],
   "source": [
    "#  Try to predict data using this hypertuned method\n",
    "sgd_gs_pred = sgd_agency_hp.predict(x_test)\n",
    "\n",
    "# Print the results \n",
    "agency_result_sgd_hp = getResults(y_test_agency,sgd_gs_pred)"
   ]
  },
  {
   "cell_type": "markdown",
   "metadata": {},
   "source": [
    "### Fine Tuning Logistic Regression"
   ]
  },
  {
   "cell_type": "markdown",
   "metadata": {},
   "source": [
    "Hypertuning on the SOCIAL label"
   ]
  },
  {
   "cell_type": "code",
   "execution_count": 28,
   "metadata": {},
   "outputs": [],
   "source": [
    "# # Model Selection Accuracy\n",
    "# modelLR = LogisticRegression()\n",
    "\n",
    "# params = [{\n",
    "#     'C': [0.001, 0.01, 0.1, 1, 10],\n",
    "#     \"penalty\" : [\"l2\", \"l1\", \"elasticnet\"],\n",
    "#     'solver': ['newton-cg', 'lbfgs', 'liblinear', 'sag', 'saga']\n",
    "# }]\n",
    "\n",
    "# lr_gs = GridSearchCV(modelLR, param_grid=params, scoring= 'accuracy', verbose=10, cv = 2)\n",
    "# lr_gs.fit(x_train, y_train_social)\n",
    "\n",
    "# print(lr_gs.best_score_)\n",
    "# print(lr_gs.best_estimator_)\n",
    "# print(lr_gs.best_params_)\n",
    "\n",
    "# joblib.dump(lr_gs, 'LR_GS_Social.pkl')"
   ]
  },
  {
   "cell_type": "markdown",
   "metadata": {},
   "source": [
    "Hypertuning on the AGENCY label"
   ]
  },
  {
   "cell_type": "code",
   "execution_count": 29,
   "metadata": {},
   "outputs": [],
   "source": [
    "# # Model Selection Agency \n",
    "# modelLR = LogisticRegression()\n",
    "\n",
    "# params = [{\n",
    "#     'C': [0.001, 0.01, 0.1, 1, 10],\n",
    "#     \"penalty\" : [\"l2\", \"l1\", \"elasticnet\"],\n",
    "#     'solver': ['newton-cg', 'lbfgs', 'liblinear', 'sag', 'saga']\n",
    "# }]\n",
    "\n",
    "# lr_gs = GridSearchCV(modelLR, param_grid=params, scoring= 'accuracy', verbose=10, cv = 2)\n",
    "# lr_gs.fit(x_train, y_train_agency)\n",
    "\n",
    "# print(lr_gs.best_score_)\n",
    "# print(lr_gs.best_estimator_)\n",
    "# print(lr_gs.best_params_)\n",
    "\n",
    "# joblib.dump(lr_gs, 'LR_GS_Agency.pkl')"
   ]
  },
  {
   "cell_type": "markdown",
   "metadata": {},
   "source": [
    "#### Loading the hypertuned LR models"
   ]
  },
  {
   "cell_type": "markdown",
   "metadata": {},
   "source": [
    "SOCIAL label for hypertuned Logistic Regression"
   ]
  },
  {
   "cell_type": "code",
   "execution_count": 100,
   "metadata": {},
   "outputs": [
    {
     "name": "stdout",
     "output_type": "stream",
     "text": [
      "Best Parameters : {'C': 10, 'penalty': 'l1', 'solver': 'liblinear'}\n"
     ]
    }
   ],
   "source": [
    "lr_social = joblib.load(\"LR_GS_Social.pkl\")\n",
    "print(f'Best Parameters : {lr_social.best_params_}')"
   ]
  },
  {
   "cell_type": "code",
   "execution_count": 101,
   "metadata": {},
   "outputs": [
    {
     "name": "stdout",
     "output_type": "stream",
     "text": [
      "Accuracy : 0.9034562881208249\n",
      "Precision : 0.939403758911212\n",
      "F1_score : 0.9127833753148614\n",
      "Recall : 0.887630128597673\n",
      "\n",
      "===== CONFUSION MATRIX =====\n",
      "[[6856  561]\n",
      " [1101 8697]]\n"
     ]
    }
   ],
   "source": [
    "#  Try to predict data using this hypertuned method\n",
    "lr_social_pred = lr_social.predict(x_test)\n",
    "\n",
    "# get the scores\n",
    "social_result_lr_hp = getResults(y_test_social, lr_social_pred)"
   ]
  },
  {
   "cell_type": "markdown",
   "metadata": {},
   "source": [
    "AGENCY label for hypertuned Logistic Regression"
   ]
  },
  {
   "cell_type": "code",
   "execution_count": 102,
   "metadata": {},
   "outputs": [
    {
     "name": "stdout",
     "output_type": "stream",
     "text": [
      "Best Parameters : {'C': 1, 'penalty': 'l2', 'solver': 'liblinear'}\n"
     ]
    }
   ],
   "source": [
    "lr_agency = joblib.load('LR_GS_Agency.pkl')\n",
    "print(f'Best Parameters : {lr_agency.best_params_}')"
   ]
  },
  {
   "cell_type": "code",
   "execution_count": 103,
   "metadata": {},
   "outputs": [
    {
     "name": "stdout",
     "output_type": "stream",
     "text": [
      "Accuracy : 0.805344176590183\n",
      "Precision : 0.8301462317210349\n",
      "F1_score : 0.868541838295869\n",
      "Recall : 0.9106614017769002\n",
      "\n",
      "===== CONFUSION MATRIX =====\n",
      "[[ 613 6804]\n",
      " [3267 6531]]\n"
     ]
    }
   ],
   "source": [
    "lr_agency_pred = lr_agency.predict(x_test)\n",
    "agency_result_lr_hp = getResults(y_test_agency, lr_agency_pred)"
   ]
  },
  {
   "cell_type": "markdown",
   "metadata": {},
   "source": [
    "### Visualising the final resutls\n",
    "\n",
    "Comparing the output from the hypertuned models with the model with default parameters"
   ]
  },
  {
   "cell_type": "code",
   "execution_count": 110,
   "metadata": {},
   "outputs": [
    {
     "data": {
      "text/plain": [
       "<Figure size 432x288 with 0 Axes>"
      ]
     },
     "metadata": {},
     "output_type": "display_data"
    },
    {
     "data": {
      "image/png": "[encoded data removed]",
      "text/plain": [
       "<Figure size 720x360 with 1 Axes>"
      ]
     },
     "metadata": {
      "needs_background": "light"
     },
     "output_type": "display_data"
    }
   ],
   "source": [
    "fig = plt.figure()\n",
    "fig = plt.figure(figsize = (10, 5))\n",
    "methods = ['SGD', 'Hypertuned SGD', 'LR', 'Hypertuned LR']\n",
    "scores = [social_result_sgd[0], social_result_sgd_hp[0] , social_result_lr[0], social_result_lr_hp[0]]\n",
    "plt.ylabel(\"ALGORITHM\")\n",
    "plt.xlabel(\"SCORES\")\n",
    "plt.barh(methods,scores)\n",
    "plt.title(\"ACCURACY SCORES FOR THE SOCIAL LABEL FOR VARIOUS ALGORITHMS\")\n",
    "for index, value in enumerate(scores):\n",
    "    plt.text(value, index, str(round(value, 3)))\n",
    "plt.show()"
   ]
  },
  {
   "cell_type": "code",
   "execution_count": 111,
   "metadata": {},
   "outputs": [
    {
     "data": {
      "text/plain": [
       "<Figure size 432x288 with 0 Axes>"
      ]
     },
     "metadata": {},
     "output_type": "display_data"
    },
    {
     "data": {
      "image/png": "[encoded data removed]",
      "text/plain": [
       "<Figure size 720x360 with 1 Axes>"
      ]
     },
     "metadata": {
      "needs_background": "light"
     },
     "output_type": "display_data"
    }
   ],
   "source": [
    "fig = plt.figure()\n",
    "fig = plt.figure(figsize = (10, 5))\n",
    "methods = ['SGD', 'Hypertuned SGD','LR', 'Hypertuned LR']\n",
    "scores = [agency_result_sgd[0], agency_result_sgd_hp[0], agency_result_lr[0], agency_result_lr_hp[0]]\n",
    "plt.ylabel(\"ALGORITHM\")\n",
    "plt.xlabel(\"SCORES\")\n",
    "plt.barh(methods,scores)\n",
    "plt.title(\"ACCURACY SCORES FOR THE AGENCY LABEL FOR VARIOUS ALGORITHMS\")\n",
    "best_score = {}\n",
    "for index, value in enumerate(scores):\n",
    "    plt.text(value, index, str(round(value, 3)))\n",
    "plt.show()"
   ]
  },
  {
   "cell_type": "markdown",
   "metadata": {},
   "source": [
    "## Final Results"
   ]
  },
  {
   "cell_type": "markdown",
   "metadata": {},
   "source": [
    " - Hypertuned models did not imporve the overall score for both social and agency labels\n",
    " - Logistic Regression outperforms other alogrihtms just marginally, but the plus point here is it's execution speed\n",
    " - For the Baseline Classifier we have got the best result for Logistic Regression algorithm\n",
    " - We will be using the algorithm with the defaul parameters as the hypertuend model did not improve the score\n",
    " - These are the default parameters of the Logistic Regression model :\n",
    " \n",
    "    -penalty='l2',dual=False, tol=0.0001, C=1.0, fit_intercept=True, intercept_scaling=1, class_weight=None, random_state=None, solver='lbfgs', max_iter=100, multi_class='auto', verbose=0, warm_start=False, n_jobs=None, l1_ratio=None"
   ]
  },
  {
   "cell_type": "code",
   "execution_count": 116,
   "metadata": {},
   "outputs": [
    {
     "data": {
      "text/plain": [
       "<Figure size 432x288 with 0 Axes>"
      ]
     },
     "metadata": {},
     "output_type": "display_data"
    },
    {
     "data": {
      "image/png": "[encoded data removed]",
      "text/plain": [
       "<Figure size 720x360 with 1 Axes>"
      ]
     },
     "metadata": {
      "needs_background": "light"
     },
     "output_type": "display_data"
    }
   ],
   "source": [
    "fig = plt.figure()\n",
    "fig = plt.figure(figsize = (10, 5))\n",
    "label = ['Social', 'Agency']\n",
    "scores = [social_result_lr[0], agency_result_lr[0]]\n",
    "plt.ylabel(\"LABEL\")\n",
    "plt.xlabel(\"SCORES\")\n",
    "plt.barh(label,scores)\n",
    "plt.title(\"ACCURACY SCORES FOR THE SOCIAL AND AGENCY LABELS FOR LOGISTIC REGRESSION\")\n",
    "for index, value in enumerate(scores):\n",
    "    plt.text(value, index, str(round(value, 2)))\n",
    "plt.show()"
   ]
  },
  {
   "cell_type": "markdown",
   "metadata": {},
   "source": [
    "SOCIAL RESULTS"
   ]
  },
  {
   "cell_type": "code",
   "execution_count": 117,
   "metadata": {},
   "outputs": [
    {
     "name": "stdout",
     "output_type": "stream",
     "text": [
      "\n",
      "==== Testing : <class 'sklearn.linear_model._logistic.LogisticRegression'> for Social Label ====\n",
      "Accuracy : 0.8998547778100494\n",
      "Precision : 0.9398561778165178\n",
      "F1_score : 0.9091483979763911\n",
      "Recall : 0.8803837517860787\n",
      "\n",
      "===== CONFUSION MATRIX =====\n",
      "[[6865  552]\n",
      " [1172 8626]]\n"
     ]
    }
   ],
   "source": [
    "# Model\n",
    "lr = LogisticRegression()\n",
    "\n",
    "# Calling the trainModel to get the results\n",
    "social_result_lr = trainModel(lr, x_train, y_train_social, x_test, y_test_social, \"Social Label\")"
   ]
  },
  {
   "cell_type": "markdown",
   "metadata": {},
   "source": [
    "AGENCY RESULTS"
   ]
  },
  {
   "cell_type": "code",
   "execution_count": 118,
   "metadata": {},
   "outputs": [
    {
     "name": "stdout",
     "output_type": "stream",
     "text": [
      "\n",
      "==== Testing : <class 'sklearn.linear_model._logistic.LogisticRegression'> for Agency Label ====\n",
      "Accuracy : 0.8052860877142027\n",
      "Precision : 0.8299850074962519\n",
      "F1_score : 0.8685283966112332\n",
      "Recall : 0.9108259295820994\n",
      "\n",
      "===== CONFUSION MATRIX =====\n",
      "[[ 612 6805]\n",
      " [3263 6535]]\n"
     ]
    }
   ],
   "source": [
    "agency_result_lr = trainModel(lr, x_train, y_train_agency, x_test, y_test_agency, \"Agency Label\")"
   ]
  },
  {
   "cell_type": "code",
   "execution_count": null,
   "metadata": {},
   "outputs": [],
   "source": []
  },
  {
   "cell_type": "code",
   "execution_count": null,
   "metadata": {},
   "outputs": [],
   "source": []
  }
 ],
 "metadata": {
  "kernelspec": {
   "display_name": "Python 3",
   "language": "python",
   "name": "python3"
  },
  "language_info": {
   "codemirror_mode": {
    "name": "ipython",
    "version": 3
   },
   "file_extension": ".py",
   "mimetype": "text/x-python",
   "name": "python",
   "nbconvert_exporter": "python",
   "pygments_lexer": "ipython3",
   "version": "3.8.2"
  }
 },
 "nbformat": 4,
 "nbformat_minor": 4
}
