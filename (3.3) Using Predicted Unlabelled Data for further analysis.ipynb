{
 "cells": [
  {
   "cell_type": "markdown",
   "metadata": {},
   "source": [
    "### Testing the labeled_test_17k data with both the train and the unlabeled data (predicted by LSTM) model\n",
    "\n",
    "- The training data used here was the combination of the train(labeled_10k.csv) and the predicted(unlabeled_70k.csv)\n",
    "- The (unlabeled_70k.csv) was predicted using the LSTM model, the code for that is avialble in the 'Predicting Unlabelled Data with LSTM model.ipynb' file\n",
    "- Further the ouput of this file is saved in a results.pkl file, which is a dataframe containing all the predicted values for each moment from the test data"
   ]
  },
  {
   "cell_type": "code",
   "execution_count": 1,
   "metadata": {},
   "outputs": [],
   "source": [
    "from numpy import array\n",
    "from keras.preprocessing.sequence import pad_sequences\n",
    "from keras.layers.core import Activation, Dropout, Dense\n",
    "from keras.layers import Flatten, LSTM\n",
    "from keras.models import Model\n",
    "from keras.layers.embeddings import Embedding\n",
    "from keras.preprocessing.text import Tokenizer\n",
    "from keras.layers import Input\n",
    "from keras.models import load_model\n",
    "from keras.layers import Bidirectional\n",
    "\n",
    "from nltk.tokenize import word_tokenize\n",
    "import pandas as pd \n",
    "import numpy as np\n",
    "import re\n",
    "import tensorflow as tf\n",
    "from matplotlib import pyplot as plt\n",
    "\n",
    "\n",
    "\n",
    "from sklearn.metrics import accuracy_score, f1_score, precision_score, recall_score\n",
    "from sklearn.metrics import confusion_matrix\n",
    "\n",
    "from numpy import array\n",
    "from numpy import asarray\n",
    "from numpy import zeros"
   ]
  },
  {
   "cell_type": "markdown",
   "metadata": {},
   "source": [
    "### Loading Pickle files "
   ]
  },
  {
   "cell_type": "markdown",
   "metadata": {},
   "source": [
    "Loading the labeled training dataset; stored in the train.pkl file"
   ]
  },
  {
   "cell_type": "code",
   "execution_count": 2,
   "metadata": {},
   "outputs": [
    {
     "data": {
      "text/html": [
       "<div>\n",
       "<style scoped>\n",
       "    .dataframe tbody tr th:only-of-type {\n",
       "        vertical-align: middle;\n",
       "    }\n",
       "\n",
       "    .dataframe tbody tr th {\n",
       "        vertical-align: top;\n",
       "    }\n",
       "\n",
       "    .dataframe thead th {\n",
       "        text-align: right;\n",
       "    }\n",
       "</style>\n",
       "<table border=\"1\" class=\"dataframe\">\n",
       "  <thead>\n",
       "    <tr style=\"text-align: right;\">\n",
       "      <th></th>\n",
       "      <th>hmid</th>\n",
       "      <th>moment</th>\n",
       "      <th>social</th>\n",
       "      <th>agency</th>\n",
       "    </tr>\n",
       "  </thead>\n",
       "  <tbody>\n",
       "    <tr>\n",
       "      <th>0</th>\n",
       "      <td>27674</td>\n",
       "      <td>i happy my son got marks his examination</td>\n",
       "      <td>1</td>\n",
       "      <td>0</td>\n",
       "    </tr>\n",
       "    <tr>\n",
       "      <th>1</th>\n",
       "      <td>27685</td>\n",
       "      <td>went movies my friends it fun</td>\n",
       "      <td>1</td>\n",
       "      <td>1</td>\n",
       "    </tr>\n",
       "    <tr>\n",
       "      <th>2</th>\n",
       "      <td>27691</td>\n",
       "      <td>hot kiss my girl friend last night made my day</td>\n",
       "      <td>1</td>\n",
       "      <td>1</td>\n",
       "    </tr>\n",
       "    <tr>\n",
       "      <th>3</th>\n",
       "      <td>27701</td>\n",
       "      <td>my son woke me fantastic breakfast eggs his sp...</td>\n",
       "      <td>1</td>\n",
       "      <td>0</td>\n",
       "    </tr>\n",
       "    <tr>\n",
       "      <th>4</th>\n",
       "      <td>27712</td>\n",
       "      <td>my older daughter keeps patting my younger dau...</td>\n",
       "      <td>1</td>\n",
       "      <td>0</td>\n",
       "    </tr>\n",
       "    <tr>\n",
       "      <th>...</th>\n",
       "      <td>...</td>\n",
       "      <td>...</td>\n",
       "      <td>...</td>\n",
       "      <td>...</td>\n",
       "    </tr>\n",
       "    <tr>\n",
       "      <th>10555</th>\n",
       "      <td>128748</td>\n",
       "      <td>my husband called me tell me he loved me</td>\n",
       "      <td>1</td>\n",
       "      <td>0</td>\n",
       "    </tr>\n",
       "    <tr>\n",
       "      <th>10556</th>\n",
       "      <td>128753</td>\n",
       "      <td>i worked always makes me feel good</td>\n",
       "      <td>0</td>\n",
       "      <td>1</td>\n",
       "    </tr>\n",
       "    <tr>\n",
       "      <th>10557</th>\n",
       "      <td>128754</td>\n",
       "      <td>finally got watch new resident evil movie</td>\n",
       "      <td>0</td>\n",
       "      <td>1</td>\n",
       "    </tr>\n",
       "    <tr>\n",
       "      <th>10558</th>\n",
       "      <td>128757</td>\n",
       "      <td>i got talk old friend reminisce good times</td>\n",
       "      <td>1</td>\n",
       "      <td>1</td>\n",
       "    </tr>\n",
       "    <tr>\n",
       "      <th>10559</th>\n",
       "      <td>128765</td>\n",
       "      <td>i great meeting yesterday work my boss colleag...</td>\n",
       "      <td>1</td>\n",
       "      <td>1</td>\n",
       "    </tr>\n",
       "  </tbody>\n",
       "</table>\n",
       "<p>9921 rows × 4 columns</p>\n",
       "</div>"
      ],
      "text/plain": [
       "         hmid                                             moment  social  \\\n",
       "0       27674          i happy my son got marks his examination        1   \n",
       "1       27685                     went movies my friends it fun        1   \n",
       "2       27691    hot kiss my girl friend last night made my day        1   \n",
       "3       27701  my son woke me fantastic breakfast eggs his sp...       1   \n",
       "4       27712  my older daughter keeps patting my younger dau...       1   \n",
       "...       ...                                                ...     ...   \n",
       "10555  128748          my husband called me tell me he loved me        1   \n",
       "10556  128753                i worked always makes me feel good        0   \n",
       "10557  128754         finally got watch new resident evil movie        0   \n",
       "10558  128757        i got talk old friend reminisce good times        1   \n",
       "10559  128765  i great meeting yesterday work my boss colleag...       1   \n",
       "\n",
       "       agency  \n",
       "0           0  \n",
       "1           1  \n",
       "2           1  \n",
       "3           0  \n",
       "4           0  \n",
       "...       ...  \n",
       "10555       0  \n",
       "10556       1  \n",
       "10557       1  \n",
       "10558       1  \n",
       "10559       1  \n",
       "\n",
       "[9921 rows x 4 columns]"
      ]
     },
     "execution_count": 2,
     "metadata": {},
     "output_type": "execute_result"
    }
   ],
   "source": [
    "df = pd.read_pickle('train.pkl')\n",
    "df"
   ]
  },
  {
   "cell_type": "markdown",
   "metadata": {},
   "source": [
    "Loading the predicted unlabeled dataset; stored in the predicted_unlabeled.pkl"
   ]
  },
  {
   "cell_type": "code",
   "execution_count": 3,
   "metadata": {},
   "outputs": [
    {
     "data": {
      "text/html": [
       "<div>\n",
       "<style scoped>\n",
       "    .dataframe tbody tr th:only-of-type {\n",
       "        vertical-align: middle;\n",
       "    }\n",
       "\n",
       "    .dataframe tbody tr th {\n",
       "        vertical-align: top;\n",
       "    }\n",
       "\n",
       "    .dataframe thead th {\n",
       "        text-align: right;\n",
       "    }\n",
       "</style>\n",
       "<table border=\"1\" class=\"dataframe\">\n",
       "  <thead>\n",
       "    <tr style=\"text-align: right;\">\n",
       "      <th></th>\n",
       "      <th>hmid</th>\n",
       "      <th>moment</th>\n",
       "      <th>social</th>\n",
       "      <th>agency</th>\n",
       "    </tr>\n",
       "  </thead>\n",
       "  <tbody>\n",
       "    <tr>\n",
       "      <th>0</th>\n",
       "      <td>27673</td>\n",
       "      <td>i went successful date someone i felt sympathy...</td>\n",
       "      <td>0</td>\n",
       "      <td>1</td>\n",
       "    </tr>\n",
       "    <tr>\n",
       "      <th>1</th>\n",
       "      <td>27675</td>\n",
       "      <td>i went gym morning yoga</td>\n",
       "      <td>0</td>\n",
       "      <td>1</td>\n",
       "    </tr>\n",
       "    <tr>\n",
       "      <th>2</th>\n",
       "      <td>27678</td>\n",
       "      <td>i meditated last night</td>\n",
       "      <td>0</td>\n",
       "      <td>1</td>\n",
       "    </tr>\n",
       "    <tr>\n",
       "      <th>3</th>\n",
       "      <td>27679</td>\n",
       "      <td>i made new recipe peasant bread it came specta...</td>\n",
       "      <td>0</td>\n",
       "      <td>1</td>\n",
       "    </tr>\n",
       "    <tr>\n",
       "      <th>4</th>\n",
       "      <td>27680</td>\n",
       "      <td>i got gift my elder brother really surprising me</td>\n",
       "      <td>1</td>\n",
       "      <td>0</td>\n",
       "    </tr>\n",
       "    <tr>\n",
       "      <th>...</th>\n",
       "      <td>...</td>\n",
       "      <td>...</td>\n",
       "      <td>...</td>\n",
       "      <td>...</td>\n",
       "    </tr>\n",
       "    <tr>\n",
       "      <th>69828</th>\n",
       "      <td>128761</td>\n",
       "      <td>i spent time my daughter</td>\n",
       "      <td>1</td>\n",
       "      <td>1</td>\n",
       "    </tr>\n",
       "    <tr>\n",
       "      <th>69829</th>\n",
       "      <td>128762</td>\n",
       "      <td>my husband announced he getting decent bonus q...</td>\n",
       "      <td>1</td>\n",
       "      <td>0</td>\n",
       "    </tr>\n",
       "    <tr>\n",
       "      <th>69830</th>\n",
       "      <td>128763</td>\n",
       "      <td>pepsi drink</td>\n",
       "      <td>0</td>\n",
       "      <td>1</td>\n",
       "    </tr>\n",
       "    <tr>\n",
       "      <th>69831</th>\n",
       "      <td>128764</td>\n",
       "      <td>cuddling my girlfriend last night</td>\n",
       "      <td>1</td>\n",
       "      <td>1</td>\n",
       "    </tr>\n",
       "    <tr>\n",
       "      <th>69832</th>\n",
       "      <td>128766</td>\n",
       "      <td>i great workout last night</td>\n",
       "      <td>0</td>\n",
       "      <td>1</td>\n",
       "    </tr>\n",
       "  </tbody>\n",
       "</table>\n",
       "<p>69833 rows × 4 columns</p>\n",
       "</div>"
      ],
      "text/plain": [
       "         hmid                                             moment  social  \\\n",
       "0       27673  i went successful date someone i felt sympathy...       0   \n",
       "1       27675                           i went gym morning yoga        0   \n",
       "2       27678                            i meditated last night        0   \n",
       "3       27679  i made new recipe peasant bread it came specta...       0   \n",
       "4       27680  i got gift my elder brother really surprising me        1   \n",
       "...       ...                                                ...     ...   \n",
       "69828  128761                          i spent time my daughter        1   \n",
       "69829  128762  my husband announced he getting decent bonus q...       1   \n",
       "69830  128763                                       pepsi drink        0   \n",
       "69831  128764                 cuddling my girlfriend last night        1   \n",
       "69832  128766                        i great workout last night        0   \n",
       "\n",
       "       agency  \n",
       "0           1  \n",
       "1           1  \n",
       "2           1  \n",
       "3           1  \n",
       "4           0  \n",
       "...       ...  \n",
       "69828       1  \n",
       "69829       0  \n",
       "69830       1  \n",
       "69831       1  \n",
       "69832       1  \n",
       "\n",
       "[69833 rows x 4 columns]"
      ]
     },
     "execution_count": 3,
     "metadata": {},
     "output_type": "execute_result"
    }
   ],
   "source": [
    "df_2 = pd.read_pickle('predicted_unlabeled_data.pkl')\n",
    "df_2"
   ]
  },
  {
   "cell_type": "markdown",
   "metadata": {},
   "source": [
    "#### Concatinating both the dataset to use them as train dataset to check the results on the test dataset"
   ]
  },
  {
   "cell_type": "code",
   "execution_count": 4,
   "metadata": {},
   "outputs": [],
   "source": [
    "train_df = pd.concat([df, df_2])\n",
    "train_df = train_df.reset_index()\n",
    "train_df = train_df[['hmid','moment','social','agency']]"
   ]
  },
  {
   "cell_type": "code",
   "execution_count": 5,
   "metadata": {},
   "outputs": [
    {
     "data": {
      "text/html": [
       "<div>\n",
       "<style scoped>\n",
       "    .dataframe tbody tr th:only-of-type {\n",
       "        vertical-align: middle;\n",
       "    }\n",
       "\n",
       "    .dataframe tbody tr th {\n",
       "        vertical-align: top;\n",
       "    }\n",
       "\n",
       "    .dataframe thead th {\n",
       "        text-align: right;\n",
       "    }\n",
       "</style>\n",
       "<table border=\"1\" class=\"dataframe\">\n",
       "  <thead>\n",
       "    <tr style=\"text-align: right;\">\n",
       "      <th></th>\n",
       "      <th>hmid</th>\n",
       "      <th>moment</th>\n",
       "      <th>social</th>\n",
       "      <th>agency</th>\n",
       "    </tr>\n",
       "  </thead>\n",
       "  <tbody>\n",
       "    <tr>\n",
       "      <th>0</th>\n",
       "      <td>27674</td>\n",
       "      <td>i happy my son got marks his examination</td>\n",
       "      <td>1</td>\n",
       "      <td>0</td>\n",
       "    </tr>\n",
       "    <tr>\n",
       "      <th>1</th>\n",
       "      <td>27685</td>\n",
       "      <td>went movies my friends it fun</td>\n",
       "      <td>1</td>\n",
       "      <td>1</td>\n",
       "    </tr>\n",
       "    <tr>\n",
       "      <th>2</th>\n",
       "      <td>27691</td>\n",
       "      <td>hot kiss my girl friend last night made my day</td>\n",
       "      <td>1</td>\n",
       "      <td>1</td>\n",
       "    </tr>\n",
       "    <tr>\n",
       "      <th>3</th>\n",
       "      <td>27701</td>\n",
       "      <td>my son woke me fantastic breakfast eggs his sp...</td>\n",
       "      <td>1</td>\n",
       "      <td>0</td>\n",
       "    </tr>\n",
       "    <tr>\n",
       "      <th>4</th>\n",
       "      <td>27712</td>\n",
       "      <td>my older daughter keeps patting my younger dau...</td>\n",
       "      <td>1</td>\n",
       "      <td>0</td>\n",
       "    </tr>\n",
       "    <tr>\n",
       "      <th>...</th>\n",
       "      <td>...</td>\n",
       "      <td>...</td>\n",
       "      <td>...</td>\n",
       "      <td>...</td>\n",
       "    </tr>\n",
       "    <tr>\n",
       "      <th>79749</th>\n",
       "      <td>128761</td>\n",
       "      <td>i spent time my daughter</td>\n",
       "      <td>1</td>\n",
       "      <td>1</td>\n",
       "    </tr>\n",
       "    <tr>\n",
       "      <th>79750</th>\n",
       "      <td>128762</td>\n",
       "      <td>my husband announced he getting decent bonus q...</td>\n",
       "      <td>1</td>\n",
       "      <td>0</td>\n",
       "    </tr>\n",
       "    <tr>\n",
       "      <th>79751</th>\n",
       "      <td>128763</td>\n",
       "      <td>pepsi drink</td>\n",
       "      <td>0</td>\n",
       "      <td>1</td>\n",
       "    </tr>\n",
       "    <tr>\n",
       "      <th>79752</th>\n",
       "      <td>128764</td>\n",
       "      <td>cuddling my girlfriend last night</td>\n",
       "      <td>1</td>\n",
       "      <td>1</td>\n",
       "    </tr>\n",
       "    <tr>\n",
       "      <th>79753</th>\n",
       "      <td>128766</td>\n",
       "      <td>i great workout last night</td>\n",
       "      <td>0</td>\n",
       "      <td>1</td>\n",
       "    </tr>\n",
       "  </tbody>\n",
       "</table>\n",
       "<p>79754 rows × 4 columns</p>\n",
       "</div>"
      ],
      "text/plain": [
       "         hmid                                             moment  social  \\\n",
       "0       27674          i happy my son got marks his examination        1   \n",
       "1       27685                     went movies my friends it fun        1   \n",
       "2       27691    hot kiss my girl friend last night made my day        1   \n",
       "3       27701  my son woke me fantastic breakfast eggs his sp...       1   \n",
       "4       27712  my older daughter keeps patting my younger dau...       1   \n",
       "...       ...                                                ...     ...   \n",
       "79749  128761                          i spent time my daughter        1   \n",
       "79750  128762  my husband announced he getting decent bonus q...       1   \n",
       "79751  128763                                       pepsi drink        0   \n",
       "79752  128764                 cuddling my girlfriend last night        1   \n",
       "79753  128766                        i great workout last night        0   \n",
       "\n",
       "       agency  \n",
       "0           0  \n",
       "1           1  \n",
       "2           1  \n",
       "3           0  \n",
       "4           0  \n",
       "...       ...  \n",
       "79749       1  \n",
       "79750       0  \n",
       "79751       1  \n",
       "79752       1  \n",
       "79753       1  \n",
       "\n",
       "[79754 rows x 4 columns]"
      ]
     },
     "execution_count": 5,
     "metadata": {},
     "output_type": "execute_result"
    }
   ],
   "source": [
    "train_df"
   ]
  },
  {
   "cell_type": "markdown",
   "metadata": {},
   "source": [
    "Loading the test dataset"
   ]
  },
  {
   "cell_type": "code",
   "execution_count": 6,
   "metadata": {},
   "outputs": [
    {
     "data": {
      "text/html": [
       "<div>\n",
       "<style scoped>\n",
       "    .dataframe tbody tr th:only-of-type {\n",
       "        vertical-align: middle;\n",
       "    }\n",
       "\n",
       "    .dataframe tbody tr th {\n",
       "        vertical-align: top;\n",
       "    }\n",
       "\n",
       "    .dataframe thead th {\n",
       "        text-align: right;\n",
       "    }\n",
       "</style>\n",
       "<table border=\"1\" class=\"dataframe\">\n",
       "  <thead>\n",
       "    <tr style=\"text-align: right;\">\n",
       "      <th></th>\n",
       "      <th>hmid</th>\n",
       "      <th>moment</th>\n",
       "      <th>social</th>\n",
       "      <th>agency</th>\n",
       "    </tr>\n",
       "  </thead>\n",
       "  <tbody>\n",
       "    <tr>\n",
       "      <th>0</th>\n",
       "      <td>0</td>\n",
       "      <td>i able spend day my fiance shopping yesterday</td>\n",
       "      <td>0</td>\n",
       "      <td>1</td>\n",
       "    </tr>\n",
       "    <tr>\n",
       "      <th>1</th>\n",
       "      <td>1</td>\n",
       "      <td>i able play my cat</td>\n",
       "      <td>0</td>\n",
       "      <td>1</td>\n",
       "    </tr>\n",
       "    <tr>\n",
       "      <th>2</th>\n",
       "      <td>2</td>\n",
       "      <td>i able clean my room gold my laundry</td>\n",
       "      <td>0</td>\n",
       "      <td>1</td>\n",
       "    </tr>\n",
       "    <tr>\n",
       "      <th>3</th>\n",
       "      <td>3</td>\n",
       "      <td>i spend day party beach i happy see friends i ...</td>\n",
       "      <td>1</td>\n",
       "      <td>1</td>\n",
       "    </tr>\n",
       "    <tr>\n",
       "      <th>4</th>\n",
       "      <td>4</td>\n",
       "      <td>my cat greeting me i got home work she sweet c...</td>\n",
       "      <td>0</td>\n",
       "      <td>0</td>\n",
       "    </tr>\n",
       "  </tbody>\n",
       "</table>\n",
       "</div>"
      ],
      "text/plain": [
       "   hmid                                             moment  social  agency\n",
       "0     0     i able spend day my fiance shopping yesterday        0       1\n",
       "1     1                                i able play my cat        0       1\n",
       "2     2              i able clean my room gold my laundry        0       1\n",
       "3     3  i spend day party beach i happy see friends i ...       1       1\n",
       "4     4  my cat greeting me i got home work she sweet c...       0       0"
      ]
     },
     "execution_count": 6,
     "metadata": {},
     "output_type": "execute_result"
    }
   ],
   "source": [
    "test_df = pd.read_pickle('test.pkl')\n",
    "test_df.name = \"Test Dataset\"\n",
    "test_df.head()"
   ]
  },
  {
   "cell_type": "markdown",
   "metadata": {},
   "source": [
    "Seperating the X and y features for both the train and test dataset"
   ]
  },
  {
   "cell_type": "code",
   "execution_count": 7,
   "metadata": {},
   "outputs": [],
   "source": [
    "X_train = train_df['moment'].values\n",
    "y_train_social = train_df['social'].values\n",
    "y_train_agency = train_df['agency'].values"
   ]
  },
  {
   "cell_type": "code",
   "execution_count": 8,
   "metadata": {},
   "outputs": [],
   "source": [
    "X_test = test_df['moment'].values\n",
    "y_test_social = test_df['social'].values\n",
    "y_test_agency = test_df['agency'].values"
   ]
  },
  {
   "cell_type": "markdown",
   "metadata": {},
   "source": [
    "#### Some statistical insights about our datasets"
   ]
  },
  {
   "cell_type": "markdown",
   "metadata": {},
   "source": [
    "The TRAIN dataset"
   ]
  },
  {
   "cell_type": "code",
   "execution_count": 9,
   "metadata": {},
   "outputs": [
    {
     "name": "stdout",
     "output_type": "stream",
     "text": [
      "Sentence : morning i coming home shop i saw little boy standing quite looking parents who caring children buying something them little boy watching them i watching him i went him asked hey u little boy who you you standing he replied i lost my parents church i bring boy police station i told boy police all us sudden parents came embresed little boy i felt like something i something good describe me made my day i happy see them happy i really happy see smile face boy he looked me he smiled me gave fly kiss \n",
      "Length :95\n",
      "Average Sentence Length : 9.081926925295283\n",
      "Standard Dev : 4.810404253782868\n"
     ]
    }
   ],
   "source": [
    "import statistics\n",
    "length = 0\n",
    "val = \"\"\n",
    "train_avg = []\n",
    "for sentence in X_train:\n",
    "    sen_len = len(word_tokenize(sentence))\n",
    "    train_avg.append(sen_len)\n",
    "    if sen_len > length:\n",
    "        length = sen_len\n",
    "        val = sentence\n",
    "print(f'Sentence : {val}\\nLength :{length}')\n",
    "print(f'Average Sentence Length : {sum(train_avg) / len(train_avg)}')\n",
    "print(f'Standard Dev : {statistics.pstdev(train_avg)}') "
   ]
  },
  {
   "cell_type": "markdown",
   "metadata": {},
   "source": [
    "The TEST dataset"
   ]
  },
  {
   "cell_type": "code",
   "execution_count": 10,
   "metadata": {},
   "outputs": [
    {
     "name": "stdout",
     "output_type": "stream",
     "text": [
      "Sentence : event i would know it big small i bought my car made me happy long time hard work buy it i could it it made me happy past i tried raise money buy it everything resulted failure something damaged i buy something new even large part my money stolen i forgot my portfolio somewhere my nephew hid me my carelessness i lost money my father helped me replenish part money working long time i managed buy it i realized great effort i achieve anything i want \n",
      "Length :86\n",
      "Average Sentence Length : 9.36282311937264\n"
     ]
    }
   ],
   "source": [
    "length = 0\n",
    "val = \"\"\n",
    "test_avg = []\n",
    "for sentence in X_test:\n",
    "    sen_len = len(word_tokenize(sentence))\n",
    "    test_avg.append(sen_len)\n",
    "    if sen_len > length:\n",
    "        length = sen_len\n",
    "        val = sentence\n",
    "print(f'Sentence : {val}\\nLength :{length}')\n",
    "print(f'Average Sentence Length : {sum(test_avg) / len(test_avg)}')"
   ]
  },
  {
   "cell_type": "markdown",
   "metadata": {},
   "source": [
    "#### The following code block is used to : \n",
    "- Convert texts to sequence\n",
    "- Then pad these sequences based on the max_len variable which is 25 in our case\n",
    "- The max_len = 25 variable was choosen based on the criteria that majority of the sentences did fit under this value, which eventually enables us to have a dense matrix.\n",
    "- Values 9 and 10 were also considered as the max_len val but did not produce promising results. They were choosen based on the fact that the average length of a sentence in this corpora is 9.36 (after text pre-processing)"
   ]
  },
  {
   "cell_type": "code",
   "execution_count": 11,
   "metadata": {},
   "outputs": [],
   "source": [
    "tokenizer = Tokenizer()\n",
    "tokenizer.fit_on_texts(X_train)\n",
    "\n",
    "X_train = tokenizer.texts_to_sequences(X_train)\n",
    "X_test = tokenizer.texts_to_sequences(X_test)\n",
    "\n",
    "vocab_size = len(tokenizer.word_index) + 1\n",
    "\n",
    "maxlen = 25\n",
    "\n",
    "X_train = pad_sequences(X_train, padding='post', maxlen=maxlen)\n",
    "X_test = pad_sequences(X_test, padding='post', maxlen=maxlen)"
   ]
  },
  {
   "cell_type": "code",
   "execution_count": 12,
   "metadata": {},
   "outputs": [
    {
     "data": {
      "text/plain": [
       "((79754, 25), (17215, 25))"
      ]
     },
     "execution_count": 12,
     "metadata": {},
     "output_type": "execute_result"
    }
   ],
   "source": [
    "X_train.shape, X_test.shape"
   ]
  },
  {
   "cell_type": "markdown",
   "metadata": {},
   "source": [
    "#### Printing the top rows both text and numerical\n",
    "- This gives us an idea of how the 1st value is converted to vector of 25 dimensions\n"
   ]
  },
  {
   "cell_type": "code",
   "execution_count": 13,
   "metadata": {},
   "outputs": [
    {
     "name": "stdout",
     "output_type": "stream",
     "text": [
      "i happy my son got marks his examination \n",
      "[   1    4    2   34    5 1633   42 1945    0    0    0    0    0    0\n",
      "    0    0    0    0    0    0    0    0    0    0    0]\n"
     ]
    }
   ],
   "source": [
    "print(train_df['moment'][0])\n",
    "print(X_train[0])"
   ]
  },
  {
   "cell_type": "markdown",
   "metadata": {},
   "source": [
    "#### The following code block is used to build an embedding matrix with the following configuration\n",
    "\n",
    "- Glove Embedding with 300 dimensions"
   ]
  },
  {
   "cell_type": "code",
   "execution_count": 14,
   "metadata": {},
   "outputs": [],
   "source": [
    "embeddings_dictionary = dict()\n",
    "\n",
    "glove_file = open('glove.6B/glove.6B.300d.txt', encoding=\"utf8\")\n",
    "\n",
    "for line in glove_file:\n",
    "    records = line.split()\n",
    "    word = records[0]\n",
    "    vector_dimensions = asarray(records[1:], dtype='float32')\n",
    "    embeddings_dictionary[word] = vector_dimensions\n",
    "glove_file.close()\n",
    "\n",
    "embedding_matrix = zeros((vocab_size, 300))\n",
    "for word, index in tokenizer.word_index.items():\n",
    "    embedding_vector = embeddings_dictionary.get(word)\n",
    "    if embedding_vector is not None:\n",
    "        embedding_matrix[index] = embedding_vector"
   ]
  },
  {
   "cell_type": "markdown",
   "metadata": {},
   "source": [
    "### Method to test the Accuracy, Precision, Recall and F1 Score\n"
   ]
  },
  {
   "cell_type": "markdown",
   "metadata": {},
   "source": [
    "The following method transforms the output to binary values before calculating the scores"
   ]
  },
  {
   "cell_type": "code",
   "execution_count": 15,
   "metadata": {},
   "outputs": [],
   "source": [
    "def transformResults(predictions):\n",
    "    print(\"\"\"The output here is of the form float, thus we are converting it to binary output based on the following \n",
    "condition if a value is > .5 we assign it with 1 and if a value is <.5 we assign it with 0\"\"\")\n",
    "    \n",
    "    print(\"\\nConverting the ouput to 1D array, and then transformimg the values based on the above condition\\n\")\n",
    "    predictions = predictions[:, 0]\n",
    "    print(f'First 5 values before conversion : {predictions[:5]}')\n",
    "    \n",
    "    predictions = [1 if val>0.5 else 0 for val in predictions]\n",
    "    print(f'First 5 values after the conversion : {predictions[:5]}')\n",
    "    return predictions"
   ]
  },
  {
   "cell_type": "code",
   "execution_count": 16,
   "metadata": {},
   "outputs": [],
   "source": [
    "def getResults(y_test, model_prediction):\n",
    "    model_prediction = transformResults(model_prediction)\n",
    "    print(\"\\n========== RESULTS ===========\\n\")\n",
    "    accuracy = accuracy_score(y_test, model_prediction)\n",
    "    precision = precision_score(y_test, model_prediction)\n",
    "    f1 = f1_score(y_test, model_prediction)\n",
    "    recall = recall_score(y_test, model_prediction)\n",
    "    print(f'Accuracy : {accuracy}\\nPrecision : {precision}\\nF1_score : {f1}\\nRecall : {recall}\\n')\n",
    "    \n",
    "    print(\"===== CONFUSION MATRIX =====\")\n",
    "    cf_matrix = confusion_matrix(y_test_social, model_prediction)\n",
    "    print(cf_matrix)\n",
    "    \n",
    "    return accuracy, precision, f1, recall"
   ]
  },
  {
   "cell_type": "markdown",
   "metadata": {},
   "source": [
    "### Building the LSTM model \n",
    "with Embedding layer, LSTM layer and Dense layer with a single unit\n",
    "\n",
    "This will be seperately evaluated for both the social and agency labels"
   ]
  },
  {
   "cell_type": "code",
   "execution_count": 17,
   "metadata": {},
   "outputs": [],
   "source": [
    "def getLSTMModel():\n",
    "    deep_inputs = Input(shape=(maxlen,))\n",
    "    embedding_layer = Embedding(vocab_size, 300, weights=[embedding_matrix], trainable=False)(deep_inputs)\n",
    "    LSTM_Layer_1 = LSTM(128)(embedding_layer)\n",
    "    dense_layer_1 = Dense(1, activation='sigmoid')(LSTM_Layer_1)\n",
    "    model = Model(inputs=deep_inputs, outputs=dense_layer_1)\n",
    "    model.compile(loss='binary_crossentropy', optimizer='adam', metrics=['acc'])\n",
    "    print(model.summary())\n",
    "    return model"
   ]
  },
  {
   "cell_type": "code",
   "execution_count": 18,
   "metadata": {},
   "outputs": [
    {
     "name": "stdout",
     "output_type": "stream",
     "text": [
      "Model: \"model\"\n",
      "_________________________________________________________________\n",
      "Layer (type)                 Output Shape              Param #   \n",
      "=================================================================\n",
      "input_1 (InputLayer)         [(None, 25)]              0         \n",
      "_________________________________________________________________\n",
      "embedding (Embedding)        (None, 25, 300)           5736600   \n",
      "_________________________________________________________________\n",
      "lstm (LSTM)                  (None, 128)               219648    \n",
      "_________________________________________________________________\n",
      "dense (Dense)                (None, 1)                 129       \n",
      "=================================================================\n",
      "Total params: 5,956,377\n",
      "Trainable params: 219,777\n",
      "Non-trainable params: 5,736,600\n",
      "_________________________________________________________________\n",
      "None\n"
     ]
    }
   ],
   "source": [
    "model = getLSTMModel()"
   ]
  },
  {
   "cell_type": "markdown",
   "metadata": {},
   "source": [
    "### Fit the model for the Social label"
   ]
  },
  {
   "cell_type": "code",
   "execution_count": 19,
   "metadata": {},
   "outputs": [
    {
     "name": "stdout",
     "output_type": "stream",
     "text": [
      "Epoch 1/10\n",
      "499/499 [==============================] - 25s 46ms/step - loss: 0.2301 - acc: 0.9066 - val_loss: 0.0830 - val_acc: 0.9721\n",
      "Epoch 2/10\n",
      "499/499 [==============================] - 23s 46ms/step - loss: 0.1039 - acc: 0.9638 - val_loss: 0.0703 - val_acc: 0.9763\n",
      "Epoch 3/10\n",
      "499/499 [==============================] - 23s 47ms/step - loss: 0.0899 - acc: 0.9701 - val_loss: 0.0604 - val_acc: 0.9782\n",
      "Epoch 4/10\n",
      "499/499 [==============================] - 24s 47ms/step - loss: 0.0836 - acc: 0.9730 - val_loss: 0.0602 - val_acc: 0.9797\n",
      "Epoch 5/10\n",
      "499/499 [==============================] - 24s 47ms/step - loss: 0.0696 - acc: 0.9787 - val_loss: 0.0667 - val_acc: 0.9782\n",
      "Epoch 6/10\n",
      "499/499 [==============================] - 24s 48ms/step - loss: 0.0673 - acc: 0.9799 - val_loss: 0.0627 - val_acc: 0.9767\n",
      "Epoch 7/10\n",
      "499/499 [==============================] - 25s 51ms/step - loss: 0.0598 - acc: 0.9824 - val_loss: 0.0662 - val_acc: 0.9779\n",
      "Epoch 8/10\n",
      "499/499 [==============================] - 26s 52ms/step - loss: 0.0517 - acc: 0.9851 - val_loss: 0.0816 - val_acc: 0.9728\n",
      "Epoch 9/10\n",
      "499/499 [==============================] - 27s 54ms/step - loss: 0.0478 - acc: 0.9860 - val_loss: 0.0755 - val_acc: 0.9765\n",
      "Epoch 10/10\n",
      "499/499 [==============================] - 27s 54ms/step - loss: 0.0428 - acc: 0.9884 - val_loss: 0.0755 - val_acc: 0.9771\n"
     ]
    }
   ],
   "source": [
    "history = model.fit(X_train, y_train_social, batch_size=128, epochs=10, verbose=1, validation_split=0.2)"
   ]
  },
  {
   "cell_type": "code",
   "execution_count": 20,
   "metadata": {},
   "outputs": [
    {
     "name": "stdout",
     "output_type": "stream",
     "text": [
      "[0.99539614 0.00435391 0.00342596 ... 0.999225   0.05949804 0.00327051]\n"
     ]
    }
   ],
   "source": [
    "social_predictions = model.predict(X_test)\n",
    "print(social_predictions[:,0])"
   ]
  },
  {
   "cell_type": "code",
   "execution_count": 21,
   "metadata": {},
   "outputs": [
    {
     "name": "stdout",
     "output_type": "stream",
     "text": [
      "The output here is of the form float, thus we are converting it to binary output based on the following \n",
      "condition if a value is > .5 we assign it with 1 and if a value is <.5 we assign it with 0\n",
      "\n",
      "Converting the ouput to 1D array, and then transformimg the values based on the above condition\n",
      "\n",
      "First 5 values before conversion : [0.99539614 0.00435391 0.00342596 0.9919095  0.97762513]\n",
      "First 5 values after the conversion : [1, 0, 0, 1, 1]\n",
      "\n",
      "========== RESULTS ===========\n",
      "\n",
      "Accuracy : 0.9105431309904153\n",
      "Precision : 0.9619601700604162\n",
      "F1_score : 0.917805294619983\n",
      "Recall : 0.8775260257195346\n",
      "\n",
      "===== CONFUSION MATRIX =====\n",
      "[[7077  340]\n",
      " [1200 8598]]\n"
     ]
    }
   ],
   "source": [
    "social_results = getResults(y_test_social, social_predictions)"
   ]
  },
  {
   "cell_type": "markdown",
   "metadata": {},
   "source": [
    "### Fit the model for the Agency Label"
   ]
  },
  {
   "cell_type": "code",
   "execution_count": 22,
   "metadata": {},
   "outputs": [
    {
     "name": "stdout",
     "output_type": "stream",
     "text": [
      "Epoch 1/10\n",
      "499/499 [==============================] - 35s 70ms/step - loss: 0.2541 - acc: 0.9031 - val_loss: 0.1203 - val_acc: 0.9526\n",
      "Epoch 2/10\n",
      "499/499 [==============================] - 30s 60ms/step - loss: 0.1467 - acc: 0.9466 - val_loss: 0.1273 - val_acc: 0.9485\n",
      "Epoch 3/10\n",
      "499/499 [==============================] - 28s 56ms/step - loss: 0.1304 - acc: 0.9553 - val_loss: 0.0986 - val_acc: 0.9613\n",
      "Epoch 4/10\n",
      "499/499 [==============================] - 29s 59ms/step - loss: 0.1180 - acc: 0.9607 - val_loss: 0.1006 - val_acc: 0.9598\n",
      "Epoch 5/10\n",
      "499/499 [==============================] - 28s 57ms/step - loss: 0.1086 - acc: 0.9651 - val_loss: 0.1082 - val_acc: 0.9584\n",
      "Epoch 6/10\n",
      "499/499 [==============================] - 31s 61ms/step - loss: 0.0991 - acc: 0.9688 - val_loss: 0.1033 - val_acc: 0.9610\n",
      "Epoch 7/10\n",
      "499/499 [==============================] - 26s 52ms/step - loss: 0.0903 - acc: 0.9728 - val_loss: 0.1083 - val_acc: 0.9608\n",
      "Epoch 8/10\n",
      "499/499 [==============================] - 28s 57ms/step - loss: 0.0857 - acc: 0.9750 - val_loss: 0.1104 - val_acc: 0.9599\n",
      "Epoch 9/10\n",
      "499/499 [==============================] - 30s 60ms/step - loss: 0.0783 - acc: 0.9775 - val_loss: 0.1225 - val_acc: 0.9564\n",
      "Epoch 10/10\n",
      "499/499 [==============================] - 28s 56ms/step - loss: 0.0762 - acc: 0.9789 - val_loss: 0.1216 - val_acc: 0.9569\n"
     ]
    }
   ],
   "source": [
    "history = model.fit(X_train, y_train_agency, batch_size=128, epochs=10, verbose=1, validation_split=0.2)"
   ]
  },
  {
   "cell_type": "code",
   "execution_count": 23,
   "metadata": {},
   "outputs": [
    {
     "name": "stdout",
     "output_type": "stream",
     "text": [
      "[0.996994   0.9966028  0.997203   ... 0.95130855 0.990988   0.992264  ]\n"
     ]
    }
   ],
   "source": [
    "agency_predictions = model.predict(X_test)\n",
    "print(agency_predictions[:,0])"
   ]
  },
  {
   "cell_type": "code",
   "execution_count": 24,
   "metadata": {},
   "outputs": [
    {
     "name": "stdout",
     "output_type": "stream",
     "text": [
      "The output here is of the form float, thus we are converting it to binary output based on the following \n",
      "condition if a value is > .5 we assign it with 1 and if a value is <.5 we assign it with 0\n",
      "\n",
      "Converting the ouput to 1D array, and then transformimg the values based on the above condition\n",
      "\n",
      "First 5 values before conversion : [0.996994   0.9966028  0.997203   0.9940667  0.04066172]\n",
      "First 5 values after the conversion : [1, 1, 1, 1, 0]\n",
      "\n",
      "========== RESULTS ===========\n",
      "\n",
      "Accuracy : 0.8310194597734534\n",
      "Precision : 0.8704430734716769\n",
      "F1_score : 0.8819255591183991\n",
      "Recall : 0.8937150378413952\n",
      "\n",
      "===== CONFUSION MATRIX =====\n",
      "[[ 895 6522]\n",
      " [3839 5959]]\n"
     ]
    }
   ],
   "source": [
    "agency_results = getResults(y_test_agency, agency_predictions)"
   ]
  },
  {
   "cell_type": "markdown",
   "metadata": {},
   "source": [
    "### ACCURACY scores for social and agency label with LSTM model"
   ]
  },
  {
   "cell_type": "code",
   "execution_count": 25,
   "metadata": {},
   "outputs": [
    {
     "data": {
      "text/plain": [
       "<Figure size 432x288 with 0 Axes>"
      ]
     },
     "metadata": {},
     "output_type": "display_data"
    },
    {
     "data": {
      "image/png": "[encoded data removed]",
      "text/plain": [
       "<Figure size 720x360 with 1 Axes>"
      ]
     },
     "metadata": {
      "needs_background": "light"
     },
     "output_type": "display_data"
    }
   ],
   "source": [
    "fig = plt.figure()\n",
    "fig = plt.figure(figsize = (10, 5))\n",
    "label = ['Social', 'Agency']\n",
    "scores = [social_results[0], agency_results[0]]\n",
    "plt.ylabel(\"LABEL\")\n",
    "plt.xlabel(\"SCORES\")\n",
    "plt.barh(label,scores)\n",
    "plt.title(\"ACCURACY SCORES FOR THE SOCIAL AND AGENCY LABELS FOR LSTM Model\")\n",
    "for index, value in enumerate(scores):\n",
    "    plt.text(value, index, str(round(value, 2)))\n",
    "plt.show()"
   ]
  },
  {
   "cell_type": "markdown",
   "metadata": {},
   "source": [
    "### Building a dataframe for the predicted values\n",
    "\n",
    "- We were able to get a minor update for the accuracy values for the social label and the final accuracy for the social label is : 0.91 using the LSTM model( wiht Glove embedding 300 dim) trained on the (train data + predicted unlabelled data) The unlabelled data was predicted using the LSTM model( with glove embedding 300 dim)\n",
    "\n",
    "- Building a dataframe which contains the columns for the predicted values for "
   ]
  },
  {
   "cell_type": "code",
   "execution_count": 63,
   "metadata": {},
   "outputs": [
    {
     "data": {
      "text/html": [
       "<div>\n",
       "<style scoped>\n",
       "    .dataframe tbody tr th:only-of-type {\n",
       "        vertical-align: middle;\n",
       "    }\n",
       "\n",
       "    .dataframe tbody tr th {\n",
       "        vertical-align: top;\n",
       "    }\n",
       "\n",
       "    .dataframe thead th {\n",
       "        text-align: right;\n",
       "    }\n",
       "</style>\n",
       "<table border=\"1\" class=\"dataframe\">\n",
       "  <thead>\n",
       "    <tr style=\"text-align: right;\">\n",
       "      <th></th>\n",
       "      <th>hmid</th>\n",
       "      <th>moment</th>\n",
       "      <th>reflection</th>\n",
       "      <th>age</th>\n",
       "      <th>country</th>\n",
       "      <th>gender</th>\n",
       "      <th>duration</th>\n",
       "      <th>married</th>\n",
       "      <th>parenthood</th>\n",
       "      <th>concepts</th>\n",
       "      <th>agency</th>\n",
       "      <th>social</th>\n",
       "    </tr>\n",
       "  </thead>\n",
       "  <tbody>\n",
       "    <tr>\n",
       "      <th>0</th>\n",
       "      <td>0</td>\n",
       "      <td>I was able to spend the day with my fiance sho...</td>\n",
       "      <td>24h</td>\n",
       "      <td>28</td>\n",
       "      <td>USA</td>\n",
       "      <td>m</td>\n",
       "      <td>all_day_im_still_feeling_it</td>\n",
       "      <td>single</td>\n",
       "      <td>n</td>\n",
       "      <td>shopping|family|romance</td>\n",
       "      <td>yes</td>\n",
       "      <td>no</td>\n",
       "    </tr>\n",
       "    <tr>\n",
       "      <th>1</th>\n",
       "      <td>1</td>\n",
       "      <td>I was able to play with my cat.</td>\n",
       "      <td>24h</td>\n",
       "      <td>28</td>\n",
       "      <td>USA</td>\n",
       "      <td>m</td>\n",
       "      <td>at_least_one_hour</td>\n",
       "      <td>single</td>\n",
       "      <td>n</td>\n",
       "      <td>animals</td>\n",
       "      <td>yes</td>\n",
       "      <td>no</td>\n",
       "    </tr>\n",
       "    <tr>\n",
       "      <th>2</th>\n",
       "      <td>2</td>\n",
       "      <td>I was able to clean my room and gold my laundry.</td>\n",
       "      <td>24h</td>\n",
       "      <td>28</td>\n",
       "      <td>USA</td>\n",
       "      <td>m</td>\n",
       "      <td>at_least_one_hour</td>\n",
       "      <td>single</td>\n",
       "      <td>n</td>\n",
       "      <td>0</td>\n",
       "      <td>yes</td>\n",
       "      <td>no</td>\n",
       "    </tr>\n",
       "    <tr>\n",
       "      <th>3</th>\n",
       "      <td>3</td>\n",
       "      <td>I spend the day at a party on the beach and I ...</td>\n",
       "      <td>24h</td>\n",
       "      <td>24</td>\n",
       "      <td>USA</td>\n",
       "      <td>m</td>\n",
       "      <td>half_a_day</td>\n",
       "      <td>single</td>\n",
       "      <td>n</td>\n",
       "      <td>vacation|party|weather</td>\n",
       "      <td>yes</td>\n",
       "      <td>yes</td>\n",
       "    </tr>\n",
       "    <tr>\n",
       "      <th>4</th>\n",
       "      <td>4</td>\n",
       "      <td>My cat greeting me when I got home from work -...</td>\n",
       "      <td>24h</td>\n",
       "      <td>24</td>\n",
       "      <td>USA</td>\n",
       "      <td>m</td>\n",
       "      <td>half_a_day</td>\n",
       "      <td>single</td>\n",
       "      <td>n</td>\n",
       "      <td>animals</td>\n",
       "      <td>no</td>\n",
       "      <td>no</td>\n",
       "    </tr>\n",
       "    <tr>\n",
       "      <th>...</th>\n",
       "      <td>...</td>\n",
       "      <td>...</td>\n",
       "      <td>...</td>\n",
       "      <td>...</td>\n",
       "      <td>...</td>\n",
       "      <td>...</td>\n",
       "      <td>...</td>\n",
       "      <td>...</td>\n",
       "      <td>...</td>\n",
       "      <td>...</td>\n",
       "      <td>...</td>\n",
       "      <td>...</td>\n",
       "    </tr>\n",
       "    <tr>\n",
       "      <th>17210</th>\n",
       "      <td>21892</td>\n",
       "      <td>My wife and I went for a hike last week and we...</td>\n",
       "      <td>3m</td>\n",
       "      <td>34</td>\n",
       "      <td>USA</td>\n",
       "      <td>m</td>\n",
       "      <td>half_a_day</td>\n",
       "      <td>married</td>\n",
       "      <td>n</td>\n",
       "      <td>romance|exercise|family</td>\n",
       "      <td>yes</td>\n",
       "      <td>yes</td>\n",
       "    </tr>\n",
       "    <tr>\n",
       "      <th>17211</th>\n",
       "      <td>21893</td>\n",
       "      <td>I finally hit platinum rank in Overwatch.</td>\n",
       "      <td>3m</td>\n",
       "      <td>34</td>\n",
       "      <td>USA</td>\n",
       "      <td>m</td>\n",
       "      <td>at_least_one_hour</td>\n",
       "      <td>married</td>\n",
       "      <td>n</td>\n",
       "      <td>entertainment</td>\n",
       "      <td>yes</td>\n",
       "      <td>no</td>\n",
       "    </tr>\n",
       "    <tr>\n",
       "      <th>17212</th>\n",
       "      <td>21897</td>\n",
       "      <td>One of my long-time friends and I finally ackn...</td>\n",
       "      <td>3m</td>\n",
       "      <td>34</td>\n",
       "      <td>USA</td>\n",
       "      <td>m</td>\n",
       "      <td>all_day_im_still_feeling_it</td>\n",
       "      <td>single</td>\n",
       "      <td>n</td>\n",
       "      <td>romance</td>\n",
       "      <td>yes</td>\n",
       "      <td>yes</td>\n",
       "    </tr>\n",
       "    <tr>\n",
       "      <th>17213</th>\n",
       "      <td>21898</td>\n",
       "      <td>I earned a professional certification.</td>\n",
       "      <td>3m</td>\n",
       "      <td>34</td>\n",
       "      <td>USA</td>\n",
       "      <td>m</td>\n",
       "      <td>half_a_day</td>\n",
       "      <td>single</td>\n",
       "      <td>n</td>\n",
       "      <td>career|education</td>\n",
       "      <td>yes</td>\n",
       "      <td>no</td>\n",
       "    </tr>\n",
       "    <tr>\n",
       "      <th>17214</th>\n",
       "      <td>21899</td>\n",
       "      <td>I built a new computer.</td>\n",
       "      <td>3m</td>\n",
       "      <td>34</td>\n",
       "      <td>USA</td>\n",
       "      <td>m</td>\n",
       "      <td>half_a_day</td>\n",
       "      <td>single</td>\n",
       "      <td>n</td>\n",
       "      <td>technology</td>\n",
       "      <td>yes</td>\n",
       "      <td>no</td>\n",
       "    </tr>\n",
       "  </tbody>\n",
       "</table>\n",
       "<p>17215 rows × 12 columns</p>\n",
       "</div>"
      ],
      "text/plain": [
       "        hmid                                             moment reflection  \\\n",
       "0          0  I was able to spend the day with my fiance sho...        24h   \n",
       "1          1                    I was able to play with my cat.        24h   \n",
       "2          2   I was able to clean my room and gold my laundry.        24h   \n",
       "3          3  I spend the day at a party on the beach and I ...        24h   \n",
       "4          4  My cat greeting me when I got home from work -...        24h   \n",
       "...      ...                                                ...        ...   \n",
       "17210  21892  My wife and I went for a hike last week and we...         3m   \n",
       "17211  21893          I finally hit platinum rank in Overwatch.         3m   \n",
       "17212  21897  One of my long-time friends and I finally ackn...         3m   \n",
       "17213  21898             I earned a professional certification.         3m   \n",
       "17214  21899                            I built a new computer.         3m   \n",
       "\n",
       "      age country gender                     duration  married parenthood  \\\n",
       "0      28     USA      m  all_day_im_still_feeling_it   single          n   \n",
       "1      28     USA      m            at_least_one_hour   single          n   \n",
       "2      28     USA      m            at_least_one_hour   single          n   \n",
       "3      24     USA      m                   half_a_day   single          n   \n",
       "4      24     USA      m                   half_a_day   single          n   \n",
       "...    ..     ...    ...                          ...      ...        ...   \n",
       "17210  34     USA      m                   half_a_day  married          n   \n",
       "17211  34     USA      m            at_least_one_hour  married          n   \n",
       "17212  34     USA      m  all_day_im_still_feeling_it   single          n   \n",
       "17213  34     USA      m                   half_a_day   single          n   \n",
       "17214  34     USA      m                   half_a_day   single          n   \n",
       "\n",
       "                      concepts agency social  \n",
       "0      shopping|family|romance    yes     no  \n",
       "1                      animals    yes     no  \n",
       "2                            0    yes     no  \n",
       "3       vacation|party|weather    yes    yes  \n",
       "4                      animals     no     no  \n",
       "...                        ...    ...    ...  \n",
       "17210  romance|exercise|family    yes    yes  \n",
       "17211            entertainment    yes     no  \n",
       "17212                  romance    yes    yes  \n",
       "17213         career|education    yes     no  \n",
       "17214               technology    yes     no  \n",
       "\n",
       "[17215 rows x 12 columns]"
      ]
     },
     "execution_count": 63,
     "metadata": {},
     "output_type": "execute_result"
    }
   ],
   "source": [
    "results = pd.read_csv('data/TEST/labeled_17k.csv')\n",
    "results"
   ]
  },
  {
   "cell_type": "markdown",
   "metadata": {},
   "source": [
    "Reducing the coluumns to hmid, moment, social, agency values"
   ]
  },
  {
   "cell_type": "code",
   "execution_count": 64,
   "metadata": {},
   "outputs": [
    {
     "data": {
      "text/html": [
       "<div>\n",
       "<style scoped>\n",
       "    .dataframe tbody tr th:only-of-type {\n",
       "        vertical-align: middle;\n",
       "    }\n",
       "\n",
       "    .dataframe tbody tr th {\n",
       "        vertical-align: top;\n",
       "    }\n",
       "\n",
       "    .dataframe thead th {\n",
       "        text-align: right;\n",
       "    }\n",
       "</style>\n",
       "<table border=\"1\" class=\"dataframe\">\n",
       "  <thead>\n",
       "    <tr style=\"text-align: right;\">\n",
       "      <th></th>\n",
       "      <th>hmid</th>\n",
       "      <th>moment</th>\n",
       "      <th>social</th>\n",
       "      <th>agency</th>\n",
       "    </tr>\n",
       "  </thead>\n",
       "  <tbody>\n",
       "    <tr>\n",
       "      <th>0</th>\n",
       "      <td>0</td>\n",
       "      <td>I was able to spend the day with my fiance sho...</td>\n",
       "      <td>no</td>\n",
       "      <td>yes</td>\n",
       "    </tr>\n",
       "    <tr>\n",
       "      <th>1</th>\n",
       "      <td>1</td>\n",
       "      <td>I was able to play with my cat.</td>\n",
       "      <td>no</td>\n",
       "      <td>yes</td>\n",
       "    </tr>\n",
       "    <tr>\n",
       "      <th>2</th>\n",
       "      <td>2</td>\n",
       "      <td>I was able to clean my room and gold my laundry.</td>\n",
       "      <td>no</td>\n",
       "      <td>yes</td>\n",
       "    </tr>\n",
       "    <tr>\n",
       "      <th>3</th>\n",
       "      <td>3</td>\n",
       "      <td>I spend the day at a party on the beach and I ...</td>\n",
       "      <td>yes</td>\n",
       "      <td>yes</td>\n",
       "    </tr>\n",
       "    <tr>\n",
       "      <th>4</th>\n",
       "      <td>4</td>\n",
       "      <td>My cat greeting me when I got home from work -...</td>\n",
       "      <td>no</td>\n",
       "      <td>no</td>\n",
       "    </tr>\n",
       "    <tr>\n",
       "      <th>...</th>\n",
       "      <td>...</td>\n",
       "      <td>...</td>\n",
       "      <td>...</td>\n",
       "      <td>...</td>\n",
       "    </tr>\n",
       "    <tr>\n",
       "      <th>17210</th>\n",
       "      <td>21892</td>\n",
       "      <td>My wife and I went for a hike last week and we...</td>\n",
       "      <td>yes</td>\n",
       "      <td>yes</td>\n",
       "    </tr>\n",
       "    <tr>\n",
       "      <th>17211</th>\n",
       "      <td>21893</td>\n",
       "      <td>I finally hit platinum rank in Overwatch.</td>\n",
       "      <td>no</td>\n",
       "      <td>yes</td>\n",
       "    </tr>\n",
       "    <tr>\n",
       "      <th>17212</th>\n",
       "      <td>21897</td>\n",
       "      <td>One of my long-time friends and I finally ackn...</td>\n",
       "      <td>yes</td>\n",
       "      <td>yes</td>\n",
       "    </tr>\n",
       "    <tr>\n",
       "      <th>17213</th>\n",
       "      <td>21898</td>\n",
       "      <td>I earned a professional certification.</td>\n",
       "      <td>no</td>\n",
       "      <td>yes</td>\n",
       "    </tr>\n",
       "    <tr>\n",
       "      <th>17214</th>\n",
       "      <td>21899</td>\n",
       "      <td>I built a new computer.</td>\n",
       "      <td>no</td>\n",
       "      <td>yes</td>\n",
       "    </tr>\n",
       "  </tbody>\n",
       "</table>\n",
       "<p>17215 rows × 4 columns</p>\n",
       "</div>"
      ],
      "text/plain": [
       "        hmid                                             moment social agency\n",
       "0          0  I was able to spend the day with my fiance sho...     no    yes\n",
       "1          1                    I was able to play with my cat.     no    yes\n",
       "2          2   I was able to clean my room and gold my laundry.     no    yes\n",
       "3          3  I spend the day at a party on the beach and I ...    yes    yes\n",
       "4          4  My cat greeting me when I got home from work -...     no     no\n",
       "...      ...                                                ...    ...    ...\n",
       "17210  21892  My wife and I went for a hike last week and we...    yes    yes\n",
       "17211  21893          I finally hit platinum rank in Overwatch.     no    yes\n",
       "17212  21897  One of my long-time friends and I finally ackn...    yes    yes\n",
       "17213  21898             I earned a professional certification.     no    yes\n",
       "17214  21899                            I built a new computer.     no    yes\n",
       "\n",
       "[17215 rows x 4 columns]"
      ]
     },
     "execution_count": 64,
     "metadata": {},
     "output_type": "execute_result"
    }
   ],
   "source": [
    "results = results[['hmid','moment','social','agency']]\n",
    "results"
   ]
  },
  {
   "cell_type": "code",
   "execution_count": 67,
   "metadata": {},
   "outputs": [],
   "source": [
    "social_pred = pd.DataFrame(social_predictions[:,0], columns=['social_predicted'])\n",
    "agency_pred = pd.DataFrame(agency_predictions[:,0], columns=['agency_predicted'])"
   ]
  },
  {
   "cell_type": "code",
   "execution_count": 68,
   "metadata": {},
   "outputs": [
    {
     "data": {
      "text/html": [
       "<div>\n",
       "<style scoped>\n",
       "    .dataframe tbody tr th:only-of-type {\n",
       "        vertical-align: middle;\n",
       "    }\n",
       "\n",
       "    .dataframe tbody tr th {\n",
       "        vertical-align: top;\n",
       "    }\n",
       "\n",
       "    .dataframe thead th {\n",
       "        text-align: right;\n",
       "    }\n",
       "</style>\n",
       "<table border=\"1\" class=\"dataframe\">\n",
       "  <thead>\n",
       "    <tr style=\"text-align: right;\">\n",
       "      <th></th>\n",
       "      <th>social_predicted</th>\n",
       "    </tr>\n",
       "  </thead>\n",
       "  <tbody>\n",
       "    <tr>\n",
       "      <th>0</th>\n",
       "      <td>0.995396</td>\n",
       "    </tr>\n",
       "    <tr>\n",
       "      <th>1</th>\n",
       "      <td>0.004354</td>\n",
       "    </tr>\n",
       "    <tr>\n",
       "      <th>2</th>\n",
       "      <td>0.003426</td>\n",
       "    </tr>\n",
       "    <tr>\n",
       "      <th>3</th>\n",
       "      <td>0.991910</td>\n",
       "    </tr>\n",
       "    <tr>\n",
       "      <th>4</th>\n",
       "      <td>0.977625</td>\n",
       "    </tr>\n",
       "  </tbody>\n",
       "</table>\n",
       "</div>"
      ],
      "text/plain": [
       "   social_predicted\n",
       "0          0.995396\n",
       "1          0.004354\n",
       "2          0.003426\n",
       "3          0.991910\n",
       "4          0.977625"
      ]
     },
     "metadata": {},
     "output_type": "display_data"
    },
    {
     "data": {
      "text/html": [
       "<div>\n",
       "<style scoped>\n",
       "    .dataframe tbody tr th:only-of-type {\n",
       "        vertical-align: middle;\n",
       "    }\n",
       "\n",
       "    .dataframe tbody tr th {\n",
       "        vertical-align: top;\n",
       "    }\n",
       "\n",
       "    .dataframe thead th {\n",
       "        text-align: right;\n",
       "    }\n",
       "</style>\n",
       "<table border=\"1\" class=\"dataframe\">\n",
       "  <thead>\n",
       "    <tr style=\"text-align: right;\">\n",
       "      <th></th>\n",
       "      <th>agency_predicted</th>\n",
       "    </tr>\n",
       "  </thead>\n",
       "  <tbody>\n",
       "    <tr>\n",
       "      <th>0</th>\n",
       "      <td>0.996994</td>\n",
       "    </tr>\n",
       "    <tr>\n",
       "      <th>1</th>\n",
       "      <td>0.996603</td>\n",
       "    </tr>\n",
       "    <tr>\n",
       "      <th>2</th>\n",
       "      <td>0.997203</td>\n",
       "    </tr>\n",
       "    <tr>\n",
       "      <th>3</th>\n",
       "      <td>0.994067</td>\n",
       "    </tr>\n",
       "    <tr>\n",
       "      <th>4</th>\n",
       "      <td>0.040662</td>\n",
       "    </tr>\n",
       "  </tbody>\n",
       "</table>\n",
       "</div>"
      ],
      "text/plain": [
       "   agency_predicted\n",
       "0          0.996994\n",
       "1          0.996603\n",
       "2          0.997203\n",
       "3          0.994067\n",
       "4          0.040662"
      ]
     },
     "metadata": {},
     "output_type": "display_data"
    }
   ],
   "source": [
    "display(social_pred.head())\n",
    "display(agency_pred.head())"
   ]
  },
  {
   "cell_type": "markdown",
   "metadata": {},
   "source": [
    "Converting both the columns to values 'yes' and 'no' based on the conditions that were used above, where a value > .5 is 'yes' and a value < .5 is 'no'"
   ]
  },
  {
   "cell_type": "code",
   "execution_count": 71,
   "metadata": {},
   "outputs": [],
   "source": [
    "def getBinary(val):\n",
    "    if val > .5:\n",
    "        return 'yes'\n",
    "    else:\n",
    "        return 'no'"
   ]
  },
  {
   "cell_type": "code",
   "execution_count": 72,
   "metadata": {},
   "outputs": [],
   "source": [
    "social_pred['social_predicted'] = social_pred['social_predicted'].apply(getBinary)\n",
    "agency_pred['agency_predicted'] = agency_pred['agency_predicted'].apply(getBinary)"
   ]
  },
  {
   "cell_type": "code",
   "execution_count": 73,
   "metadata": {},
   "outputs": [
    {
     "data": {
      "text/html": [
       "<div>\n",
       "<style scoped>\n",
       "    .dataframe tbody tr th:only-of-type {\n",
       "        vertical-align: middle;\n",
       "    }\n",
       "\n",
       "    .dataframe tbody tr th {\n",
       "        vertical-align: top;\n",
       "    }\n",
       "\n",
       "    .dataframe thead th {\n",
       "        text-align: right;\n",
       "    }\n",
       "</style>\n",
       "<table border=\"1\" class=\"dataframe\">\n",
       "  <thead>\n",
       "    <tr style=\"text-align: right;\">\n",
       "      <th></th>\n",
       "      <th>social_predicted</th>\n",
       "    </tr>\n",
       "  </thead>\n",
       "  <tbody>\n",
       "    <tr>\n",
       "      <th>0</th>\n",
       "      <td>yes</td>\n",
       "    </tr>\n",
       "    <tr>\n",
       "      <th>1</th>\n",
       "      <td>no</td>\n",
       "    </tr>\n",
       "    <tr>\n",
       "      <th>2</th>\n",
       "      <td>no</td>\n",
       "    </tr>\n",
       "    <tr>\n",
       "      <th>3</th>\n",
       "      <td>yes</td>\n",
       "    </tr>\n",
       "    <tr>\n",
       "      <th>4</th>\n",
       "      <td>yes</td>\n",
       "    </tr>\n",
       "  </tbody>\n",
       "</table>\n",
       "</div>"
      ],
      "text/plain": [
       "  social_predicted\n",
       "0              yes\n",
       "1               no\n",
       "2               no\n",
       "3              yes\n",
       "4              yes"
      ]
     },
     "metadata": {},
     "output_type": "display_data"
    },
    {
     "data": {
      "text/html": [
       "<div>\n",
       "<style scoped>\n",
       "    .dataframe tbody tr th:only-of-type {\n",
       "        vertical-align: middle;\n",
       "    }\n",
       "\n",
       "    .dataframe tbody tr th {\n",
       "        vertical-align: top;\n",
       "    }\n",
       "\n",
       "    .dataframe thead th {\n",
       "        text-align: right;\n",
       "    }\n",
       "</style>\n",
       "<table border=\"1\" class=\"dataframe\">\n",
       "  <thead>\n",
       "    <tr style=\"text-align: right;\">\n",
       "      <th></th>\n",
       "      <th>agency_predicted</th>\n",
       "    </tr>\n",
       "  </thead>\n",
       "  <tbody>\n",
       "    <tr>\n",
       "      <th>0</th>\n",
       "      <td>yes</td>\n",
       "    </tr>\n",
       "    <tr>\n",
       "      <th>1</th>\n",
       "      <td>yes</td>\n",
       "    </tr>\n",
       "    <tr>\n",
       "      <th>2</th>\n",
       "      <td>yes</td>\n",
       "    </tr>\n",
       "    <tr>\n",
       "      <th>3</th>\n",
       "      <td>yes</td>\n",
       "    </tr>\n",
       "    <tr>\n",
       "      <th>4</th>\n",
       "      <td>no</td>\n",
       "    </tr>\n",
       "  </tbody>\n",
       "</table>\n",
       "</div>"
      ],
      "text/plain": [
       "  agency_predicted\n",
       "0              yes\n",
       "1              yes\n",
       "2              yes\n",
       "3              yes\n",
       "4               no"
      ]
     },
     "metadata": {},
     "output_type": "display_data"
    }
   ],
   "source": [
    "display(social_pred.head())\n",
    "display(agency_pred.head())"
   ]
  },
  {
   "cell_type": "markdown",
   "metadata": {},
   "source": [
    "Converting the binary values to yes and no"
   ]
  },
  {
   "cell_type": "code",
   "execution_count": 74,
   "metadata": {
    "collapsed": true
   },
   "outputs": [
    {
     "name": "stderr",
     "output_type": "stream",
     "text": [
      "<ipython-input-74-4fec54adb2eb>:1: SettingWithCopyWarning: \n",
      "A value is trying to be set on a copy of a slice from a DataFrame.\n",
      "Try using .loc[row_indexer,col_indexer] = value instead\n",
      "\n",
      "See the caveats in the documentation: https://pandas.pydata.org/pandas-docs/stable/user_guide/indexing.html#returning-a-view-versus-a-copy\n",
      "  results['social_predicted'] = social_pred['social_predicted']\n",
      "<ipython-input-74-4fec54adb2eb>:2: SettingWithCopyWarning: \n",
      "A value is trying to be set on a copy of a slice from a DataFrame.\n",
      "Try using .loc[row_indexer,col_indexer] = value instead\n",
      "\n",
      "See the caveats in the documentation: https://pandas.pydata.org/pandas-docs/stable/user_guide/indexing.html#returning-a-view-versus-a-copy\n",
      "  results['agency_predicted'] = agency_pred['agency_predicted']\n"
     ]
    }
   ],
   "source": [
    "results['social_predicted'] = social_pred['social_predicted']\n",
    "results['agency_predicted'] = agency_pred['agency_predicted']"
   ]
  },
  {
   "cell_type": "code",
   "execution_count": 75,
   "metadata": {},
   "outputs": [
    {
     "data": {
      "text/html": [
       "<div>\n",
       "<style scoped>\n",
       "    .dataframe tbody tr th:only-of-type {\n",
       "        vertical-align: middle;\n",
       "    }\n",
       "\n",
       "    .dataframe tbody tr th {\n",
       "        vertical-align: top;\n",
       "    }\n",
       "\n",
       "    .dataframe thead th {\n",
       "        text-align: right;\n",
       "    }\n",
       "</style>\n",
       "<table border=\"1\" class=\"dataframe\">\n",
       "  <thead>\n",
       "    <tr style=\"text-align: right;\">\n",
       "      <th></th>\n",
       "      <th>hmid</th>\n",
       "      <th>moment</th>\n",
       "      <th>social</th>\n",
       "      <th>agency</th>\n",
       "      <th>social_predicted</th>\n",
       "      <th>agency_predicted</th>\n",
       "    </tr>\n",
       "  </thead>\n",
       "  <tbody>\n",
       "    <tr>\n",
       "      <th>0</th>\n",
       "      <td>0</td>\n",
       "      <td>I was able to spend the day with my fiance sho...</td>\n",
       "      <td>no</td>\n",
       "      <td>yes</td>\n",
       "      <td>yes</td>\n",
       "      <td>yes</td>\n",
       "    </tr>\n",
       "    <tr>\n",
       "      <th>1</th>\n",
       "      <td>1</td>\n",
       "      <td>I was able to play with my cat.</td>\n",
       "      <td>no</td>\n",
       "      <td>yes</td>\n",
       "      <td>no</td>\n",
       "      <td>yes</td>\n",
       "    </tr>\n",
       "    <tr>\n",
       "      <th>2</th>\n",
       "      <td>2</td>\n",
       "      <td>I was able to clean my room and gold my laundry.</td>\n",
       "      <td>no</td>\n",
       "      <td>yes</td>\n",
       "      <td>no</td>\n",
       "      <td>yes</td>\n",
       "    </tr>\n",
       "    <tr>\n",
       "      <th>3</th>\n",
       "      <td>3</td>\n",
       "      <td>I spend the day at a party on the beach and I ...</td>\n",
       "      <td>yes</td>\n",
       "      <td>yes</td>\n",
       "      <td>yes</td>\n",
       "      <td>yes</td>\n",
       "    </tr>\n",
       "    <tr>\n",
       "      <th>4</th>\n",
       "      <td>4</td>\n",
       "      <td>My cat greeting me when I got home from work -...</td>\n",
       "      <td>no</td>\n",
       "      <td>no</td>\n",
       "      <td>yes</td>\n",
       "      <td>no</td>\n",
       "    </tr>\n",
       "    <tr>\n",
       "      <th>...</th>\n",
       "      <td>...</td>\n",
       "      <td>...</td>\n",
       "      <td>...</td>\n",
       "      <td>...</td>\n",
       "      <td>...</td>\n",
       "      <td>...</td>\n",
       "    </tr>\n",
       "    <tr>\n",
       "      <th>17210</th>\n",
       "      <td>21892</td>\n",
       "      <td>My wife and I went for a hike last week and we...</td>\n",
       "      <td>yes</td>\n",
       "      <td>yes</td>\n",
       "      <td>yes</td>\n",
       "      <td>yes</td>\n",
       "    </tr>\n",
       "    <tr>\n",
       "      <th>17211</th>\n",
       "      <td>21893</td>\n",
       "      <td>I finally hit platinum rank in Overwatch.</td>\n",
       "      <td>no</td>\n",
       "      <td>yes</td>\n",
       "      <td>no</td>\n",
       "      <td>yes</td>\n",
       "    </tr>\n",
       "    <tr>\n",
       "      <th>17212</th>\n",
       "      <td>21897</td>\n",
       "      <td>One of my long-time friends and I finally ackn...</td>\n",
       "      <td>yes</td>\n",
       "      <td>yes</td>\n",
       "      <td>yes</td>\n",
       "      <td>yes</td>\n",
       "    </tr>\n",
       "    <tr>\n",
       "      <th>17213</th>\n",
       "      <td>21898</td>\n",
       "      <td>I earned a professional certification.</td>\n",
       "      <td>no</td>\n",
       "      <td>yes</td>\n",
       "      <td>no</td>\n",
       "      <td>yes</td>\n",
       "    </tr>\n",
       "    <tr>\n",
       "      <th>17214</th>\n",
       "      <td>21899</td>\n",
       "      <td>I built a new computer.</td>\n",
       "      <td>no</td>\n",
       "      <td>yes</td>\n",
       "      <td>no</td>\n",
       "      <td>yes</td>\n",
       "    </tr>\n",
       "  </tbody>\n",
       "</table>\n",
       "<p>17215 rows × 6 columns</p>\n",
       "</div>"
      ],
      "text/plain": [
       "        hmid                                             moment social agency  \\\n",
       "0          0  I was able to spend the day with my fiance sho...     no    yes   \n",
       "1          1                    I was able to play with my cat.     no    yes   \n",
       "2          2   I was able to clean my room and gold my laundry.     no    yes   \n",
       "3          3  I spend the day at a party on the beach and I ...    yes    yes   \n",
       "4          4  My cat greeting me when I got home from work -...     no     no   \n",
       "...      ...                                                ...    ...    ...   \n",
       "17210  21892  My wife and I went for a hike last week and we...    yes    yes   \n",
       "17211  21893          I finally hit platinum rank in Overwatch.     no    yes   \n",
       "17212  21897  One of my long-time friends and I finally ackn...    yes    yes   \n",
       "17213  21898             I earned a professional certification.     no    yes   \n",
       "17214  21899                            I built a new computer.     no    yes   \n",
       "\n",
       "      social_predicted agency_predicted  \n",
       "0                  yes              yes  \n",
       "1                   no              yes  \n",
       "2                   no              yes  \n",
       "3                  yes              yes  \n",
       "4                  yes               no  \n",
       "...                ...              ...  \n",
       "17210              yes              yes  \n",
       "17211               no              yes  \n",
       "17212              yes              yes  \n",
       "17213               no              yes  \n",
       "17214               no              yes  \n",
       "\n",
       "[17215 rows x 6 columns]"
      ]
     },
     "execution_count": 75,
     "metadata": {},
     "output_type": "execute_result"
    }
   ],
   "source": [
    "results"
   ]
  },
  {
   "cell_type": "markdown",
   "metadata": {},
   "source": [
    "Saving this dataframe"
   ]
  },
  {
   "cell_type": "code",
   "execution_count": 76,
   "metadata": {},
   "outputs": [],
   "source": [
    "pd.to_pickle(results,'predicted_data.pkl')"
   ]
  }
 ],
 "metadata": {
  "kernelspec": {
   "display_name": "Python 3",
   "language": "python",
   "name": "python3"
  },
  "language_info": {
   "codemirror_mode": {
    "name": "ipython",
    "version": 3
   },
   "file_extension": ".py",
   "mimetype": "text/x-python",
   "name": "python",
   "nbconvert_exporter": "python",
   "pygments_lexer": "ipython3",
   "version": "3.8.2"
  }
 },
 "nbformat": 4,
 "nbformat_minor": 4
}
