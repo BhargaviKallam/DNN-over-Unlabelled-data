{
 "cells": [
  {
   "cell_type": "markdown",
   "id": "arranged-blame",
   "metadata": {},
   "source": [
    "## Final Results"
   ]
  },
  {
   "cell_type": "code",
   "execution_count": 1,
   "id": "inner-astrology",
   "metadata": {},
   "outputs": [],
   "source": [
    "import pandas as pd "
   ]
  },
  {
   "cell_type": "code",
   "execution_count": 2,
   "id": "adaptive-antarctica",
   "metadata": {},
   "outputs": [],
   "source": [
    "scores = {'Accuracy': [0.91,0.83],\n",
    "          'Precision': [0.96,0.87],\n",
    "          'F1_score': [0.92,0.88],\n",
    "          'Recall': [0.88, 0.89]\n",
    "}"
   ]
  },
  {
   "cell_type": "code",
   "execution_count": 3,
   "id": "unauthorized-bradley",
   "metadata": {},
   "outputs": [
    {
     "name": "stdout",
     "output_type": "stream",
     "text": [
      "========== Results for our best model ==========\n"
     ]
    },
    {
     "data": {
      "text/html": [
       "<div>\n",
       "<style scoped>\n",
       "    .dataframe tbody tr th:only-of-type {\n",
       "        vertical-align: middle;\n",
       "    }\n",
       "\n",
       "    .dataframe tbody tr th {\n",
       "        vertical-align: top;\n",
       "    }\n",
       "\n",
       "    .dataframe thead th {\n",
       "        text-align: right;\n",
       "    }\n",
       "</style>\n",
       "<table border=\"1\" class=\"dataframe\">\n",
       "  <thead>\n",
       "    <tr style=\"text-align: right;\">\n",
       "      <th></th>\n",
       "      <th>Accuracy</th>\n",
       "      <th>Precision</th>\n",
       "      <th>F1_score</th>\n",
       "      <th>Recall</th>\n",
       "    </tr>\n",
       "  </thead>\n",
       "  <tbody>\n",
       "    <tr>\n",
       "      <th>Social</th>\n",
       "      <td>0.91</td>\n",
       "      <td>0.96</td>\n",
       "      <td>0.92</td>\n",
       "      <td>0.88</td>\n",
       "    </tr>\n",
       "    <tr>\n",
       "      <th>Agency</th>\n",
       "      <td>0.83</td>\n",
       "      <td>0.87</td>\n",
       "      <td>0.88</td>\n",
       "      <td>0.89</td>\n",
       "    </tr>\n",
       "  </tbody>\n",
       "</table>\n",
       "</div>"
      ],
      "text/plain": [
       "        Accuracy  Precision  F1_score  Recall\n",
       "Social      0.91       0.96      0.92    0.88\n",
       "Agency      0.83       0.87      0.88    0.89"
      ]
     },
     "metadata": {},
     "output_type": "display_data"
    },
    {
     "name": "stdout",
     "output_type": "stream",
     "text": [
      "LSTM model with Glove Embedding 300dim\n"
     ]
    }
   ],
   "source": [
    "results_df = pd.DataFrame(scores, index=['Social','Agency'])\n",
    "print(f'========== Results for our best model ==========')\n",
    "display(results_df)\n",
    "print('LSTM model with Glove Embedding 300dim')"
   ]
  },
  {
   "cell_type": "markdown",
   "id": "informal-situation",
   "metadata": {},
   "source": [
    "### Loading the final results pickle file to produse the results.txt file"
   ]
  },
  {
   "cell_type": "code",
   "execution_count": 4,
   "id": "veterinary-movement",
   "metadata": {},
   "outputs": [],
   "source": [
    "res = pd.read_pickle('predicted_data.pkl')"
   ]
  },
  {
   "cell_type": "code",
   "execution_count": 5,
   "id": "adequate-header",
   "metadata": {},
   "outputs": [
    {
     "data": {
      "text/html": [
       "<div>\n",
       "<style scoped>\n",
       "    .dataframe tbody tr th:only-of-type {\n",
       "        vertical-align: middle;\n",
       "    }\n",
       "\n",
       "    .dataframe tbody tr th {\n",
       "        vertical-align: top;\n",
       "    }\n",
       "\n",
       "    .dataframe thead th {\n",
       "        text-align: right;\n",
       "    }\n",
       "</style>\n",
       "<table border=\"1\" class=\"dataframe\">\n",
       "  <thead>\n",
       "    <tr style=\"text-align: right;\">\n",
       "      <th></th>\n",
       "      <th>hmid</th>\n",
       "      <th>moment</th>\n",
       "      <th>social</th>\n",
       "      <th>agency</th>\n",
       "      <th>social_predicted</th>\n",
       "      <th>agency_predicted</th>\n",
       "    </tr>\n",
       "  </thead>\n",
       "  <tbody>\n",
       "    <tr>\n",
       "      <th>0</th>\n",
       "      <td>0</td>\n",
       "      <td>I was able to spend the day with my fiance sho...</td>\n",
       "      <td>no</td>\n",
       "      <td>yes</td>\n",
       "      <td>yes</td>\n",
       "      <td>yes</td>\n",
       "    </tr>\n",
       "    <tr>\n",
       "      <th>1</th>\n",
       "      <td>1</td>\n",
       "      <td>I was able to play with my cat.</td>\n",
       "      <td>no</td>\n",
       "      <td>yes</td>\n",
       "      <td>no</td>\n",
       "      <td>yes</td>\n",
       "    </tr>\n",
       "    <tr>\n",
       "      <th>2</th>\n",
       "      <td>2</td>\n",
       "      <td>I was able to clean my room and gold my laundry.</td>\n",
       "      <td>no</td>\n",
       "      <td>yes</td>\n",
       "      <td>no</td>\n",
       "      <td>yes</td>\n",
       "    </tr>\n",
       "    <tr>\n",
       "      <th>3</th>\n",
       "      <td>3</td>\n",
       "      <td>I spend the day at a party on the beach and I ...</td>\n",
       "      <td>yes</td>\n",
       "      <td>yes</td>\n",
       "      <td>yes</td>\n",
       "      <td>yes</td>\n",
       "    </tr>\n",
       "    <tr>\n",
       "      <th>4</th>\n",
       "      <td>4</td>\n",
       "      <td>My cat greeting me when I got home from work -...</td>\n",
       "      <td>no</td>\n",
       "      <td>no</td>\n",
       "      <td>yes</td>\n",
       "      <td>no</td>\n",
       "    </tr>\n",
       "    <tr>\n",
       "      <th>...</th>\n",
       "      <td>...</td>\n",
       "      <td>...</td>\n",
       "      <td>...</td>\n",
       "      <td>...</td>\n",
       "      <td>...</td>\n",
       "      <td>...</td>\n",
       "    </tr>\n",
       "    <tr>\n",
       "      <th>17210</th>\n",
       "      <td>21892</td>\n",
       "      <td>My wife and I went for a hike last week and we...</td>\n",
       "      <td>yes</td>\n",
       "      <td>yes</td>\n",
       "      <td>yes</td>\n",
       "      <td>yes</td>\n",
       "    </tr>\n",
       "    <tr>\n",
       "      <th>17211</th>\n",
       "      <td>21893</td>\n",
       "      <td>I finally hit platinum rank in Overwatch.</td>\n",
       "      <td>no</td>\n",
       "      <td>yes</td>\n",
       "      <td>no</td>\n",
       "      <td>yes</td>\n",
       "    </tr>\n",
       "    <tr>\n",
       "      <th>17212</th>\n",
       "      <td>21897</td>\n",
       "      <td>One of my long-time friends and I finally ackn...</td>\n",
       "      <td>yes</td>\n",
       "      <td>yes</td>\n",
       "      <td>yes</td>\n",
       "      <td>yes</td>\n",
       "    </tr>\n",
       "    <tr>\n",
       "      <th>17213</th>\n",
       "      <td>21898</td>\n",
       "      <td>I earned a professional certification.</td>\n",
       "      <td>no</td>\n",
       "      <td>yes</td>\n",
       "      <td>no</td>\n",
       "      <td>yes</td>\n",
       "    </tr>\n",
       "    <tr>\n",
       "      <th>17214</th>\n",
       "      <td>21899</td>\n",
       "      <td>I built a new computer.</td>\n",
       "      <td>no</td>\n",
       "      <td>yes</td>\n",
       "      <td>no</td>\n",
       "      <td>yes</td>\n",
       "    </tr>\n",
       "  </tbody>\n",
       "</table>\n",
       "<p>17215 rows × 6 columns</p>\n",
       "</div>"
      ],
      "text/plain": [
       "        hmid                                             moment social agency  \\\n",
       "0          0  I was able to spend the day with my fiance sho...     no    yes   \n",
       "1          1                    I was able to play with my cat.     no    yes   \n",
       "2          2   I was able to clean my room and gold my laundry.     no    yes   \n",
       "3          3  I spend the day at a party on the beach and I ...    yes    yes   \n",
       "4          4  My cat greeting me when I got home from work -...     no     no   \n",
       "...      ...                                                ...    ...    ...   \n",
       "17210  21892  My wife and I went for a hike last week and we...    yes    yes   \n",
       "17211  21893          I finally hit platinum rank in Overwatch.     no    yes   \n",
       "17212  21897  One of my long-time friends and I finally ackn...    yes    yes   \n",
       "17213  21898             I earned a professional certification.     no    yes   \n",
       "17214  21899                            I built a new computer.     no    yes   \n",
       "\n",
       "      social_predicted agency_predicted  \n",
       "0                  yes              yes  \n",
       "1                   no              yes  \n",
       "2                   no              yes  \n",
       "3                  yes              yes  \n",
       "4                  yes               no  \n",
       "...                ...              ...  \n",
       "17210              yes              yes  \n",
       "17211               no              yes  \n",
       "17212              yes              yes  \n",
       "17213               no              yes  \n",
       "17214               no              yes  \n",
       "\n",
       "[17215 rows x 6 columns]"
      ]
     },
     "execution_count": 5,
     "metadata": {},
     "output_type": "execute_result"
    }
   ],
   "source": [
    "res"
   ]
  },
  {
   "cell_type": "markdown",
   "id": "romance-university",
   "metadata": {},
   "source": [
    "### Writing the results to the result.txt file \n",
    "- using the inbuild pyhton file operations"
   ]
  },
  {
   "cell_type": "code",
   "execution_count": 9,
   "id": "approved-watts",
   "metadata": {},
   "outputs": [
    {
     "data": {
      "text/plain": [
       "31"
      ]
     },
     "execution_count": 9,
     "metadata": {},
     "output_type": "execute_result"
    }
   ],
   "source": [
    "file = open('Outputs/Results.txt', 'w')\n",
    "file.write(f'hmid agency_label social_label\\n')"
   ]
  },
  {
   "cell_type": "code",
   "execution_count": 10,
   "id": "hundred-permission",
   "metadata": {},
   "outputs": [
    {
     "name": "stdout",
     "output_type": "stream",
     "text": [
      "Done\n"
     ]
    }
   ],
   "source": [
    "for i in range(len(res)):\n",
    "    hmid, agency_label, social_label = res.loc[i, \"hmid\"], res.loc[i, \"agency_predicted\"], res.loc[i, \"social_predicted\"]\n",
    "    file.write(f'{hmid}\\t{agency_label}\\t  {social_label}\\n')\n",
    "print(\"Done\")\n",
    "# file.close()"
   ]
  },
  {
   "cell_type": "code",
   "execution_count": null,
   "id": "liberal-tsunami",
   "metadata": {},
   "outputs": [],
   "source": []
  }
 ],
 "metadata": {
  "kernelspec": {
   "display_name": "Python 3",
   "language": "python",
   "name": "python3"
  },
  "language_info": {
   "codemirror_mode": {
    "name": "ipython",
    "version": 3
   },
   "file_extension": ".py",
   "mimetype": "text/x-python",
   "name": "python",
   "nbconvert_exporter": "python",
   "pygments_lexer": "ipython3",
   "version": "3.8.2"
  }
 },
 "nbformat": 4,
 "nbformat_minor": 5
}
