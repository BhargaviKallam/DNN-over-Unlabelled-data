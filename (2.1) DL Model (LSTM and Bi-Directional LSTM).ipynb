{
 "cells": [
  {
   "cell_type": "code",
   "execution_count": 1,
   "metadata": {},
   "outputs": [],
   "source": [
    "from numpy import array\n",
    "from keras.preprocessing.sequence import pad_sequences\n",
    "from keras.layers.core import Activation, Dropout, Dense\n",
    "from keras.layers import Flatten, LSTM\n",
    "from keras.models import Model\n",
    "from keras.layers.embeddings import Embedding\n",
    "from keras.preprocessing.text import Tokenizer\n",
    "from keras.layers import Input\n",
    "from keras.models import load_model\n",
    "from keras.layers import Bidirectional\n",
    "\n",
    "from nltk.tokenize import word_tokenize\n",
    "import pandas as pd \n",
    "import numpy as np\n",
    "import re\n",
    "import tensorflow as tf\n",
    "from matplotlib import pyplot as plt\n",
    "\n",
    "\n",
    "\n",
    "from sklearn.metrics import accuracy_score, f1_score, precision_score, recall_score\n",
    "from sklearn.metrics import confusion_matrix\n",
    "\n",
    "from numpy import array\n",
    "from numpy import asarray\n",
    "from numpy import zeros"
   ]
  },
  {
   "cell_type": "markdown",
   "metadata": {},
   "source": [
    "### Loading Pickle files "
   ]
  },
  {
   "cell_type": "code",
   "execution_count": 2,
   "metadata": {},
   "outputs": [
    {
     "data": {
      "text/html": [
       "<div>\n",
       "<style scoped>\n",
       "    .dataframe tbody tr th:only-of-type {\n",
       "        vertical-align: middle;\n",
       "    }\n",
       "\n",
       "    .dataframe tbody tr th {\n",
       "        vertical-align: top;\n",
       "    }\n",
       "\n",
       "    .dataframe thead th {\n",
       "        text-align: right;\n",
       "    }\n",
       "</style>\n",
       "<table border=\"1\" class=\"dataframe\">\n",
       "  <thead>\n",
       "    <tr style=\"text-align: right;\">\n",
       "      <th></th>\n",
       "      <th>hmid</th>\n",
       "      <th>moment</th>\n",
       "      <th>social</th>\n",
       "      <th>agency</th>\n",
       "    </tr>\n",
       "  </thead>\n",
       "  <tbody>\n",
       "    <tr>\n",
       "      <th>0</th>\n",
       "      <td>27674</td>\n",
       "      <td>i happy my son got marks his examination</td>\n",
       "      <td>1</td>\n",
       "      <td>0</td>\n",
       "    </tr>\n",
       "    <tr>\n",
       "      <th>1</th>\n",
       "      <td>27685</td>\n",
       "      <td>went movies my friends it fun</td>\n",
       "      <td>1</td>\n",
       "      <td>1</td>\n",
       "    </tr>\n",
       "    <tr>\n",
       "      <th>2</th>\n",
       "      <td>27691</td>\n",
       "      <td>hot kiss my girl friend last night made my day</td>\n",
       "      <td>1</td>\n",
       "      <td>1</td>\n",
       "    </tr>\n",
       "    <tr>\n",
       "      <th>3</th>\n",
       "      <td>27701</td>\n",
       "      <td>my son woke me fantastic breakfast eggs his sp...</td>\n",
       "      <td>1</td>\n",
       "      <td>0</td>\n",
       "    </tr>\n",
       "    <tr>\n",
       "      <th>4</th>\n",
       "      <td>27712</td>\n",
       "      <td>my older daughter keeps patting my younger dau...</td>\n",
       "      <td>1</td>\n",
       "      <td>0</td>\n",
       "    </tr>\n",
       "  </tbody>\n",
       "</table>\n",
       "</div>"
      ],
      "text/plain": [
       "    hmid                                             moment  social  agency\n",
       "0  27674          i happy my son got marks his examination        1       0\n",
       "1  27685                     went movies my friends it fun        1       1\n",
       "2  27691    hot kiss my girl friend last night made my day        1       1\n",
       "3  27701  my son woke me fantastic breakfast eggs his sp...       1       0\n",
       "4  27712  my older daughter keeps patting my younger dau...       1       0"
      ]
     },
     "execution_count": 2,
     "metadata": {},
     "output_type": "execute_result"
    }
   ],
   "source": [
    "train_df = pd.read_pickle('train.pkl')\n",
    "train_df.name = 'Train Dataset'\n",
    "train_df.head()"
   ]
  },
  {
   "cell_type": "code",
   "execution_count": 3,
   "metadata": {},
   "outputs": [
    {
     "data": {
      "text/html": [
       "<div>\n",
       "<style scoped>\n",
       "    .dataframe tbody tr th:only-of-type {\n",
       "        vertical-align: middle;\n",
       "    }\n",
       "\n",
       "    .dataframe tbody tr th {\n",
       "        vertical-align: top;\n",
       "    }\n",
       "\n",
       "    .dataframe thead th {\n",
       "        text-align: right;\n",
       "    }\n",
       "</style>\n",
       "<table border=\"1\" class=\"dataframe\">\n",
       "  <thead>\n",
       "    <tr style=\"text-align: right;\">\n",
       "      <th></th>\n",
       "      <th>hmid</th>\n",
       "      <th>moment</th>\n",
       "      <th>social</th>\n",
       "      <th>agency</th>\n",
       "    </tr>\n",
       "  </thead>\n",
       "  <tbody>\n",
       "    <tr>\n",
       "      <th>0</th>\n",
       "      <td>0</td>\n",
       "      <td>i able spend day my fiance shopping yesterday</td>\n",
       "      <td>0</td>\n",
       "      <td>1</td>\n",
       "    </tr>\n",
       "    <tr>\n",
       "      <th>1</th>\n",
       "      <td>1</td>\n",
       "      <td>i able play my cat</td>\n",
       "      <td>0</td>\n",
       "      <td>1</td>\n",
       "    </tr>\n",
       "    <tr>\n",
       "      <th>2</th>\n",
       "      <td>2</td>\n",
       "      <td>i able clean my room gold my laundry</td>\n",
       "      <td>0</td>\n",
       "      <td>1</td>\n",
       "    </tr>\n",
       "    <tr>\n",
       "      <th>3</th>\n",
       "      <td>3</td>\n",
       "      <td>i spend day party beach i happy see friends i ...</td>\n",
       "      <td>1</td>\n",
       "      <td>1</td>\n",
       "    </tr>\n",
       "    <tr>\n",
       "      <th>4</th>\n",
       "      <td>4</td>\n",
       "      <td>my cat greeting me i got home work she sweet c...</td>\n",
       "      <td>0</td>\n",
       "      <td>0</td>\n",
       "    </tr>\n",
       "  </tbody>\n",
       "</table>\n",
       "</div>"
      ],
      "text/plain": [
       "   hmid                                             moment  social  agency\n",
       "0     0     i able spend day my fiance shopping yesterday        0       1\n",
       "1     1                                i able play my cat        0       1\n",
       "2     2              i able clean my room gold my laundry        0       1\n",
       "3     3  i spend day party beach i happy see friends i ...       1       1\n",
       "4     4  my cat greeting me i got home work she sweet c...       0       0"
      ]
     },
     "execution_count": 3,
     "metadata": {},
     "output_type": "execute_result"
    }
   ],
   "source": [
    "test_df = pd.read_pickle('test.pkl')\n",
    "test_df.name = \"Test Dataset\"\n",
    "test_df.head()"
   ]
  },
  {
   "cell_type": "markdown",
   "metadata": {},
   "source": [
    "Seperating the X and y features for both the train and test dataset"
   ]
  },
  {
   "cell_type": "code",
   "execution_count": 4,
   "metadata": {},
   "outputs": [],
   "source": [
    "X_train = train_df['moment'].values\n",
    "y_train_social = train_df['social'].values\n",
    "y_train_agency = train_df['agency'].values"
   ]
  },
  {
   "cell_type": "code",
   "execution_count": 5,
   "metadata": {},
   "outputs": [],
   "source": [
    "X_test = test_df['moment'].values\n",
    "y_test_social = test_df['social'].values\n",
    "y_test_agency = test_df['agency'].values"
   ]
  },
  {
   "cell_type": "markdown",
   "metadata": {},
   "source": [
    "#### Some statistical insights about our datasets"
   ]
  },
  {
   "cell_type": "markdown",
   "metadata": {},
   "source": [
    "The TRAIN dataset"
   ]
  },
  {
   "cell_type": "code",
   "execution_count": 6,
   "metadata": {},
   "outputs": [
    {
     "name": "stdout",
     "output_type": "stream",
     "text": [
      "Sentence : it my th birthday i slept night i woke birthday morning i found my parents travelled my native my place my husband my kid arranged surprise birthday party i really moved my familys affection love they me made me really happy proud protected \n",
      "Length :43\n",
      "Average Sentence Length : 9.144340288277391\n",
      "Standard Dev : 4.58961222102695\n"
     ]
    }
   ],
   "source": [
    "import statistics\n",
    "length = 0\n",
    "val = \"\"\n",
    "train_avg = []\n",
    "for sentence in X_train:\n",
    "    sen_len = len(word_tokenize(sentence))\n",
    "    train_avg.append(sen_len)\n",
    "    if sen_len > length:\n",
    "        length = sen_len\n",
    "        val = sentence\n",
    "print(f'Sentence : {val}\\nLength :{length}')\n",
    "print(f'Average Sentence Length : {sum(train_avg) / len(train_avg)}')\n",
    "print(f'Standard Dev : {statistics.pstdev(train_avg)}') "
   ]
  },
  {
   "cell_type": "markdown",
   "metadata": {},
   "source": [
    "The TEST dataset"
   ]
  },
  {
   "cell_type": "code",
   "execution_count": 7,
   "metadata": {},
   "outputs": [
    {
     "name": "stdout",
     "output_type": "stream",
     "text": [
      "Sentence : event i would know it big small i bought my car made me happy long time hard work buy it i could it it made me happy past i tried raise money buy it everything resulted failure something damaged i buy something new even large part my money stolen i forgot my portfolio somewhere my nephew hid me my carelessness i lost money my father helped me replenish part money working long time i managed buy it i realized great effort i achieve anything i want \n",
      "Length :86\n",
      "Average Sentence Length : 9.36282311937264\n"
     ]
    }
   ],
   "source": [
    "length = 0\n",
    "val = \"\"\n",
    "test_avg = []\n",
    "for sentence in X_test:\n",
    "    sen_len = len(word_tokenize(sentence))\n",
    "    test_avg.append(sen_len)\n",
    "    if sen_len > length:\n",
    "        length = sen_len\n",
    "        val = sentence\n",
    "print(f'Sentence : {val}\\nLength :{length}')\n",
    "print(f'Average Sentence Length : {sum(test_avg) / len(test_avg)}')"
   ]
  },
  {
   "cell_type": "markdown",
   "metadata": {},
   "source": [
    "#### The following code block is used to : \n",
    "- Convert texts to sequence\n",
    "- Then pad these sequences based on the max_len variable which is 25 in our case\n",
    "- The max_len = 25 variable was choosen based on the criteria that majority of the sentences did fit under this value, which eventually enables us to have a dense matrix.\n",
    "- Values 9 and 10 were also considered as the max_len val but did not produce promising results. They were choosen based on the fact that the average length of a sentence in this corpora is 9.36 (after text pre-processing)"
   ]
  },
  {
   "cell_type": "code",
   "execution_count": 8,
   "metadata": {},
   "outputs": [],
   "source": [
    "tokenizer = Tokenizer()\n",
    "tokenizer.fit_on_texts(X_train)\n",
    "\n",
    "X_train = tokenizer.texts_to_sequences(X_train)\n",
    "X_test = tokenizer.texts_to_sequences(X_test)\n",
    "\n",
    "vocab_size = len(tokenizer.word_index) + 1\n",
    "\n",
    "maxlen = 25\n",
    "\n",
    "X_train = pad_sequences(X_train, padding='post', maxlen=maxlen)\n",
    "X_test = pad_sequences(X_test, padding='post', maxlen=maxlen)"
   ]
  },
  {
   "cell_type": "code",
   "execution_count": 9,
   "metadata": {},
   "outputs": [
    {
     "data": {
      "text/plain": [
       "((9921, 25), (17215, 25))"
      ]
     },
     "execution_count": 9,
     "metadata": {},
     "output_type": "execute_result"
    }
   ],
   "source": [
    "X_train.shape, X_test.shape"
   ]
  },
  {
   "cell_type": "markdown",
   "metadata": {},
   "source": [
    "#### Printing the top rows both text and numerical\n",
    "- This gives us an idea of how the 1st value is converted to vector of 25 dimensions\n"
   ]
  },
  {
   "cell_type": "code",
   "execution_count": 10,
   "metadata": {},
   "outputs": [
    {
     "name": "stdout",
     "output_type": "stream",
     "text": [
      "i happy my son got marks his examination \n",
      "[   1    4    2   28    5 1819   37 1820    0    0    0    0    0    0\n",
      "    0    0    0    0    0    0    0    0    0    0    0]\n"
     ]
    }
   ],
   "source": [
    "print(train_df['moment'][0])\n",
    "print(X_train[0])"
   ]
  },
  {
   "cell_type": "markdown",
   "metadata": {},
   "source": [
    "#### The following code block is used to build an embedding matrix with the following configuration\n",
    "\n",
    "- Glove Embedding with 300 dimensions"
   ]
  },
  {
   "cell_type": "code",
   "execution_count": 11,
   "metadata": {},
   "outputs": [],
   "source": [
    "embeddings_dictionary = dict()\n",
    "\n",
    "glove_file = open('glove.6B/glove.6B.300d.txt', encoding=\"utf8\")\n",
    "\n",
    "for line in glove_file:\n",
    "    records = line.split()\n",
    "    word = records[0]\n",
    "    vector_dimensions = asarray(records[1:], dtype='float32')\n",
    "    embeddings_dictionary[word] = vector_dimensions\n",
    "glove_file.close()\n",
    "\n",
    "embedding_matrix = zeros((vocab_size, 300))\n",
    "for word, index in tokenizer.word_index.items():\n",
    "    embedding_vector = embeddings_dictionary.get(word)\n",
    "    if embedding_vector is not None:\n",
    "        embedding_matrix[index] = embedding_vector"
   ]
  },
  {
   "cell_type": "markdown",
   "metadata": {},
   "source": [
    "### Method to test the Accuracy, Precision, Recall and F1 Score\n"
   ]
  },
  {
   "cell_type": "markdown",
   "metadata": {},
   "source": [
    "The following method transforms the output to binary values before calculating the scores"
   ]
  },
  {
   "cell_type": "code",
   "execution_count": 12,
   "metadata": {},
   "outputs": [],
   "source": [
    "def transformResults(predictions):\n",
    "    print(\"\"\"The output here is of the form float, thus we are converting it to binary output based on the following \n",
    "condition if a value is > .5 we assign it with 1 and if a value is <.5 we assign it with 0\"\"\")\n",
    "    \n",
    "    print(\"\\nConverting the ouput to 1D array, and then transformimg the values based on the above condition\\n\")\n",
    "    predictions = predictions[:, 0]\n",
    "    print(f'First 5 values before conversion : {predictions[:5]}')\n",
    "    \n",
    "    predictions = [1 if val>0.5 else 0 for val in predictions]\n",
    "    print(f'First 5 values after the conversion : {predictions[:5]}')\n",
    "    return predictions"
   ]
  },
  {
   "cell_type": "code",
   "execution_count": 13,
   "metadata": {},
   "outputs": [],
   "source": [
    "def getResults(y_test, model_prediction):\n",
    "    model_prediction = transformResults(model_prediction)\n",
    "    print(\"\\n========== RESULTS ===========\\n\")\n",
    "    accuracy = accuracy_score(y_test, model_prediction)\n",
    "    precision = precision_score(y_test, model_prediction)\n",
    "    f1 = f1_score(y_test, model_prediction)\n",
    "    recall = recall_score(y_test, model_prediction)\n",
    "    print(f'Accuracy : {accuracy}\\nPrecision : {precision}\\nF1_score : {f1}\\nRecall : {recall}\\n')\n",
    "    \n",
    "    print(\"===== CONFUSION MATRIX =====\")\n",
    "    cf_matrix = confusion_matrix(y_test_social, model_prediction)\n",
    "    print(cf_matrix)\n",
    "    \n",
    "    return accuracy, precision, f1, recall"
   ]
  },
  {
   "cell_type": "markdown",
   "metadata": {},
   "source": [
    "### Building the LSTM model \n",
    "with Embedding layer, LSTM layer and Dense layer with a single unit\n",
    "\n",
    "This will be seperately evaluated for both the social and agency labels"
   ]
  },
  {
   "cell_type": "code",
   "execution_count": 14,
   "metadata": {},
   "outputs": [],
   "source": [
    "def getLSTMModel():\n",
    "    deep_inputs = Input(shape=(maxlen,))\n",
    "    embedding_layer = Embedding(vocab_size, 300, weights=[embedding_matrix], trainable=False)(deep_inputs)\n",
    "    LSTM_Layer_1 = LSTM(128)(embedding_layer)\n",
    "    dense_layer_1 = Dense(1, activation='sigmoid')(LSTM_Layer_1)\n",
    "    model = Model(inputs=deep_inputs, outputs=dense_layer_1)\n",
    "    model.compile(loss='binary_crossentropy', optimizer='adam', metrics=['acc'])\n",
    "    print(model.summary())\n",
    "    return model"
   ]
  },
  {
   "cell_type": "code",
   "execution_count": 15,
   "metadata": {},
   "outputs": [
    {
     "name": "stdout",
     "output_type": "stream",
     "text": [
      "Model: \"model\"\n",
      "_________________________________________________________________\n",
      "Layer (type)                 Output Shape              Param #   \n",
      "=================================================================\n",
      "input_1 (InputLayer)         [(None, 25)]              0         \n",
      "_________________________________________________________________\n",
      "embedding (Embedding)        (None, 25, 300)           2178900   \n",
      "_________________________________________________________________\n",
      "lstm (LSTM)                  (None, 128)               219648    \n",
      "_________________________________________________________________\n",
      "dense (Dense)                (None, 1)                 129       \n",
      "=================================================================\n",
      "Total params: 2,398,677\n",
      "Trainable params: 219,777\n",
      "Non-trainable params: 2,178,900\n",
      "_________________________________________________________________\n",
      "None\n"
     ]
    }
   ],
   "source": [
    "model = getLSTMModel()"
   ]
  },
  {
   "cell_type": "markdown",
   "metadata": {},
   "source": [
    "### Fit the model for the Social label"
   ]
  },
  {
   "cell_type": "code",
   "execution_count": 16,
   "metadata": {},
   "outputs": [
    {
     "name": "stdout",
     "output_type": "stream",
     "text": [
      "Epoch 1/10\n",
      "62/62 [==============================] - 5s 56ms/step - loss: 0.5506 - acc: 0.6980 - val_loss: 0.2792 - val_acc: 0.8982\n",
      "Epoch 2/10\n",
      "62/62 [==============================] - 3s 43ms/step - loss: 0.2657 - acc: 0.9009 - val_loss: 0.2540 - val_acc: 0.9023\n",
      "Epoch 3/10\n",
      "62/62 [==============================] - 3s 43ms/step - loss: 0.2475 - acc: 0.9069 - val_loss: 0.2495 - val_acc: 0.9058\n",
      "Epoch 4/10\n",
      "62/62 [==============================] - 3s 44ms/step - loss: 0.2411 - acc: 0.9116 - val_loss: 0.2362 - val_acc: 0.9108\n",
      "Epoch 5/10\n",
      "62/62 [==============================] - 3s 45ms/step - loss: 0.2013 - acc: 0.9292 - val_loss: 0.2472 - val_acc: 0.9073\n",
      "Epoch 6/10\n",
      "62/62 [==============================] - 3s 44ms/step - loss: 0.1908 - acc: 0.9313 - val_loss: 0.2598 - val_acc: 0.9018\n",
      "Epoch 7/10\n",
      "62/62 [==============================] - 3s 45ms/step - loss: 0.1841 - acc: 0.9371 - val_loss: 0.2464 - val_acc: 0.9134\n",
      "Epoch 8/10\n",
      "62/62 [==============================] - 3s 46ms/step - loss: 0.1598 - acc: 0.9448 - val_loss: 0.2796 - val_acc: 0.8952\n",
      "Epoch 9/10\n",
      "62/62 [==============================] - 3s 45ms/step - loss: 0.1651 - acc: 0.9466 - val_loss: 0.2639 - val_acc: 0.9088\n",
      "Epoch 10/10\n",
      "62/62 [==============================] - 3s 45ms/step - loss: 0.1385 - acc: 0.9531 - val_loss: 0.2688 - val_acc: 0.9088\n"
     ]
    }
   ],
   "source": [
    "history = model.fit(X_train, y_train_social, batch_size=128, epochs=10, verbose=1, validation_split=0.2)"
   ]
  },
  {
   "cell_type": "code",
   "execution_count": 17,
   "metadata": {},
   "outputs": [
    {
     "name": "stdout",
     "output_type": "stream",
     "text": [
      "[0.98787105 0.20131403 0.20964587 ... 0.9888565  0.02677613 0.02373868]\n"
     ]
    }
   ],
   "source": [
    "predictions = model.predict(X_test)\n",
    "print(predictions[:,0])"
   ]
  },
  {
   "cell_type": "code",
   "execution_count": 18,
   "metadata": {},
   "outputs": [
    {
     "name": "stdout",
     "output_type": "stream",
     "text": [
      "The output here is of the form float, thus we are converting it to binary output based on the following \n",
      "condition if a value is > .5 we assign it with 1 and if a value is <.5 we assign it with 0\n",
      "\n",
      "Converting the ouput to 1D array, and then transformimg the values based on the above condition\n",
      "\n",
      "First 5 values before conversion : [0.98787105 0.20131403 0.20964587 0.9872048  0.94163674]\n",
      "First 5 values after the conversion : [1, 0, 0, 1, 1]\n",
      "\n",
      "========== RESULTS ===========\n",
      "\n",
      "Accuracy : 0.9025268661051409\n",
      "Precision : 0.9155578300921188\n",
      "F1_score : 0.9142477514309076\n",
      "Recall : 0.9129414166156359\n",
      "\n",
      "===== CONFUSION MATRIX =====\n",
      "[[6592  825]\n",
      " [ 853 8945]]\n"
     ]
    }
   ],
   "source": [
    "social_results = getResults(y_test_social, predictions)"
   ]
  },
  {
   "cell_type": "markdown",
   "metadata": {},
   "source": [
    "### Fit the model for the Agency Label"
   ]
  },
  {
   "cell_type": "code",
   "execution_count": 19,
   "metadata": {},
   "outputs": [
    {
     "name": "stdout",
     "output_type": "stream",
     "text": [
      "Epoch 1/10\n",
      "62/62 [==============================] - 3s 46ms/step - loss: 0.5767 - acc: 0.7535 - val_loss: 0.4457 - val_acc: 0.8045\n",
      "Epoch 2/10\n",
      "62/62 [==============================] - 3s 45ms/step - loss: 0.4199 - acc: 0.8250 - val_loss: 0.4037 - val_acc: 0.8186\n",
      "Epoch 3/10\n",
      "62/62 [==============================] - 3s 44ms/step - loss: 0.3657 - acc: 0.8465 - val_loss: 0.3780 - val_acc: 0.8403\n",
      "Epoch 4/10\n",
      "62/62 [==============================] - 3s 46ms/step - loss: 0.3385 - acc: 0.8561 - val_loss: 0.3686 - val_acc: 0.8418\n",
      "Epoch 5/10\n",
      "62/62 [==============================] - 3s 45ms/step - loss: 0.3186 - acc: 0.8633 - val_loss: 0.3581 - val_acc: 0.8423\n",
      "Epoch 6/10\n",
      "62/62 [==============================] - 3s 45ms/step - loss: 0.3143 - acc: 0.8663 - val_loss: 0.3614 - val_acc: 0.8448\n",
      "Epoch 7/10\n",
      "62/62 [==============================] - 3s 45ms/step - loss: 0.2934 - acc: 0.8754 - val_loss: 0.3713 - val_acc: 0.8413\n",
      "Epoch 8/10\n",
      "62/62 [==============================] - 3s 45ms/step - loss: 0.2809 - acc: 0.8755 - val_loss: 0.3776 - val_acc: 0.8428\n",
      "Epoch 9/10\n",
      "62/62 [==============================] - 3s 45ms/step - loss: 0.2746 - acc: 0.8832 - val_loss: 0.3643 - val_acc: 0.8428\n",
      "Epoch 10/10\n",
      "62/62 [==============================] - 3s 45ms/step - loss: 0.2548 - acc: 0.8881 - val_loss: 0.4065 - val_acc: 0.8428\n"
     ]
    }
   ],
   "source": [
    "history = model.fit(X_train, y_train_agency, batch_size=128, epochs=10, verbose=1, validation_split=0.2)"
   ]
  },
  {
   "cell_type": "code",
   "execution_count": 20,
   "metadata": {},
   "outputs": [
    {
     "name": "stdout",
     "output_type": "stream",
     "text": [
      "[0.99298584 0.9937976  0.9938735  ... 0.54341716 0.94172114 0.9941218 ]\n"
     ]
    }
   ],
   "source": [
    "predictions = model.predict(X_test)\n",
    "print(predictions[:,0])"
   ]
  },
  {
   "cell_type": "code",
   "execution_count": 21,
   "metadata": {},
   "outputs": [
    {
     "name": "stdout",
     "output_type": "stream",
     "text": [
      "The output here is of the form float, thus we are converting it to binary output based on the following \n",
      "condition if a value is > .5 we assign it with 1 and if a value is <.5 we assign it with 0\n",
      "\n",
      "Converting the ouput to 1D array, and then transformimg the values based on the above condition\n",
      "\n",
      "First 5 values before conversion : [0.99298584 0.9937976  0.9938735  0.99229634 0.3139503 ]\n",
      "First 5 values after the conversion : [1, 1, 1, 1, 0]\n",
      "\n",
      "========== RESULTS ===========\n",
      "\n",
      "Accuracy : 0.8271275050827767\n",
      "Precision : 0.8541666666666666\n",
      "F1_score : 0.8815097945532728\n",
      "Recall : 0.9106614017769002\n",
      "\n",
      "===== CONFUSION MATRIX =====\n",
      "[[ 800 6617]\n",
      " [3455 6343]]\n"
     ]
    }
   ],
   "source": [
    "agency_results = getResults(y_test_agency, predictions)"
   ]
  },
  {
   "cell_type": "markdown",
   "metadata": {},
   "source": [
    "### ACCURACY scores for social and agency label with LSTM model"
   ]
  },
  {
   "cell_type": "code",
   "execution_count": 22,
   "metadata": {},
   "outputs": [
    {
     "data": {
      "text/plain": [
       "<Figure size 432x288 with 0 Axes>"
      ]
     },
     "metadata": {},
     "output_type": "display_data"
    },
    {
     "data": {
      "image/png": "[encoded data removed]",
      "text/plain": [
       "<Figure size 720x360 with 1 Axes>"
      ]
     },
     "metadata": {
      "needs_background": "light"
     },
     "output_type": "display_data"
    }
   ],
   "source": [
    "fig = plt.figure()\n",
    "fig = plt.figure(figsize = (10, 5))\n",
    "label = ['Social', 'Agency']\n",
    "scores = [social_results[0], agency_results[0]]\n",
    "plt.ylabel(\"LABEL\")\n",
    "plt.xlabel(\"SCORES\")\n",
    "plt.barh(label,scores)\n",
    "plt.title(\"ACCURACY SCORES FOR THE SOCIAL AND AGENCY LABELS FOR LSTM Model\")\n",
    "for index, value in enumerate(scores):\n",
    "    plt.text(value, index, str(round(value, 2)))\n",
    "plt.show()"
   ]
  },
  {
   "cell_type": "markdown",
   "metadata": {},
   "source": [
    "## BI-DIRECTIONAL LSTM MODEL"
   ]
  },
  {
   "cell_type": "markdown",
   "metadata": {},
   "source": [
    "Method to bulid the bi-directional LSTM model"
   ]
  },
  {
   "cell_type": "code",
   "execution_count": 23,
   "metadata": {},
   "outputs": [],
   "source": [
    "def getBidirectionalModel():\n",
    "    # Input for variable-length sequences of integers\n",
    "    inputs = Input(shape=(maxlen,))\n",
    "    # Embedding layer\n",
    "    x = Embedding(vocab_size, 300, weights=[embedding_matrix], trainable=False)(inputs)\n",
    "    # Add bidirectional LSTMs\n",
    "    x = Bidirectional(LSTM(128, return_sequences=True))(x)\n",
    "    x = Bidirectional(LSTM(128))(x)\n",
    "    # Dense layer\n",
    "    outputs = Dense(1, activation=\"sigmoid\")(x)\n",
    "    model = Model(inputs, outputs)\n",
    "    print(model.summary())\n",
    "    model.compile(\"adam\", \"binary_crossentropy\", metrics=[\"accuracy\"])\n",
    "    return model"
   ]
  },
  {
   "cell_type": "code",
   "execution_count": 24,
   "metadata": {},
   "outputs": [
    {
     "name": "stdout",
     "output_type": "stream",
     "text": [
      "Model: \"model_1\"\n",
      "_________________________________________________________________\n",
      "Layer (type)                 Output Shape              Param #   \n",
      "=================================================================\n",
      "input_2 (InputLayer)         [(None, 25)]              0         \n",
      "_________________________________________________________________\n",
      "embedding_1 (Embedding)      (None, 25, 300)           2178900   \n",
      "_________________________________________________________________\n",
      "bidirectional (Bidirectional (None, 25, 256)           439296    \n",
      "_________________________________________________________________\n",
      "bidirectional_1 (Bidirection (None, 256)               394240    \n",
      "_________________________________________________________________\n",
      "dense_1 (Dense)              (None, 1)                 257       \n",
      "=================================================================\n",
      "Total params: 3,012,693\n",
      "Trainable params: 833,793\n",
      "Non-trainable params: 2,178,900\n",
      "_________________________________________________________________\n",
      "None\n"
     ]
    }
   ],
   "source": [
    "model_LSTM_bi_di = getBidirectionalModel()"
   ]
  },
  {
   "cell_type": "markdown",
   "metadata": {},
   "source": [
    "### Fit the model for the Social label"
   ]
  },
  {
   "cell_type": "code",
   "execution_count": 25,
   "metadata": {},
   "outputs": [
    {
     "name": "stdout",
     "output_type": "stream",
     "text": [
      "Epoch 1/10\n",
      "62/62 [==============================] - 14s 177ms/step - loss: 0.4643 - accuracy: 0.7656 - val_loss: 0.2744 - val_accuracy: 0.8937\n",
      "Epoch 2/10\n",
      "62/62 [==============================] - 10s 164ms/step - loss: 0.2640 - accuracy: 0.8952 - val_loss: 0.2508 - val_accuracy: 0.9033\n",
      "Epoch 3/10\n",
      "62/62 [==============================] - 10s 164ms/step - loss: 0.2293 - accuracy: 0.9127 - val_loss: 0.2471 - val_accuracy: 0.9048\n",
      "Epoch 4/10\n",
      "62/62 [==============================] - 10s 163ms/step - loss: 0.2153 - accuracy: 0.9202 - val_loss: 0.2349 - val_accuracy: 0.9144\n",
      "Epoch 5/10\n",
      "62/62 [==============================] - 10s 164ms/step - loss: 0.1920 - accuracy: 0.9276 - val_loss: 0.2594 - val_accuracy: 0.9128\n",
      "Epoch 6/10\n",
      "62/62 [==============================] - 10s 162ms/step - loss: 0.1579 - accuracy: 0.9418 - val_loss: 0.2624 - val_accuracy: 0.9003\n",
      "Epoch 7/10\n",
      "62/62 [==============================] - 10s 161ms/step - loss: 0.1527 - accuracy: 0.9465 - val_loss: 0.2607 - val_accuracy: 0.9063\n",
      "Epoch 8/10\n",
      "62/62 [==============================] - 10s 161ms/step - loss: 0.1251 - accuracy: 0.9594 - val_loss: 0.3272 - val_accuracy: 0.8962\n",
      "Epoch 9/10\n",
      "62/62 [==============================] - 10s 162ms/step - loss: 0.1019 - accuracy: 0.9652 - val_loss: 0.3033 - val_accuracy: 0.9078\n",
      "Epoch 10/10\n",
      "62/62 [==============================] - 10s 162ms/step - loss: 0.0816 - accuracy: 0.9708 - val_loss: 0.3724 - val_accuracy: 0.8967\n"
     ]
    }
   ],
   "source": [
    "history = model_LSTM_bi_di.fit(X_train, y_train_social, batch_size=128, epochs=10, verbose=1, validation_split=0.2)"
   ]
  },
  {
   "cell_type": "code",
   "execution_count": 26,
   "metadata": {},
   "outputs": [
    {
     "name": "stdout",
     "output_type": "stream",
     "text": [
      "[9.96869087e-01 1.18997395e-02 2.39819288e-04 ... 9.86786723e-01\n",
      " 2.17863917e-03 2.49305367e-03]\n"
     ]
    }
   ],
   "source": [
    "predictions_bi_LSTM_social = model_LSTM_bi_di.predict(X_test)\n",
    "print(predictions_bi_LSTM_social[:,0])"
   ]
  },
  {
   "cell_type": "code",
   "execution_count": 27,
   "metadata": {},
   "outputs": [
    {
     "name": "stdout",
     "output_type": "stream",
     "text": [
      "The output here is of the form float, thus we are converting it to binary output based on the following \n",
      "condition if a value is > .5 we assign it with 1 and if a value is <.5 we assign it with 0\n",
      "\n",
      "Converting the ouput to 1D array, and then transformimg the values based on the above condition\n",
      "\n",
      "First 5 values before conversion : [9.96869087e-01 1.18997395e-02 2.39819288e-04 8.73877287e-01\n",
      " 9.96505022e-01]\n",
      "First 5 values after the conversion : [1, 0, 0, 1, 1]\n",
      "\n",
      "========== RESULTS ===========\n",
      "\n",
      "Accuracy : 0.8981121115306419\n",
      "Precision : 0.9249788672865596\n",
      "F1_score : 0.9089398816322293\n",
      "Recall : 0.893447642375995\n",
      "\n",
      "===== CONFUSION MATRIX =====\n",
      "[[6707  710]\n",
      " [1044 8754]]\n"
     ]
    }
   ],
   "source": [
    "social_results_bi_LSTM = getResults(y_test_social, predictions_bi_LSTM_social)"
   ]
  },
  {
   "cell_type": "markdown",
   "metadata": {},
   "source": [
    "### Fit the model for the Agency label"
   ]
  },
  {
   "cell_type": "code",
   "execution_count": 28,
   "metadata": {},
   "outputs": [
    {
     "name": "stdout",
     "output_type": "stream",
     "text": [
      "Epoch 1/10\n",
      "62/62 [==============================] - 10s 163ms/step - loss: 0.5150 - accuracy: 0.7843 - val_loss: 0.3993 - val_accuracy: 0.8272\n",
      "Epoch 2/10\n",
      "62/62 [==============================] - 10s 162ms/step - loss: 0.3578 - accuracy: 0.8449 - val_loss: 0.3659 - val_accuracy: 0.8489\n",
      "Epoch 3/10\n",
      "62/62 [==============================] - 10s 162ms/step - loss: 0.3226 - accuracy: 0.8634 - val_loss: 0.3593 - val_accuracy: 0.8504\n",
      "Epoch 4/10\n",
      "62/62 [==============================] - 10s 163ms/step - loss: 0.3045 - accuracy: 0.8715 - val_loss: 0.3519 - val_accuracy: 0.8458\n",
      "Epoch 5/10\n",
      "62/62 [==============================] - 10s 163ms/step - loss: 0.2865 - accuracy: 0.8797 - val_loss: 0.3645 - val_accuracy: 0.8413\n",
      "Epoch 6/10\n",
      "62/62 [==============================] - 10s 165ms/step - loss: 0.2633 - accuracy: 0.8876 - val_loss: 0.3653 - val_accuracy: 0.8383\n",
      "Epoch 7/10\n",
      "62/62 [==============================] - 10s 163ms/step - loss: 0.2351 - accuracy: 0.9017 - val_loss: 0.3771 - val_accuracy: 0.8469\n",
      "Epoch 8/10\n",
      "62/62 [==============================] - 10s 164ms/step - loss: 0.2100 - accuracy: 0.9131 - val_loss: 0.4106 - val_accuracy: 0.8277\n",
      "Epoch 9/10\n",
      "62/62 [==============================] - 10s 164ms/step - loss: 0.1832 - accuracy: 0.9235 - val_loss: 0.4340 - val_accuracy: 0.8302\n",
      "Epoch 10/10\n",
      "62/62 [==============================] - 10s 166ms/step - loss: 0.1484 - accuracy: 0.9380 - val_loss: 0.4988 - val_accuracy: 0.8232\n"
     ]
    }
   ],
   "source": [
    "history = model_LSTM_bi_di.fit(X_train, y_train_agency, batch_size=128, epochs=10, verbose=1, validation_split=0.2)"
   ]
  },
  {
   "cell_type": "code",
   "execution_count": 29,
   "metadata": {},
   "outputs": [
    {
     "name": "stdout",
     "output_type": "stream",
     "text": [
      "[0.9996569  0.99996233 0.9999887  ... 0.80111706 0.95497775 0.99995303]\n"
     ]
    }
   ],
   "source": [
    "predictions_bi_LSTM_agency = model_LSTM_bi_di.predict(X_test)\n",
    "print(predictions_bi_LSTM_agency[:,0])"
   ]
  },
  {
   "cell_type": "code",
   "execution_count": 30,
   "metadata": {},
   "outputs": [
    {
     "name": "stdout",
     "output_type": "stream",
     "text": [
      "The output here is of the form float, thus we are converting it to binary output based on the following \n",
      "condition if a value is > .5 we assign it with 1 and if a value is <.5 we assign it with 0\n",
      "\n",
      "Converting the ouput to 1D array, and then transformimg the values based on the above condition\n",
      "\n",
      "First 5 values before conversion : [0.9996569  0.99996233 0.9999887  0.99998367 0.1023542 ]\n",
      "First 5 values after the conversion : [1, 1, 1, 1, 0]\n",
      "\n",
      "========== RESULTS ===========\n",
      "\n",
      "Accuracy : 0.8155097298867267\n",
      "Precision : 0.8485483620555815\n",
      "F1_score : 0.873152807732247\n",
      "Recall : 0.8992267193155643\n",
      "\n",
      "===== CONFUSION MATRIX =====\n",
      "[[ 944 6473]\n",
      " [3389 6409]]\n"
     ]
    }
   ],
   "source": [
    "agency_results_bi_LSTM = getResults(y_test_agency, predictions_bi_LSTM_agency)"
   ]
  },
  {
   "cell_type": "markdown",
   "metadata": {},
   "source": [
    "### ACCURACY scores for social and agency label with BI-DIRECTIONAL LSTM model"
   ]
  },
  {
   "cell_type": "code",
   "execution_count": 31,
   "metadata": {},
   "outputs": [
    {
     "data": {
      "text/plain": [
       "<Figure size 432x288 with 0 Axes>"
      ]
     },
     "metadata": {},
     "output_type": "display_data"
    },
    {
     "data": {
      "image/png": "[encoded data removed]",
      "text/plain": [
       "<Figure size 720x360 with 1 Axes>"
      ]
     },
     "metadata": {
      "needs_background": "light"
     },
     "output_type": "display_data"
    }
   ],
   "source": [
    "fig = plt.figure()\n",
    "fig = plt.figure(figsize = (10, 5))\n",
    "label = ['Social', 'Agency']\n",
    "scores = [social_results_bi_LSTM[0], agency_results_bi_LSTM[0]]\n",
    "plt.ylabel(\"LABEL\")\n",
    "plt.xlabel(\"SCORES\")\n",
    "plt.barh(label,scores)\n",
    "plt.title(\"ACCURACY SCORES FOR THE SOCIAL AND AGENCY LABELS FOR BI DIRECTIONAL LSTM Model\")\n",
    "for index, value in enumerate(scores):\n",
    "    plt.text(value, index, str(round(value, 2)))\n",
    "plt.show()"
   ]
  },
  {
   "cell_type": "markdown",
   "metadata": {},
   "source": [
    "## RESULTS"
   ]
  },
  {
   "cell_type": "code",
   "execution_count": 32,
   "metadata": {},
   "outputs": [
    {
     "data": {
      "text/plain": [
       "<Figure size 432x288 with 0 Axes>"
      ]
     },
     "metadata": {},
     "output_type": "display_data"
    },
    {
     "data": {
      "image/png": "[encoded data removed]",
      "text/plain": [
       "<Figure size 720x360 with 1 Axes>"
      ]
     },
     "metadata": {
      "needs_background": "light"
     },
     "output_type": "display_data"
    }
   ],
   "source": [
    "fig = plt.figure()\n",
    "fig = plt.figure(figsize = (10, 5))\n",
    "label = ['LSTM (Social)', 'Bi-Directional LSTM (Social)', 'LSTM (Agency)', 'Bi-Directional (Agency)']\n",
    "scores = [social_results[0], social_results_bi_LSTM[0], agency_results[0], agency_results_bi_LSTM[0]]\n",
    "plt.ylabel(\"LABEL\")\n",
    "plt.xlabel(\"SCORES\")\n",
    "plt.barh(label,scores)\n",
    "plt.title(\"ACCURACY SCORES FOR THE SOCIAL AND AGENCY LABELS FOR BI DIRECTIONAL LSTM and LSTM Model\")\n",
    "for index, value in enumerate(scores):\n",
    "    plt.text(value, index, str(round(value, 2)))\n",
    "plt.show()"
   ]
  },
  {
   "cell_type": "markdown",
   "metadata": {},
   "source": [
    "LSTM model outperforms Bi-Directinoal LSTM by a marginal val"
   ]
  }
 ],
 "metadata": {
  "kernelspec": {
   "display_name": "Python 3",
   "language": "python",
   "name": "python3"
  },
  "language_info": {
   "codemirror_mode": {
    "name": "ipython",
    "version": 3
   },
   "file_extension": ".py",
   "mimetype": "text/x-python",
   "name": "python",
   "nbconvert_exporter": "python",
   "pygments_lexer": "ipython3",
   "version": "3.8.2"
  }
 },
 "nbformat": 4,
 "nbformat_minor": 4
}
